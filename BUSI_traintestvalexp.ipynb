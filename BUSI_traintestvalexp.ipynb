{
 "cells": [
  {
   "cell_type": "code",
   "execution_count": 8,
   "id": "2047f4f1",
   "metadata": {},
   "outputs": [
    {
     "name": "stdout",
     "output_type": "stream",
     "text": [
      "/media/omkar/646AC6B66AC684701\n"
     ]
    }
   ],
   "source": [
    "import os\n",
    "os.getcwd()\n",
    "c = os.path.join('/media', 'omkar', '646AC6B66AC684701')\n",
    "print(c)"
   ]
  },
  {
   "cell_type": "code",
   "execution_count": 2,
   "id": "372204ba",
   "metadata": {},
   "outputs": [],
   "source": [
    "f = open('utils/BUSI_multiloss/test.txt', 'r')"
   ]
  },
  {
   "cell_type": "code",
   "execution_count": 3,
   "id": "2272d004",
   "metadata": {},
   "outputs": [],
   "source": [
    "x = f.read()"
   ]
  },
  {
   "cell_type": "code",
   "execution_count": 4,
   "id": "14789474",
   "metadata": {},
   "outputs": [
    {
     "name": "stdout",
     "output_type": "stream",
     "text": [
      "'malignant/malignant (138)', 'malignant/malignant (125)', 'malignant/malignant (85)', 'malignant/malignant (58)', 'benign/benign (119)', 'benign/benign (84)', 'benign/benign (196)', 'benign/benign (125)', 'malignant/malignant (127)', 'benign/benign (421)', 'malignant/malignant (208)', 'malignant/malignant (7)', 'malignant/malignant (160)', 'benign/benign (238)', 'benign/benign (252)', 'benign/benign (85)', 'benign/benign (40)', 'benign/benign (291)', 'malignant/malignant (41)', 'malignant/malignant (169)', 'benign/benign (320)', 'benign/benign (250)', 'malignant/malignant (102)', 'benign/benign (353)', 'malignant/malignant (159)', 'malignant/malignant (13)', 'benign/benign (236)', 'benign/benign (105)', 'malignant/malignant (52)', 'benign/benign (72)', 'benign/benign (266)', 'benign/benign (315)', 'benign/benign (337)', 'benign/benign (198)', 'malignant/malignant (179)', 'benign/benign (73)', 'benign/benign (369)', 'benign/benign (373)', 'malignant/malignant (189)', 'benign/benign (365)', 'benign/benign (305)', 'benign/benign (66)', 'malignant/malignant (137)', 'benign/benign (268)', 'malignant/malignant (187)', 'benign/benign (58)', 'benign/benign (173)', 'malignant/malignant (142)', 'benign/benign (229)', 'malignant/malignant (171)', 'benign/benign (80)', 'benign/benign (170)', 'benign/benign (218)', 'benign/benign (231)', 'benign/benign (259)', 'benign/benign (240)', 'malignant/malignant (69)', 'malignant/malignant (47)', 'malignant/malignant (92)', 'malignant/malignant (120)', 'malignant/malignant (97)', 'malignant/malignant (148)', 'benign/benign (97)', 'benign/benign (186)'\n"
     ]
    }
   ],
   "source": [
    "print(x)"
   ]
  },
  {
   "cell_type": "code",
   "execution_count": null,
   "id": "9ea177f0",
   "metadata": {},
   "outputs": [],
   "source": []
  },
  {
   "cell_type": "code",
   "execution_count": 5,
   "id": "531ea032",
   "metadata": {},
   "outputs": [],
   "source": [
    "x1 = x.split(',')"
   ]
  },
  {
   "cell_type": "code",
   "execution_count": 6,
   "id": "6383a26e",
   "metadata": {},
   "outputs": [
    {
     "data": {
      "text/plain": [
       "'malignant/malignant (138)'"
      ]
     },
     "execution_count": 6,
     "metadata": {},
     "output_type": "execute_result"
    }
   ],
   "source": [
    "x1[0][1:-1]"
   ]
  },
  {
   "cell_type": "code",
   "execution_count": 7,
   "id": "b89320b5",
   "metadata": {},
   "outputs": [
    {
     "name": "stdout",
     "output_type": "stream",
     "text": [
      "'malignant/malignant (138)'\n",
      "malignant/malignant (138)\n",
      " 'malignant/malignant (125)'\n",
      " malignant/malignant (125)\n",
      " 'malignant/malignant (85)'\n",
      " malignant/malignant (85)\n",
      " 'malignant/malignant (58)'\n",
      " malignant/malignant (58)\n",
      " 'benign/benign (119)'\n",
      " benign/benign (119)\n",
      " 'benign/benign (84)'\n",
      " benign/benign (84)\n",
      " 'benign/benign (196)'\n",
      " benign/benign (196)\n",
      " 'benign/benign (125)'\n",
      " benign/benign (125)\n",
      " 'malignant/malignant (127)'\n",
      " malignant/malignant (127)\n",
      " 'benign/benign (421)'\n",
      " benign/benign (421)\n",
      " 'malignant/malignant (208)'\n",
      " malignant/malignant (208)\n",
      " 'malignant/malignant (7)'\n",
      " malignant/malignant (7)\n",
      " 'malignant/malignant (160)'\n",
      " malignant/malignant (160)\n",
      " 'benign/benign (238)'\n",
      " benign/benign (238)\n",
      " 'benign/benign (252)'\n",
      " benign/benign (252)\n",
      " 'benign/benign (85)'\n",
      " benign/benign (85)\n",
      " 'benign/benign (40)'\n",
      " benign/benign (40)\n",
      " 'benign/benign (291)'\n",
      " benign/benign (291)\n",
      " 'malignant/malignant (41)'\n",
      " malignant/malignant (41)\n",
      " 'malignant/malignant (169)'\n",
      " malignant/malignant (169)\n",
      " 'benign/benign (320)'\n",
      " benign/benign (320)\n",
      " 'benign/benign (250)'\n",
      " benign/benign (250)\n",
      " 'malignant/malignant (102)'\n",
      " malignant/malignant (102)\n",
      " 'benign/benign (353)'\n",
      " benign/benign (353)\n",
      " 'malignant/malignant (159)'\n",
      " malignant/malignant (159)\n",
      " 'malignant/malignant (13)'\n",
      " malignant/malignant (13)\n",
      " 'benign/benign (236)'\n",
      " benign/benign (236)\n",
      " 'benign/benign (105)'\n",
      " benign/benign (105)\n",
      " 'malignant/malignant (52)'\n",
      " malignant/malignant (52)\n",
      " 'benign/benign (72)'\n",
      " benign/benign (72)\n",
      " 'benign/benign (266)'\n",
      " benign/benign (266)\n",
      " 'benign/benign (315)'\n",
      " benign/benign (315)\n",
      " 'benign/benign (337)'\n",
      " benign/benign (337)\n",
      " 'benign/benign (198)'\n",
      " benign/benign (198)\n",
      " 'malignant/malignant (179)'\n",
      " malignant/malignant (179)\n",
      " 'benign/benign (73)'\n",
      " benign/benign (73)\n",
      " 'benign/benign (369)'\n",
      " benign/benign (369)\n",
      " 'benign/benign (373)'\n",
      " benign/benign (373)\n",
      " 'malignant/malignant (189)'\n",
      " malignant/malignant (189)\n",
      " 'benign/benign (365)'\n",
      " benign/benign (365)\n",
      " 'benign/benign (305)'\n",
      " benign/benign (305)\n",
      " 'benign/benign (66)'\n",
      " benign/benign (66)\n",
      " 'malignant/malignant (137)'\n",
      " malignant/malignant (137)\n",
      " 'benign/benign (268)'\n",
      " benign/benign (268)\n",
      " 'malignant/malignant (187)'\n",
      " malignant/malignant (187)\n",
      " 'benign/benign (58)'\n",
      " benign/benign (58)\n",
      " 'benign/benign (173)'\n",
      " benign/benign (173)\n",
      " 'malignant/malignant (142)'\n",
      " malignant/malignant (142)\n",
      " 'benign/benign (229)'\n",
      " benign/benign (229)\n",
      " 'malignant/malignant (171)'\n",
      " malignant/malignant (171)\n",
      " 'benign/benign (80)'\n",
      " benign/benign (80)\n",
      " 'benign/benign (170)'\n",
      " benign/benign (170)\n",
      " 'benign/benign (218)'\n",
      " benign/benign (218)\n",
      " 'benign/benign (231)'\n",
      " benign/benign (231)\n",
      " 'benign/benign (259)'\n",
      " benign/benign (259)\n",
      " 'benign/benign (240)'\n",
      " benign/benign (240)\n",
      " 'malignant/malignant (69)'\n",
      " malignant/malignant (69)\n",
      " 'malignant/malignant (47)'\n",
      " malignant/malignant (47)\n",
      " 'malignant/malignant (92)'\n",
      " malignant/malignant (92)\n",
      " 'malignant/malignant (120)'\n",
      " malignant/malignant (120)\n",
      " 'malignant/malignant (97)'\n",
      " malignant/malignant (97)\n",
      " 'malignant/malignant (148)'\n",
      " malignant/malignant (148)\n",
      " 'benign/benign (97)'\n",
      " benign/benign (97)\n",
      " 'benign/benign (186)'\n",
      " benign/benign (186)\n"
     ]
    }
   ],
   "source": [
    "for k in range(len(x1)):\n",
    "    print(x1[k])\n",
    "    print(x1[k].replace(\"'\", \"\"))"
   ]
  },
  {
   "cell_type": "code",
   "execution_count": null,
   "id": "fe80172b",
   "metadata": {},
   "outputs": [],
   "source": []
  }
 ],
 "metadata": {
  "kernelspec": {
   "display_name": "Python 3 (ipykernel)",
   "language": "python",
   "name": "python3"
  },
  "language_info": {
   "codemirror_mode": {
    "name": "ipython",
    "version": 3
   },
   "file_extension": ".py",
   "mimetype": "text/x-python",
   "name": "python",
   "nbconvert_exporter": "python",
   "pygments_lexer": "ipython3",
   "version": "3.10.13"
  }
 },
 "nbformat": 4,
 "nbformat_minor": 5
}
