{
 "cells": [
  {
   "cell_type": "code",
   "execution_count": null,
   "id": "53240743",
   "metadata": {},
   "outputs": [],
   "source": [
    "import torch\n",
    "import torch.nn as nn\n",
    "from torchmetrics.classification import BinaryJaccardIndex, JaccardIndex\n",
    "from torchmetrics.functional.classification import multiclass_jaccard_index\n",
    "from torchmetrics.functional.segmentation import mean_iou\n",
    "from torch.nn.functional import softmax, one_hot"
   ]
  },
  {
   "cell_type": "code",
   "execution_count": null,
   "id": "61a2fa1e",
   "metadata": {},
   "outputs": [],
   "source": [
    "X = torch.rand(size=(1,3,3,8))\n",
    "Y = (torch.rand(size=(1,3,3,8)) > 0.5) * 1"
   ]
  },
  {
   "cell_type": "code",
   "execution_count": null,
   "id": "669fd78c",
   "metadata": {},
   "outputs": [],
   "source": [
    "print(X)\n",
    "print(Y)"
   ]
  },
  {
   "cell_type": "code",
   "execution_count": null,
   "id": "4fd9d60e",
   "metadata": {},
   "outputs": [],
   "source": [
    "m1 = BinaryJaccardIndex()\n",
    "m2 = JaccardIndex(task='binary', average='micro')"
   ]
  },
  {
   "cell_type": "code",
   "execution_count": null,
   "id": "7777e673",
   "metadata": {},
   "outputs": [],
   "source": [
    "print(m1(X,Y), m2(X,Y))"
   ]
  },
  {
   "cell_type": "code",
   "execution_count": null,
   "id": "3ebf5472",
   "metadata": {},
   "outputs": [],
   "source": [
    "# s = 0\n",
    "# for i in range(7):\n",
    "#     t = m1(X[i], Y[i])\n",
    "#     s += t\n",
    "#     print(t)\n",
    "# print(s, s/8)"
   ]
  },
  {
   "cell_type": "code",
   "execution_count": null,
   "id": "c9a29087",
   "metadata": {},
   "outputs": [],
   "source": [
    "p1 = torch.mean(X, axis = (1,2))\n",
    "print(p1)"
   ]
  },
  {
   "cell_type": "code",
   "execution_count": null,
   "id": "46965c04",
   "metadata": {},
   "outputs": [],
   "source": [
    "print(torch.mean(X[0]))"
   ]
  },
  {
   "cell_type": "code",
   "execution_count": null,
   "id": "923584df",
   "metadata": {},
   "outputs": [],
   "source": [
    "# print(torch.mean(X[1]))"
   ]
  },
  {
   "cell_type": "markdown",
   "id": "f3d53589",
   "metadata": {},
   "source": [
    "## Torchmetrics multiclass_jaccard_index vs mean_iou"
   ]
  },
  {
   "cell_type": "code",
   "execution_count": null,
   "id": "2c766632",
   "metadata": {},
   "outputs": [],
   "source": [
    "pred = softmax(torch.rand((4,21,224,224)), dim=1)\n",
    "target = torch.randint(21, (4,224,224))\n",
    "target_oh = torch.permute(one_hot(target, num_classes = 21), (0,3,1,2))\n",
    "pred_oh = torch.permute(one_hot(torch.argmax(pred, dim=1), num_classes = 21), (0,3,1,2))"
   ]
  },
  {
   "cell_type": "code",
   "execution_count": null,
   "id": "ae6f5ffa",
   "metadata": {},
   "outputs": [],
   "source": [
    "mIU = mean_iou(torch.argmax(pred, dim=1), target, num_classes=21, per_class=True)\n",
    "mIU1 = mean_iou(pred_oh, target_oh, num_classes=21, per_class=True)\n",
    "iou = multiclass_jaccard_index(pred, target, num_classes = 21, average = None)\n",
    "iou2 = multiclass_jaccard_index(pred, target, num_classes = 21)"
   ]
  },
  {
   "cell_type": "code",
   "execution_count": null,
   "id": "b65a9d94",
   "metadata": {},
   "outputs": [],
   "source": [
    "print('mIU', mIU)\n",
    "print('mIU1', mIU1)\n",
    "print('iou', iou)\n",
    "print('iou2', iou2)"
   ]
  },
  {
   "cell_type": "code",
   "execution_count": null,
   "id": "4fc20bc2",
   "metadata": {},
   "outputs": [],
   "source": [
    "torch.mean(mIU, dim=0)"
   ]
  },
  {
   "cell_type": "code",
   "execution_count": null,
   "id": "43bbbfb9",
   "metadata": {},
   "outputs": [],
   "source": [
    "# x = torch.zeros([21])\n",
    "# print(x.shape)\n",
    "# for i in range(21):\n",
    "#     x[i] = torch.sum(torch.where(target == i, 1, 0))\n",
    "#     print(x[i])\n",
    "# print(torch.sum(x))"
   ]
  },
  {
   "cell_type": "code",
   "execution_count": null,
   "id": "b4e21ac1",
   "metadata": {},
   "outputs": [],
   "source": [
    "4*224*224"
   ]
  },
  {
   "cell_type": "code",
   "execution_count": null,
   "id": "00de7bd4",
   "metadata": {},
   "outputs": [],
   "source": [
    "nc = 5\n",
    "preds = torch.randint(0, 2, (4, nc, 16, 16))  # 4 samples, 5 classes, 16x16 prediction\n",
    "target = torch.randint(0, 2, (4, nc, 16, 16))  # 4 samples, 5 classes, 16x16 target\n",
    "print(mean_iou(preds, target, num_classes=nc))\n",
    "\n",
    "print(mean_iou(preds, target, num_classes=nc, per_class=True))"
   ]
  },
  {
   "cell_type": "code",
   "execution_count": null,
   "id": "de24d813",
   "metadata": {},
   "outputs": [],
   "source": [
    "print(mean_iou(torch.argmax(preds, dim=1), torch.argmax(target, dim=1), num_classes=nc))\n",
    "\n",
    "print(mean_iou(torch.argmax(preds, dim=1), torch.argmax(target, dim=1), num_classes=nc, per_class=True))"
   ]
  },
  {
   "cell_type": "code",
   "execution_count": null,
   "id": "3ec41163",
   "metadata": {},
   "outputs": [],
   "source": [
    "multiclass_jaccard_index(preds, target, num_classes = 5, average = None)"
   ]
  },
  {
   "cell_type": "code",
   "execution_count": null,
   "id": "1c32e489",
   "metadata": {},
   "outputs": [],
   "source": [
    "x = list(range(2,4))"
   ]
  },
  {
   "cell_type": "code",
   "execution_count": null,
   "id": "cb18296c",
   "metadata": {},
   "outputs": [],
   "source": [
    "pred = torch.randint(5, (4,64,64))\n",
    "target = torch.randint(5, (4,64,64))\n",
    "target_oh = torch.permute(one_hot(target, num_classes = 5), (0,3,1,2))\n",
    "pred_oh = torch.permute(one_hot(pred, num_classes = 5), (0,3,1,2))"
   ]
  },
  {
   "cell_type": "code",
   "execution_count": null,
   "id": "6c64c739",
   "metadata": {},
   "outputs": [],
   "source": [
    "mIU = mean_iou(pred, target, num_classes=5, per_class=True)\n",
    "mIU1 = mean_iou(pred_oh, target_oh, num_classes=5, per_class=True)\n",
    "iou = multiclass_jaccard_index(pred, target, num_classes = 5, average = None)\n",
    "iou2 = multiclass_jaccard_index(pred, target, num_classes = 5)"
   ]
  },
  {
   "cell_type": "code",
   "execution_count": null,
   "id": "65a03989",
   "metadata": {},
   "outputs": [],
   "source": [
    "# print('mIU', mIU)\n",
    "print('Mean mIU', torch.mean(mIU, dim=0))\n",
    "# print('mIU1', mIU1)\n",
    "print('Mean mIU1', torch.mean(mIU1, dim=0))\n",
    "print('iou', iou)\n",
    "print('iou2', iou2)"
   ]
  },
  {
   "cell_type": "code",
   "execution_count": null,
   "id": "ae5e1058",
   "metadata": {},
   "outputs": [],
   "source": [
    "torch.mean(mIU1, dim=0) / iou"
   ]
  },
  {
   "cell_type": "code",
   "execution_count": null,
   "id": "dd808133",
   "metadata": {},
   "outputs": [],
   "source": [
    "z = (72 * torch.rand(21)) / torch.randint(1, 72, (21,))\n",
    "z1 = (z <= 1.0)*1"
   ]
  },
  {
   "cell_type": "code",
   "execution_count": null,
   "id": "25d90000",
   "metadata": {},
   "outputs": [],
   "source": [
    "print(z)\n",
    "print(z1)"
   ]
  },
  {
   "cell_type": "code",
   "execution_count": null,
   "id": "04ce2be1",
   "metadata": {},
   "outputs": [],
   "source": []
  }
 ],
 "metadata": {
  "kernelspec": {
   "display_name": "Python 3 (ipykernel)",
   "language": "python",
   "name": "python3"
  },
  "language_info": {
   "codemirror_mode": {
    "name": "ipython",
    "version": 3
   },
   "file_extension": ".py",
   "mimetype": "text/x-python",
   "name": "python",
   "nbconvert_exporter": "python",
   "pygments_lexer": "ipython3",
   "version": "3.10.13"
  }
 },
 "nbformat": 4,
 "nbformat_minor": 5
}
