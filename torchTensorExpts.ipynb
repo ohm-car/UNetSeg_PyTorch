{
 "cells": [
  {
   "cell_type": "code",
   "execution_count": null,
   "id": "53240743",
   "metadata": {},
   "outputs": [],
   "source": [
    "import torch\n",
    "import torch.nn as nn"
   ]
  },
  {
   "cell_type": "code",
   "execution_count": null,
   "id": "61a2fa1e",
   "metadata": {},
   "outputs": [],
   "source": [
    "X = torch.rand(size=(2,3,3))"
   ]
  },
  {
   "cell_type": "code",
   "execution_count": null,
   "id": "669fd78c",
   "metadata": {},
   "outputs": [],
   "source": [
    "X"
   ]
  },
  {
   "cell_type": "code",
   "execution_count": null,
   "id": "c9a29087",
   "metadata": {},
   "outputs": [],
   "source": [
    "p1 = torch.mean(X, axis = (1,2))\n",
    "print(p1)"
   ]
  },
  {
   "cell_type": "code",
   "execution_count": null,
   "id": "46965c04",
   "metadata": {},
   "outputs": [],
   "source": [
    "print(torch.mean(X[0]))"
   ]
  },
  {
   "cell_type": "code",
   "execution_count": null,
   "id": "923584df",
   "metadata": {},
   "outputs": [],
   "source": [
    "print(torch.mean(X[1]))"
   ]
  },
  {
   "cell_type": "code",
   "execution_count": null,
   "id": "bb6b963a",
   "metadata": {},
   "outputs": [],
   "source": [
    "X[0]"
   ]
  },
  {
   "cell_type": "code",
   "execution_count": null,
   "id": "cfd62594",
   "metadata": {},
   "outputs": [],
   "source": [
    "rv = torch.rand(size=(2,))\n",
    "print(rv)"
   ]
  },
  {
   "cell_type": "code",
   "execution_count": null,
   "id": "e2775086",
   "metadata": {},
   "outputs": [],
   "source": [
    "loss = nn.L1Loss(reduction='sum')"
   ]
  },
  {
   "cell_type": "code",
   "execution_count": null,
   "id": "dd09db8c",
   "metadata": {},
   "outputs": [],
   "source": [
    "loss(p1, rv)"
   ]
  },
  {
   "cell_type": "code",
   "execution_count": null,
   "id": "668b55d8",
   "metadata": {},
   "outputs": [],
   "source": [
    "(torch.abs(p1[0] - rv[0]) + torch.abs(p1[1] - rv[1]))"
   ]
  },
  {
   "cell_type": "code",
   "execution_count": null,
   "id": "b82e192e",
   "metadata": {},
   "outputs": [],
   "source": [
    "torch.tensor(3*[0.345])"
   ]
  },
  {
   "cell_type": "code",
   "execution_count": null,
   "id": "5602a7df",
   "metadata": {},
   "outputs": [],
   "source": []
  }
 ],
 "metadata": {
  "kernelspec": {
   "display_name": "Python 3 (ipykernel)",
   "language": "python",
   "name": "python3"
  },
  "language_info": {
   "codemirror_mode": {
    "name": "ipython",
    "version": 3
   },
   "file_extension": ".py",
   "mimetype": "text/x-python",
   "name": "python",
   "nbconvert_exporter": "python",
   "pygments_lexer": "ipython3",
   "version": "3.10.13"
  }
 },
 "nbformat": 4,
 "nbformat_minor": 5
}
