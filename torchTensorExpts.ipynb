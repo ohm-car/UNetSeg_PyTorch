{
 "cells": [
  {
   "cell_type": "code",
   "execution_count": 1,
   "id": "53240743",
   "metadata": {},
   "outputs": [],
   "source": [
    "import torch\n",
    "import torch.nn as nn\n",
    "from torchmetrics.classification import BinaryJaccardIndex, JaccardIndex\n",
    "from torchmetrics.functional.classification import multiclass_jaccard_index\n",
    "from torchmetrics.functional.segmentation import mean_iou\n",
    "from torch.nn.functional import softmax"
   ]
  },
  {
   "cell_type": "code",
   "execution_count": 2,
   "id": "61a2fa1e",
   "metadata": {},
   "outputs": [],
   "source": [
    "X = torch.rand(size=(1,3,3,8))\n",
    "Y = (torch.rand(size=(1,3,3,8)) > 0.5) * 1"
   ]
  },
  {
   "cell_type": "code",
   "execution_count": 3,
   "id": "669fd78c",
   "metadata": {},
   "outputs": [
    {
     "name": "stdout",
     "output_type": "stream",
     "text": [
      "tensor([[[[0.7495, 0.2836, 0.5981, 0.0999, 0.3646, 0.7150, 0.0904, 0.0492],\n",
      "          [0.7001, 0.0543, 0.1513, 0.3137, 0.0512, 0.4296, 0.4712, 0.5824],\n",
      "          [0.6848, 0.8028, 0.0579, 0.1653, 0.7092, 0.1439, 0.5257, 0.1387]],\n",
      "\n",
      "         [[0.1029, 0.7284, 0.8222, 0.7077, 0.8884, 0.8488, 0.4832, 0.3017],\n",
      "          [0.9407, 0.6712, 0.7788, 0.4797, 0.3490, 0.1804, 0.3083, 0.2600],\n",
      "          [0.8882, 0.7541, 0.0122, 0.1689, 0.0690, 0.1365, 0.3821, 0.3262]],\n",
      "\n",
      "         [[0.6227, 0.6985, 0.7226, 0.0286, 0.7785, 0.6104, 0.3292, 0.4595],\n",
      "          [0.6830, 0.4235, 0.1248, 0.0018, 0.7461, 0.2171, 0.6366, 0.2748],\n",
      "          [0.3904, 0.7253, 0.3386, 0.5720, 0.5836, 0.7187, 0.8810, 0.1597]]]])\n",
      "tensor([[[[0, 1, 0, 0, 1, 1, 0, 0],\n",
      "          [0, 0, 1, 0, 0, 1, 1, 0],\n",
      "          [1, 1, 0, 1, 1, 0, 0, 1]],\n",
      "\n",
      "         [[0, 1, 0, 0, 0, 1, 0, 1],\n",
      "          [1, 1, 0, 0, 0, 0, 0, 1],\n",
      "          [1, 1, 1, 0, 1, 1, 0, 1]],\n",
      "\n",
      "         [[0, 1, 1, 0, 0, 1, 0, 1],\n",
      "          [0, 1, 1, 0, 1, 1, 0, 0],\n",
      "          [1, 1, 1, 0, 1, 1, 0, 0]]]])\n"
     ]
    }
   ],
   "source": [
    "print(X)\n",
    "print(Y)"
   ]
  },
  {
   "cell_type": "code",
   "execution_count": 4,
   "id": "4fd9d60e",
   "metadata": {},
   "outputs": [],
   "source": [
    "m1 = BinaryJaccardIndex()\n",
    "m2 = JaccardIndex(task='binary', average='micro')"
   ]
  },
  {
   "cell_type": "code",
   "execution_count": 5,
   "id": "7777e673",
   "metadata": {},
   "outputs": [
    {
     "name": "stdout",
     "output_type": "stream",
     "text": [
      "tensor(0.3333) tensor(0.3333)\n"
     ]
    }
   ],
   "source": [
    "print(m1(X,Y), m2(X,Y))"
   ]
  },
  {
   "cell_type": "code",
   "execution_count": 6,
   "id": "3ebf5472",
   "metadata": {},
   "outputs": [],
   "source": [
    "# s = 0\n",
    "# for i in range(7):\n",
    "#     t = m1(X[i], Y[i])\n",
    "#     s += t\n",
    "#     print(t)\n",
    "# print(s, s/8)"
   ]
  },
  {
   "cell_type": "code",
   "execution_count": 7,
   "id": "c9a29087",
   "metadata": {},
   "outputs": [
    {
     "name": "stdout",
     "output_type": "stream",
     "text": [
      "tensor([[0.6403, 0.5713, 0.4007, 0.2819, 0.5044, 0.4445, 0.4564, 0.2836]])\n"
     ]
    }
   ],
   "source": [
    "p1 = torch.mean(X, axis = (1,2))\n",
    "print(p1)"
   ]
  },
  {
   "cell_type": "code",
   "execution_count": 8,
   "id": "46965c04",
   "metadata": {},
   "outputs": [
    {
     "name": "stdout",
     "output_type": "stream",
     "text": [
      "tensor(0.4479)\n"
     ]
    }
   ],
   "source": [
    "print(torch.mean(X[0]))"
   ]
  },
  {
   "cell_type": "code",
   "execution_count": 9,
   "id": "923584df",
   "metadata": {},
   "outputs": [],
   "source": [
    "# print(torch.mean(X[1]))"
   ]
  },
  {
   "cell_type": "markdown",
   "id": "f3d53589",
   "metadata": {},
   "source": [
    "## Torchmetrics multiclass_jaccard_index vs mean_iou"
   ]
  },
  {
   "cell_type": "code",
   "execution_count": 10,
   "id": "2c766632",
   "metadata": {},
   "outputs": [],
   "source": [
    "pred = softmax(torch.rand((4,21,224,224)), dim=1)\n",
    "target = torch.randint(21, (4,224,224))"
   ]
  },
  {
   "cell_type": "code",
   "execution_count": 11,
   "id": "ae6f5ffa",
   "metadata": {},
   "outputs": [],
   "source": [
    "mIU = mean_iou(torch.argmax(pred, dim=1), target, num_classes=21, per_class=True)\n",
    "iou = multiclass_jaccard_index(pred, target, num_classes = 21, average = None)\n",
    "iou2 = multiclass_jaccard_index(pred, target, num_classes = 21)"
   ]
  },
  {
   "cell_type": "code",
   "execution_count": 12,
   "id": "b65a9d94",
   "metadata": {},
   "outputs": [
    {
     "name": "stdout",
     "output_type": "stream",
     "text": [
      "mIU tensor([[0.0221, 0.0227, 0.0234, 0.0283, 0.0256, 0.0224, 0.0245, 0.0204, 0.0218,\n",
      "         0.0266, 0.0224, 0.0278, 0.0223, 0.0298, 0.0286, 0.0235, 0.0244, 0.0272,\n",
      "         0.0216, 0.0254, 0.0248],\n",
      "        [0.0221, 0.0263, 0.0235, 0.0230, 0.0246, 0.0224, 0.0271, 0.0270, 0.0249,\n",
      "         0.0225, 0.0271, 0.0261, 0.0247, 0.0209, 0.0233, 0.0240, 0.0242, 0.0247,\n",
      "         0.0270, 0.0226, 0.0245],\n",
      "        [0.0218, 0.0240, 0.0288, 0.0243, 0.0249, 0.0238, 0.0264, 0.0283, 0.0285,\n",
      "         0.0233, 0.0253, 0.0272, 0.0259, 0.0260, 0.0261, 0.0269, 0.0228, 0.0220,\n",
      "         0.0246, 0.0219, 0.0228],\n",
      "        [0.0246, 0.0214, 0.0231, 0.0264, 0.0212, 0.0274, 0.0230, 0.0249, 0.0253,\n",
      "         0.0231, 0.0220, 0.0217, 0.0248, 0.0231, 0.0210, 0.0224, 0.0234, 0.0264,\n",
      "         0.0242, 0.0275, 0.0266]])\n",
      "iou tensor([0.0226, 0.0236, 0.0247, 0.0255, 0.0241, 0.0240, 0.0253, 0.0251, 0.0252,\n",
      "        0.0238, 0.0241, 0.0257, 0.0244, 0.0250, 0.0247, 0.0242, 0.0237, 0.0250,\n",
      "        0.0243, 0.0244, 0.0247])\n",
      "iou2 tensor(0.0245)\n"
     ]
    }
   ],
   "source": [
    "print('mIU', mIU)\n",
    "print('iou', iou)\n",
    "print('iou2', iou2)"
   ]
  },
  {
   "cell_type": "code",
   "execution_count": 13,
   "id": "4fc20bc2",
   "metadata": {},
   "outputs": [
    {
     "data": {
      "text/plain": [
       "tensor([0.0226, 0.0236, 0.0247, 0.0255, 0.0241, 0.0240, 0.0252, 0.0252, 0.0251,\n",
       "        0.0239, 0.0242, 0.0257, 0.0244, 0.0249, 0.0247, 0.0242, 0.0237, 0.0251,\n",
       "        0.0243, 0.0244, 0.0247])"
      ]
     },
     "execution_count": 13,
     "metadata": {},
     "output_type": "execute_result"
    }
   ],
   "source": [
    "torch.mean(mIU, dim=0)"
   ]
  },
  {
   "cell_type": "code",
   "execution_count": 14,
   "id": "43bbbfb9",
   "metadata": {},
   "outputs": [
    {
     "data": {
      "text/plain": [
       "tensor(9409)"
      ]
     },
     "execution_count": 14,
     "metadata": {},
     "output_type": "execute_result"
    }
   ],
   "source": [
    "torch.sum(torch.where(target == 0, 1, 0))"
   ]
  }
 ],
 "metadata": {
  "kernelspec": {
   "display_name": "Python 3 (ipykernel)",
   "language": "python",
   "name": "python3"
  },
  "language_info": {
   "codemirror_mode": {
    "name": "ipython",
    "version": 3
   },
   "file_extension": ".py",
   "mimetype": "text/x-python",
   "name": "python",
   "nbconvert_exporter": "python",
   "pygments_lexer": "ipython3",
   "version": "3.10.13"
  }
 },
 "nbformat": 4,
 "nbformat_minor": 5
}
