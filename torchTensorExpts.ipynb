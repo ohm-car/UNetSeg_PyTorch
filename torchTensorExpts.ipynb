{
 "cells": [
  {
   "cell_type": "code",
   "execution_count": 1,
   "id": "53240743",
   "metadata": {},
   "outputs": [],
   "source": [
    "import torch\n",
    "import torch.nn as nn\n",
    "from torchmetrics.classification import BinaryJaccardIndex, JaccardIndex\n",
    "from torchmetrics.functional.classification import multiclass_jaccard_index\n",
    "from torchmetrics.functional.segmentation import mean_iou\n",
    "from torch.nn.functional import softmax, one_hot"
   ]
  },
  {
   "cell_type": "code",
   "execution_count": 2,
   "id": "61a2fa1e",
   "metadata": {},
   "outputs": [],
   "source": [
    "X = torch.rand(size=(1,3,3,8))\n",
    "Y = (torch.rand(size=(1,3,3,8)) > 0.5) * 1"
   ]
  },
  {
   "cell_type": "code",
   "execution_count": 3,
   "id": "669fd78c",
   "metadata": {},
   "outputs": [
    {
     "name": "stdout",
     "output_type": "stream",
     "text": [
      "tensor([[[[0.9979, 0.9064, 0.6214, 0.5084, 0.0336, 0.6068, 0.3358, 0.7130],\n",
      "          [0.7174, 0.9875, 0.2235, 0.1863, 0.2172, 0.2694, 0.1721, 0.1390],\n",
      "          [0.0573, 0.5182, 0.9905, 0.2724, 0.5684, 0.2290, 0.9102, 0.3449]],\n",
      "\n",
      "         [[0.6205, 0.1875, 0.0445, 0.4691, 0.5192, 0.6323, 0.1046, 0.3674],\n",
      "          [0.6882, 0.7167, 0.8168, 0.2266, 0.3215, 0.9777, 0.5965, 0.2912],\n",
      "          [0.9362, 0.5998, 0.9733, 0.5457, 0.5049, 0.4693, 0.8804, 0.2490]],\n",
      "\n",
      "         [[0.7213, 0.1479, 0.3675, 0.2404, 0.0701, 0.5508, 0.0919, 0.6208],\n",
      "          [0.2228, 0.4111, 0.4284, 0.7808, 0.7925, 0.5914, 0.3325, 0.4821],\n",
      "          [0.5674, 0.8845, 0.4381, 0.9186, 0.0574, 0.1556, 0.8491, 0.8704]]]])\n",
      "tensor([[[[1, 0, 0, 1, 1, 0, 0, 1],\n",
      "          [0, 0, 0, 0, 0, 1, 0, 0],\n",
      "          [0, 1, 0, 1, 1, 1, 0, 1]],\n",
      "\n",
      "         [[0, 1, 0, 0, 1, 0, 1, 1],\n",
      "          [0, 0, 0, 1, 1, 0, 1, 0],\n",
      "          [1, 0, 1, 0, 0, 1, 1, 0]],\n",
      "\n",
      "         [[1, 0, 0, 0, 0, 1, 1, 1],\n",
      "          [1, 1, 0, 0, 0, 1, 1, 0],\n",
      "          [1, 1, 1, 0, 0, 1, 0, 0]]]])\n"
     ]
    }
   ],
   "source": [
    "print(X)\n",
    "print(Y)"
   ]
  },
  {
   "cell_type": "code",
   "execution_count": 4,
   "id": "4fd9d60e",
   "metadata": {},
   "outputs": [],
   "source": [
    "m1 = BinaryJaccardIndex()\n",
    "m2 = JaccardIndex(task='binary', average='micro')"
   ]
  },
  {
   "cell_type": "code",
   "execution_count": 5,
   "id": "7777e673",
   "metadata": {},
   "outputs": [
    {
     "name": "stdout",
     "output_type": "stream",
     "text": [
      "tensor(0.2963) tensor(0.2963)\n"
     ]
    }
   ],
   "source": [
    "print(m1(X,Y), m2(X,Y))"
   ]
  },
  {
   "cell_type": "code",
   "execution_count": 6,
   "id": "3ebf5472",
   "metadata": {},
   "outputs": [],
   "source": [
    "# s = 0\n",
    "# for i in range(7):\n",
    "#     t = m1(X[i], Y[i])\n",
    "#     s += t\n",
    "#     print(t)\n",
    "# print(s, s/8)"
   ]
  },
  {
   "cell_type": "code",
   "execution_count": 7,
   "id": "c9a29087",
   "metadata": {},
   "outputs": [
    {
     "name": "stdout",
     "output_type": "stream",
     "text": [
      "tensor([[0.6143, 0.5955, 0.5449, 0.4609, 0.3427, 0.4980, 0.4748, 0.4531]])\n"
     ]
    }
   ],
   "source": [
    "p1 = torch.mean(X, axis = (1,2))\n",
    "print(p1)"
   ]
  },
  {
   "cell_type": "code",
   "execution_count": 8,
   "id": "46965c04",
   "metadata": {},
   "outputs": [
    {
     "name": "stdout",
     "output_type": "stream",
     "text": [
      "tensor(0.4980)\n"
     ]
    }
   ],
   "source": [
    "print(torch.mean(X[0]))"
   ]
  },
  {
   "cell_type": "code",
   "execution_count": 9,
   "id": "923584df",
   "metadata": {},
   "outputs": [],
   "source": [
    "# print(torch.mean(X[1]))"
   ]
  },
  {
   "cell_type": "markdown",
   "id": "f3d53589",
   "metadata": {},
   "source": [
    "## Torchmetrics multiclass_jaccard_index vs mean_iou"
   ]
  },
  {
   "cell_type": "code",
   "execution_count": 10,
   "id": "2c766632",
   "metadata": {},
   "outputs": [],
   "source": [
    "pred = softmax(torch.rand((4,21,224,224)), dim=1)\n",
    "target = torch.randint(21, (4,224,224))\n",
    "target_oh = torch.permute(one_hot(target, num_classes = 21), (0,3,1,2))\n",
    "pred_oh = torch.permute(one_hot(torch.argmax(pred, dim=1), num_classes = 21), (0,3,1,2))"
   ]
  },
  {
   "cell_type": "code",
   "execution_count": 11,
   "id": "ae6f5ffa",
   "metadata": {},
   "outputs": [],
   "source": [
    "mIU = mean_iou(torch.argmax(pred, dim=1), target, num_classes=21, per_class=True)\n",
    "mIU1 = mean_iou(pred_oh, target_oh, num_classes=21, per_class=True)\n",
    "iou = multiclass_jaccard_index(pred, target, num_classes = 21, average = None)\n",
    "iou2 = multiclass_jaccard_index(pred, target, num_classes = 21)"
   ]
  },
  {
   "cell_type": "code",
   "execution_count": 12,
   "id": "b65a9d94",
   "metadata": {},
   "outputs": [
    {
     "name": "stdout",
     "output_type": "stream",
     "text": [
      "mIU tensor([[0.0208, 0.0192, 0.0234, 0.0231, 0.0268, 0.0269, 0.0206, 0.0251, 0.0257,\n",
      "         0.0236, 0.0223, 0.0213, 0.0245, 0.0195, 0.0241, 0.0208, 0.0244, 0.0247,\n",
      "         0.0247, 0.0263, 0.0232],\n",
      "        [0.0222, 0.0219, 0.0259, 0.0265, 0.0295, 0.0228, 0.0250, 0.0244, 0.0237,\n",
      "         0.0239, 0.0244, 0.0259, 0.0241, 0.0242, 0.0247, 0.0261, 0.0278, 0.0228,\n",
      "         0.0223, 0.0247, 0.0252],\n",
      "        [0.0255, 0.0253, 0.0221, 0.0218, 0.0228, 0.0231, 0.0232, 0.0244, 0.0228,\n",
      "         0.0230, 0.0248, 0.0241, 0.0200, 0.0264, 0.0257, 0.0266, 0.0264, 0.0279,\n",
      "         0.0245, 0.0275, 0.0249],\n",
      "        [0.0271, 0.0248, 0.0223, 0.0232, 0.0227, 0.0232, 0.0243, 0.0258, 0.0265,\n",
      "         0.0236, 0.0245, 0.0225, 0.0221, 0.0281, 0.0238, 0.0223, 0.0247, 0.0234,\n",
      "         0.0258, 0.0265, 0.0255]])\n",
      "mIU1 tensor([[0.0208, 0.0192, 0.0234, 0.0231, 0.0268, 0.0269, 0.0206, 0.0251, 0.0257,\n",
      "         0.0236, 0.0223, 0.0213, 0.0245, 0.0195, 0.0241, 0.0208, 0.0244, 0.0247,\n",
      "         0.0247, 0.0263, 0.0232],\n",
      "        [0.0222, 0.0219, 0.0259, 0.0265, 0.0295, 0.0228, 0.0250, 0.0244, 0.0237,\n",
      "         0.0239, 0.0244, 0.0259, 0.0241, 0.0242, 0.0247, 0.0261, 0.0278, 0.0228,\n",
      "         0.0223, 0.0247, 0.0252],\n",
      "        [0.0255, 0.0253, 0.0221, 0.0218, 0.0228, 0.0231, 0.0232, 0.0244, 0.0228,\n",
      "         0.0230, 0.0248, 0.0241, 0.0200, 0.0264, 0.0257, 0.0266, 0.0264, 0.0279,\n",
      "         0.0245, 0.0275, 0.0249],\n",
      "        [0.0271, 0.0248, 0.0223, 0.0232, 0.0227, 0.0232, 0.0243, 0.0258, 0.0265,\n",
      "         0.0236, 0.0245, 0.0225, 0.0221, 0.0281, 0.0238, 0.0223, 0.0247, 0.0234,\n",
      "         0.0258, 0.0265, 0.0255]])\n",
      "iou tensor([0.0239, 0.0228, 0.0234, 0.0236, 0.0255, 0.0240, 0.0233, 0.0250, 0.0247,\n",
      "        0.0235, 0.0240, 0.0235, 0.0227, 0.0246, 0.0246, 0.0240, 0.0258, 0.0247,\n",
      "        0.0243, 0.0263, 0.0247])\n",
      "iou2 tensor(0.0242)\n"
     ]
    }
   ],
   "source": [
    "print('mIU', mIU)\n",
    "print('mIU1', mIU1)\n",
    "print('iou', iou)\n",
    "print('iou2', iou2)"
   ]
  },
  {
   "cell_type": "code",
   "execution_count": 13,
   "id": "4fc20bc2",
   "metadata": {},
   "outputs": [
    {
     "data": {
      "text/plain": [
       "tensor([0.0239, 0.0228, 0.0234, 0.0236, 0.0254, 0.0240, 0.0233, 0.0250, 0.0247,\n",
       "        0.0235, 0.0240, 0.0235, 0.0227, 0.0246, 0.0246, 0.0239, 0.0258, 0.0247,\n",
       "        0.0243, 0.0263, 0.0247])"
      ]
     },
     "execution_count": 13,
     "metadata": {},
     "output_type": "execute_result"
    }
   ],
   "source": [
    "torch.mean(mIU, dim=0)"
   ]
  },
  {
   "cell_type": "code",
   "execution_count": 14,
   "id": "43bbbfb9",
   "metadata": {},
   "outputs": [],
   "source": [
    "# x = torch.zeros([21])\n",
    "# print(x.shape)\n",
    "# for i in range(21):\n",
    "#     x[i] = torch.sum(torch.where(target == i, 1, 0))\n",
    "#     print(x[i])\n",
    "# print(torch.sum(x))"
   ]
  },
  {
   "cell_type": "code",
   "execution_count": 15,
   "id": "b4e21ac1",
   "metadata": {},
   "outputs": [
    {
     "data": {
      "text/plain": [
       "200704"
      ]
     },
     "execution_count": 15,
     "metadata": {},
     "output_type": "execute_result"
    }
   ],
   "source": [
    "4*224*224"
   ]
  },
  {
   "cell_type": "code",
   "execution_count": 16,
   "id": "00de7bd4",
   "metadata": {},
   "outputs": [
    {
     "name": "stdout",
     "output_type": "stream",
     "text": [
      "tensor([0.3670, 0.3325, 0.3431, 0.3164])\n",
      "tensor([[0.3103, 0.3757, 0.4138, 0.3791, 0.3560],\n",
      "        [0.3053, 0.3279, 0.3247, 0.3575, 0.3472],\n",
      "        [0.3608, 0.3462, 0.3065, 0.3770, 0.3250],\n",
      "        [0.3077, 0.3284, 0.3021, 0.3300, 0.3138]])\n"
     ]
    }
   ],
   "source": [
    "nc = 5\n",
    "preds = torch.randint(0, 2, (4, nc, 16, 16))  # 4 samples, 5 classes, 16x16 prediction\n",
    "target = torch.randint(0, 2, (4, nc, 16, 16))  # 4 samples, 5 classes, 16x16 target\n",
    "print(mean_iou(preds, target, num_classes=nc))\n",
    "\n",
    "print(mean_iou(preds, target, num_classes=nc, per_class=True))"
   ]
  },
  {
   "cell_type": "code",
   "execution_count": 17,
   "id": "de24d813",
   "metadata": {},
   "outputs": [
    {
     "name": "stdout",
     "output_type": "stream",
     "text": [
      "tensor([0.1341, 0.1214, 0.1331, 0.1132])\n",
      "tensor([[0.3478, 0.1920, 0.0435, 0.0870, 0.0000],\n",
      "        [0.3385, 0.0982, 0.1455, 0.0250, 0.0000],\n",
      "        [0.4000, 0.1596, 0.0545, 0.0513, 0.0000],\n",
      "        [0.3177, 0.1405, 0.0455, 0.0625, 0.0000]])\n"
     ]
    }
   ],
   "source": [
    "print(mean_iou(torch.argmax(preds, dim=1), torch.argmax(target, dim=1), num_classes=nc))\n",
    "\n",
    "print(mean_iou(torch.argmax(preds, dim=1), torch.argmax(target, dim=1), num_classes=nc, per_class=True))"
   ]
  },
  {
   "cell_type": "code",
   "execution_count": 18,
   "id": "3ec41163",
   "metadata": {},
   "outputs": [
    {
     "data": {
      "text/plain": [
       "tensor([0.3416, 0.3401, 0.0000, 0.0000, 0.0000])"
      ]
     },
     "execution_count": 18,
     "metadata": {},
     "output_type": "execute_result"
    }
   ],
   "source": [
    "multiclass_jaccard_index(preds, target, num_classes = 5, average = None)"
   ]
  },
  {
   "cell_type": "code",
   "execution_count": 19,
   "id": "1c32e489",
   "metadata": {},
   "outputs": [],
   "source": [
    "x = list(range(2,4))"
   ]
  },
  {
   "cell_type": "code",
   "execution_count": 20,
   "id": "cb18296c",
   "metadata": {},
   "outputs": [],
   "source": [
    "pred = torch.randint(5, (4,64,64))\n",
    "target = torch.randint(5, (4,64,64))\n",
    "target_oh = torch.permute(one_hot(target, num_classes = 5), (0,3,1,2))\n",
    "pred_oh = torch.permute(one_hot(pred, num_classes = 5), (0,3,1,2))"
   ]
  },
  {
   "cell_type": "code",
   "execution_count": 21,
   "id": "6c64c739",
   "metadata": {},
   "outputs": [],
   "source": [
    "mIU = mean_iou(pred, target, num_classes=5, per_class=True)\n",
    "mIU1 = mean_iou(pred_oh, target_oh, num_classes=5, per_class=True)\n",
    "iou = multiclass_jaccard_index(pred, target, num_classes = 5, average = None)\n",
    "iou2 = multiclass_jaccard_index(pred, target, num_classes = 5)"
   ]
  },
  {
   "cell_type": "code",
   "execution_count": 22,
   "id": "65a03989",
   "metadata": {},
   "outputs": [
    {
     "name": "stdout",
     "output_type": "stream",
     "text": [
      "Mean mIU tensor([0.1051, 0.1068, 0.1020, 0.1108, 0.1121])\n",
      "Mean mIU1 tensor([0.1051, 0.1068, 0.1020, 0.1108, 0.1121])\n",
      "iou tensor([0.1051, 0.1068, 0.1020, 0.1107, 0.1121])\n",
      "iou2 tensor(0.1074)\n"
     ]
    }
   ],
   "source": [
    "# print('mIU', mIU)\n",
    "print('Mean mIU', torch.mean(mIU, dim=0))\n",
    "# print('mIU1', mIU1)\n",
    "print('Mean mIU1', torch.mean(mIU1, dim=0))\n",
    "print('iou', iou)\n",
    "print('iou2', iou2)"
   ]
  },
  {
   "cell_type": "code",
   "execution_count": null,
   "id": "ae5e1058",
   "metadata": {},
   "outputs": [],
   "source": []
  }
 ],
 "metadata": {
  "kernelspec": {
   "display_name": "Python 3 (ipykernel)",
   "language": "python",
   "name": "python3"
  },
  "language_info": {
   "codemirror_mode": {
    "name": "ipython",
    "version": 3
   },
   "file_extension": ".py",
   "mimetype": "text/x-python",
   "name": "python",
   "nbconvert_exporter": "python",
   "pygments_lexer": "ipython3",
   "version": "3.10.13"
  }
 },
 "nbformat": 4,
 "nbformat_minor": 5
}
