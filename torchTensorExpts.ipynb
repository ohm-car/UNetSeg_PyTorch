{
 "cells": [
  {
   "cell_type": "code",
   "execution_count": 1,
   "id": "53240743",
   "metadata": {},
   "outputs": [],
   "source": [
    "import torch\n",
    "import torch.nn as nn\n",
    "from torchmetrics.classification import BinaryJaccardIndex, JaccardIndex\n",
    "from torchmetrics.functional.classification import multiclass_jaccard_index\n",
    "from torchmetrics.functional.segmentation import mean_iou\n",
    "from torch.nn.functional import softmax"
   ]
  },
  {
   "cell_type": "code",
   "execution_count": 2,
   "id": "61a2fa1e",
   "metadata": {},
   "outputs": [],
   "source": [
    "X = torch.rand(size=(1,3,3,8))\n",
    "Y = (torch.rand(size=(1,3,3,8)) > 0.5) * 1"
   ]
  },
  {
   "cell_type": "code",
   "execution_count": 3,
   "id": "669fd78c",
   "metadata": {},
   "outputs": [
    {
     "name": "stdout",
     "output_type": "stream",
     "text": [
      "tensor([[[[0.4601, 0.1919, 0.4797, 0.6342, 0.5504, 0.2742, 0.6939, 0.7327],\n",
      "          [0.8533, 0.9580, 0.3367, 0.3670, 0.8418, 0.8216, 0.8692, 0.6259],\n",
      "          [0.2428, 0.3988, 0.6043, 0.5449, 0.5952, 0.9231, 0.6350, 0.9169]],\n",
      "\n",
      "         [[0.5501, 0.2337, 0.6374, 0.0183, 0.0408, 0.0028, 0.7865, 0.1236],\n",
      "          [0.0787, 0.3616, 0.4307, 0.7634, 0.0714, 0.7266, 0.4818, 0.3873],\n",
      "          [0.1183, 0.9694, 0.6614, 0.7282, 0.5056, 0.7907, 0.8138, 0.9914]],\n",
      "\n",
      "         [[0.5383, 0.9685, 0.5780, 0.7880, 0.4017, 0.7815, 0.5387, 0.5998],\n",
      "          [0.6881, 0.4335, 0.9212, 0.6694, 0.6358, 0.9816, 0.5827, 0.1091],\n",
      "          [0.5707, 0.8252, 0.6872, 0.4957, 0.0910, 0.8257, 0.7007, 0.1504]]]])\n",
      "tensor([[[[1, 1, 0, 1, 0, 0, 1, 1],\n",
      "          [0, 0, 0, 1, 0, 1, 0, 1],\n",
      "          [1, 1, 0, 1, 0, 0, 0, 0]],\n",
      "\n",
      "         [[1, 1, 1, 1, 1, 0, 0, 1],\n",
      "          [0, 1, 0, 1, 1, 0, 0, 0],\n",
      "          [0, 0, 0, 0, 1, 0, 0, 1]],\n",
      "\n",
      "         [[1, 0, 1, 0, 0, 1, 0, 1],\n",
      "          [0, 0, 0, 0, 1, 1, 1, 1],\n",
      "          [0, 0, 1, 0, 1, 1, 0, 0]]]])\n"
     ]
    }
   ],
   "source": [
    "print(X)\n",
    "print(Y)"
   ]
  },
  {
   "cell_type": "code",
   "execution_count": 4,
   "id": "4fd9d60e",
   "metadata": {},
   "outputs": [],
   "source": [
    "m1 = BinaryJaccardIndex()\n",
    "m2 = JaccardIndex(task='binary', average='micro')"
   ]
  },
  {
   "cell_type": "code",
   "execution_count": 5,
   "id": "7777e673",
   "metadata": {},
   "outputs": [
    {
     "name": "stdout",
     "output_type": "stream",
     "text": [
      "tensor(0.3390) tensor(0.3390)\n"
     ]
    }
   ],
   "source": [
    "print(m1(X,Y), m2(X,Y))"
   ]
  },
  {
   "cell_type": "code",
   "execution_count": 6,
   "id": "3ebf5472",
   "metadata": {},
   "outputs": [],
   "source": [
    "# s = 0\n",
    "# for i in range(7):\n",
    "#     t = m1(X[i], Y[i])\n",
    "#     s += t\n",
    "#     print(t)\n",
    "# print(s, s/8)"
   ]
  },
  {
   "cell_type": "code",
   "execution_count": 7,
   "id": "c9a29087",
   "metadata": {},
   "outputs": [
    {
     "name": "stdout",
     "output_type": "stream",
     "text": [
      "tensor([[0.4556, 0.5934, 0.5930, 0.5566, 0.4149, 0.6809, 0.6780, 0.5152]])\n"
     ]
    }
   ],
   "source": [
    "p1 = torch.mean(X, axis = (1,2))\n",
    "print(p1)"
   ]
  },
  {
   "cell_type": "code",
   "execution_count": 8,
   "id": "46965c04",
   "metadata": {},
   "outputs": [
    {
     "name": "stdout",
     "output_type": "stream",
     "text": [
      "tensor(0.5609)\n"
     ]
    }
   ],
   "source": [
    "print(torch.mean(X[0]))"
   ]
  },
  {
   "cell_type": "code",
   "execution_count": 9,
   "id": "923584df",
   "metadata": {},
   "outputs": [],
   "source": [
    "# print(torch.mean(X[1]))"
   ]
  },
  {
   "cell_type": "markdown",
   "id": "f3d53589",
   "metadata": {},
   "source": [
    "## Torchmetrics multiclass_jaccard_index vs mean_iou"
   ]
  },
  {
   "cell_type": "code",
   "execution_count": 10,
   "id": "2c766632",
   "metadata": {},
   "outputs": [],
   "source": [
    "pred = softmax(torch.rand((4,21,224,224)), dim=1)\n",
    "target = torch.randint(21, (4,224,224))"
   ]
  },
  {
   "cell_type": "code",
   "execution_count": 11,
   "id": "ae6f5ffa",
   "metadata": {},
   "outputs": [],
   "source": [
    "mIU = mean_iou(torch.argmax(pred, dim=1), target, num_classes=21, per_class=True)\n",
    "iou = multiclass_jaccard_index(pred, target, num_classes = 21, average = None)\n",
    "iou2 = multiclass_jaccard_index(pred, target, num_classes = 21)"
   ]
  },
  {
   "cell_type": "code",
   "execution_count": 12,
   "id": "b65a9d94",
   "metadata": {},
   "outputs": [
    {
     "name": "stdout",
     "output_type": "stream",
     "text": [
      "mIU tensor([[0.0239, 0.0234, 0.0242, 0.0264, 0.0248, 0.0266, 0.0239, 0.0252, 0.0189,\n",
      "         0.0211, 0.0234, 0.0275, 0.0274, 0.0229, 0.0248, 0.0263, 0.0211, 0.0252,\n",
      "         0.0225, 0.0219, 0.0217],\n",
      "        [0.0213, 0.0185, 0.0276, 0.0235, 0.0272, 0.0208, 0.0248, 0.0249, 0.0247,\n",
      "         0.0211, 0.0238, 0.0248, 0.0255, 0.0233, 0.0249, 0.0241, 0.0238, 0.0246,\n",
      "         0.0243, 0.0249, 0.0226],\n",
      "        [0.0234, 0.0241, 0.0212, 0.0266, 0.0220, 0.0273, 0.0257, 0.0248, 0.0246,\n",
      "         0.0249, 0.0226, 0.0231, 0.0277, 0.0226, 0.0278, 0.0253, 0.0233, 0.0230,\n",
      "         0.0248, 0.0242, 0.0248],\n",
      "        [0.0254, 0.0241, 0.0258, 0.0210, 0.0228, 0.0235, 0.0235, 0.0213, 0.0208,\n",
      "         0.0215, 0.0286, 0.0223, 0.0202, 0.0200, 0.0249, 0.0224, 0.0211, 0.0274,\n",
      "         0.0232, 0.0228, 0.0244]])\n",
      "iou tensor([0.0235, 0.0226, 0.0247, 0.0244, 0.0242, 0.0245, 0.0245, 0.0240, 0.0222,\n",
      "        0.0221, 0.0246, 0.0244, 0.0252, 0.0222, 0.0256, 0.0246, 0.0224, 0.0251,\n",
      "        0.0237, 0.0234, 0.0234])\n",
      "iou2 tensor(0.0239)\n"
     ]
    }
   ],
   "source": [
    "print('mIU', mIU)\n",
    "print('iou', iou)\n",
    "print('iou2', iou2)"
   ]
  },
  {
   "cell_type": "code",
   "execution_count": 13,
   "id": "4fc20bc2",
   "metadata": {},
   "outputs": [
    {
     "data": {
      "text/plain": [
       "tensor([0.0235, 0.0225, 0.0247, 0.0244, 0.0242, 0.0245, 0.0245, 0.0240, 0.0223,\n",
       "        0.0222, 0.0246, 0.0244, 0.0252, 0.0222, 0.0256, 0.0245, 0.0223, 0.0251,\n",
       "        0.0237, 0.0234, 0.0234])"
      ]
     },
     "execution_count": 13,
     "metadata": {},
     "output_type": "execute_result"
    }
   ],
   "source": [
    "torch.mean(mIU, dim=0)"
   ]
  },
  {
   "cell_type": "code",
   "execution_count": 14,
   "id": "43bbbfb9",
   "metadata": {},
   "outputs": [
    {
     "data": {
      "text/plain": [
       "tensor(9561)"
      ]
     },
     "execution_count": 14,
     "metadata": {},
     "output_type": "execute_result"
    }
   ],
   "source": [
    "torch.sum(torch.where(target == 0, 1, 0))"
   ]
  }
 ],
 "metadata": {
  "kernelspec": {
   "display_name": "Python 3 (ipykernel)",
   "language": "python",
   "name": "python3"
  },
  "language_info": {
   "codemirror_mode": {
    "name": "ipython",
    "version": 3
   },
   "file_extension": ".py",
   "mimetype": "text/x-python",
   "name": "python",
   "nbconvert_exporter": "python",
   "pygments_lexer": "ipython3",
   "version": "3.10.13"
  }
 },
 "nbformat": 4,
 "nbformat_minor": 5
}
