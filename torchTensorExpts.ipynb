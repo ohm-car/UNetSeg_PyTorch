{
 "cells": [
  {
   "cell_type": "code",
   "execution_count": 1,
   "id": "53240743",
   "metadata": {},
   "outputs": [],
   "source": [
    "import torch\n",
    "import torch.nn as nn\n",
    "from torchmetrics.classification import BinaryJaccardIndex, JaccardIndex\n",
    "from torchmetrics.functional.classification import multiclass_jaccard_index\n",
    "from torchmetrics.functional.segmentation import mean_iou\n",
    "from torch.nn.functional import softmax, one_hot"
   ]
  },
  {
   "cell_type": "code",
   "execution_count": 2,
   "id": "61a2fa1e",
   "metadata": {},
   "outputs": [],
   "source": [
    "X = torch.rand(size=(1,3,3,8))\n",
    "Y = (torch.rand(size=(1,3,3,8)) > 0.5) * 1"
   ]
  },
  {
   "cell_type": "code",
   "execution_count": 3,
   "id": "669fd78c",
   "metadata": {},
   "outputs": [
    {
     "name": "stdout",
     "output_type": "stream",
     "text": [
      "tensor([[[[0.0358, 0.2173, 0.2538, 0.7108, 0.8230, 0.2559, 0.7701, 0.3125],\n",
      "          [0.2402, 0.7119, 0.0858, 0.1669, 0.4924, 0.0781, 0.5905, 0.1053],\n",
      "          [0.4365, 0.3281, 0.6662, 0.3233, 0.9261, 0.5585, 0.4900, 0.8492]],\n",
      "\n",
      "         [[0.2486, 0.2673, 0.9019, 0.3212, 0.0175, 0.6288, 0.4707, 0.5165],\n",
      "          [0.3340, 0.0512, 0.0904, 0.7970, 0.1480, 0.9273, 0.3946, 0.1251],\n",
      "          [0.4251, 0.8253, 0.9633, 0.3509, 0.9121, 0.6794, 0.8785, 0.0808]],\n",
      "\n",
      "         [[0.0695, 0.8253, 0.1397, 0.9885, 0.4432, 0.3010, 0.2497, 0.8386],\n",
      "          [0.4003, 0.8970, 0.0274, 0.9861, 0.8062, 0.7423, 0.2016, 0.7116],\n",
      "          [0.9766, 0.9395, 0.2177, 0.2652, 0.8135, 0.3008, 0.6514, 0.5615]]]])\n",
      "tensor([[[[1, 1, 0, 1, 0, 0, 0, 1],\n",
      "          [0, 1, 0, 0, 1, 1, 0, 1],\n",
      "          [0, 0, 0, 1, 0, 0, 0, 1]],\n",
      "\n",
      "         [[0, 0, 1, 0, 0, 0, 1, 0],\n",
      "          [0, 1, 0, 1, 0, 0, 1, 1],\n",
      "          [0, 1, 0, 1, 0, 0, 1, 1]],\n",
      "\n",
      "         [[0, 0, 0, 1, 1, 1, 1, 0],\n",
      "          [1, 1, 1, 0, 1, 0, 0, 0],\n",
      "          [0, 0, 0, 0, 0, 1, 0, 1]]]])\n"
     ]
    }
   ],
   "source": [
    "print(X)\n",
    "print(Y)"
   ]
  },
  {
   "cell_type": "code",
   "execution_count": 4,
   "id": "4fd9d60e",
   "metadata": {},
   "outputs": [],
   "source": [
    "m1 = BinaryJaccardIndex()\n",
    "m2 = JaccardIndex(task='binary', average='micro')"
   ]
  },
  {
   "cell_type": "code",
   "execution_count": 5,
   "id": "7777e673",
   "metadata": {},
   "outputs": [
    {
     "name": "stdout",
     "output_type": "stream",
     "text": [
      "tensor(0.2157) tensor(0.2157)\n"
     ]
    }
   ],
   "source": [
    "print(m1(X,Y), m2(X,Y))"
   ]
  },
  {
   "cell_type": "code",
   "execution_count": 6,
   "id": "3ebf5472",
   "metadata": {},
   "outputs": [],
   "source": [
    "# s = 0\n",
    "# for i in range(7):\n",
    "#     t = m1(X[i], Y[i])\n",
    "#     s += t\n",
    "#     print(t)\n",
    "# print(s, s/8)"
   ]
  },
  {
   "cell_type": "code",
   "execution_count": 7,
   "id": "c9a29087",
   "metadata": {},
   "outputs": [
    {
     "name": "stdout",
     "output_type": "stream",
     "text": [
      "tensor([[0.3518, 0.5626, 0.3718, 0.5456, 0.5980, 0.4969, 0.5219, 0.4557]])\n"
     ]
    }
   ],
   "source": [
    "p1 = torch.mean(X, axis = (1,2))\n",
    "print(p1)"
   ]
  },
  {
   "cell_type": "code",
   "execution_count": 8,
   "id": "46965c04",
   "metadata": {},
   "outputs": [
    {
     "name": "stdout",
     "output_type": "stream",
     "text": [
      "tensor(0.4880)\n"
     ]
    }
   ],
   "source": [
    "print(torch.mean(X[0]))"
   ]
  },
  {
   "cell_type": "code",
   "execution_count": 9,
   "id": "923584df",
   "metadata": {},
   "outputs": [],
   "source": [
    "# print(torch.mean(X[1]))"
   ]
  },
  {
   "cell_type": "markdown",
   "id": "f3d53589",
   "metadata": {},
   "source": [
    "## Torchmetrics multiclass_jaccard_index vs mean_iou"
   ]
  },
  {
   "cell_type": "code",
   "execution_count": 10,
   "id": "2c766632",
   "metadata": {},
   "outputs": [],
   "source": [
    "pred = softmax(torch.rand((4,21,224,224)), dim=1)\n",
    "target = torch.randint(21, (4,224,224))\n",
    "target_oh = torch.permute(one_hot(target, num_classes = 21), (0,3,1,2))\n",
    "pred_oh = torch.permute(one_hot(torch.argmax(pred, dim=1), num_classes = 21), (0,3,1,2))"
   ]
  },
  {
   "cell_type": "code",
   "execution_count": 11,
   "id": "ae6f5ffa",
   "metadata": {},
   "outputs": [],
   "source": [
    "mIU = mean_iou(torch.argmax(pred, dim=1), target, num_classes=21, per_class=True)\n",
    "mIU1 = mean_iou(pred_oh, target_oh, num_classes=21, per_class=True)\n",
    "iou = multiclass_jaccard_index(pred, target, num_classes = 21, average = None)\n",
    "iou2 = multiclass_jaccard_index(pred, target, num_classes = 21)"
   ]
  },
  {
   "cell_type": "code",
   "execution_count": 19,
   "id": "b65a9d94",
   "metadata": {},
   "outputs": [
    {
     "name": "stdout",
     "output_type": "stream",
     "text": [
      "mIU tensor([[0.0233, 0.0272, 0.0243, 0.0265, 0.0255, 0.0281, 0.0250, 0.0246, 0.0226,\n",
      "         0.0290, 0.0270, 0.0217, 0.0268, 0.0241, 0.0230, 0.0248, 0.0189, 0.0248,\n",
      "         0.0241, 0.0242, 0.0258],\n",
      "        [0.0252, 0.0244, 0.0231, 0.0276, 0.0241, 0.0264, 0.0253, 0.0239, 0.0226,\n",
      "         0.0230, 0.0272, 0.0268, 0.0262, 0.0277, 0.0251, 0.0271, 0.0239, 0.0244,\n",
      "         0.0249, 0.0285, 0.0277],\n",
      "        [0.0238, 0.0247, 0.0253, 0.0191, 0.0265, 0.0245, 0.0263, 0.0228, 0.0197,\n",
      "         0.0261, 0.0247, 0.0198, 0.0239, 0.0280, 0.0237, 0.0221, 0.0212, 0.0249,\n",
      "         0.0248, 0.0253, 0.0278],\n",
      "        [0.0226, 0.0276, 0.0243, 0.0273, 0.0211, 0.0277, 0.0235, 0.0260, 0.0266,\n",
      "         0.0256, 0.0220, 0.0264, 0.0274, 0.0228, 0.0250, 0.0272, 0.0231, 0.0234,\n",
      "         0.0260, 0.0211, 0.0214]])\n",
      "mIU1 tensor([[0.0233, 0.0272, 0.0243, 0.0265, 0.0255, 0.0281, 0.0250, 0.0246, 0.0226,\n",
      "         0.0290, 0.0270, 0.0217, 0.0268, 0.0241, 0.0230, 0.0248, 0.0189, 0.0248,\n",
      "         0.0241, 0.0242, 0.0258],\n",
      "        [0.0252, 0.0244, 0.0231, 0.0276, 0.0241, 0.0264, 0.0253, 0.0239, 0.0226,\n",
      "         0.0230, 0.0272, 0.0268, 0.0262, 0.0277, 0.0251, 0.0271, 0.0239, 0.0244,\n",
      "         0.0249, 0.0285, 0.0277],\n",
      "        [0.0238, 0.0247, 0.0253, 0.0191, 0.0265, 0.0245, 0.0263, 0.0228, 0.0197,\n",
      "         0.0261, 0.0247, 0.0198, 0.0239, 0.0280, 0.0237, 0.0221, 0.0212, 0.0249,\n",
      "         0.0248, 0.0253, 0.0278],\n",
      "        [0.0226, 0.0276, 0.0243, 0.0273, 0.0211, 0.0277, 0.0235, 0.0260, 0.0266,\n",
      "         0.0256, 0.0220, 0.0264, 0.0274, 0.0228, 0.0250, 0.0272, 0.0231, 0.0234,\n",
      "         0.0260, 0.0211, 0.0214]])\n"
     ]
    }
   ],
   "source": [
    "print('mIU', mIU)\n",
    "# print('iou', iou)\n",
    "# print('iou2', iou2)\n",
    "print('mIU1', mIU1)"
   ]
  },
  {
   "cell_type": "code",
   "execution_count": 13,
   "id": "4fc20bc2",
   "metadata": {},
   "outputs": [
    {
     "data": {
      "text/plain": [
       "tensor([0.0237, 0.0260, 0.0243, 0.0251, 0.0243, 0.0267, 0.0250, 0.0244, 0.0229,\n",
       "        0.0259, 0.0252, 0.0237, 0.0261, 0.0256, 0.0242, 0.0253, 0.0218, 0.0244,\n",
       "        0.0250, 0.0248, 0.0257])"
      ]
     },
     "execution_count": 13,
     "metadata": {},
     "output_type": "execute_result"
    }
   ],
   "source": [
    "torch.mean(mIU, dim=0)"
   ]
  },
  {
   "cell_type": "code",
   "execution_count": 14,
   "id": "43bbbfb9",
   "metadata": {},
   "outputs": [],
   "source": [
    "# x = torch.zeros([21])\n",
    "# print(x.shape)\n",
    "# for i in range(21):\n",
    "#     x[i] = torch.sum(torch.where(target == i, 1, 0))\n",
    "#     print(x[i])\n",
    "# print(torch.sum(x))"
   ]
  },
  {
   "cell_type": "code",
   "execution_count": 15,
   "id": "b4e21ac1",
   "metadata": {},
   "outputs": [
    {
     "data": {
      "text/plain": [
       "200704"
      ]
     },
     "execution_count": 15,
     "metadata": {},
     "output_type": "execute_result"
    }
   ],
   "source": [
    "4*224*224"
   ]
  },
  {
   "cell_type": "code",
   "execution_count": 16,
   "id": "00de7bd4",
   "metadata": {},
   "outputs": [
    {
     "name": "stdout",
     "output_type": "stream",
     "text": [
      "tensor([0.3384, 0.3441, 0.3440, 0.3681])\n",
      "tensor([[0.3299, 0.3430, 0.3316, 0.3388, 0.3487],\n",
      "        [0.3515, 0.3660, 0.3299, 0.3216, 0.3514],\n",
      "        [0.4065, 0.3194, 0.3452, 0.2900, 0.3590],\n",
      "        [0.3618, 0.3594, 0.3750, 0.4127, 0.3315]])\n"
     ]
    }
   ],
   "source": [
    "nc = 5\n",
    "preds = torch.randint(0, 2, (4, nc, 16, 16))  # 4 samples, 5 classes, 16x16 prediction\n",
    "target = torch.randint(0, 2, (4, nc, 16, 16))  # 4 samples, 5 classes, 16x16 target\n",
    "print(mean_iou(preds, target, num_classes=nc))\n",
    "\n",
    "print(mean_iou(preds, target, num_classes=nc, per_class=True))"
   ]
  },
  {
   "cell_type": "code",
   "execution_count": 17,
   "id": "de24d813",
   "metadata": {},
   "outputs": [
    {
     "name": "stdout",
     "output_type": "stream",
     "text": [
      "tensor([0.1040, 0.1081, 0.1263, 0.1366])\n",
      "tensor([[0.3515, 0.1473, 0.0213, 0.0000, 0.0000],\n",
      "        [0.3689, 0.1161, 0.0556, 0.0000, 0.0000],\n",
      "        [0.4208, 0.1538, 0.0566, 0.0000, 0.0000],\n",
      "        [0.3768, 0.1316, 0.0877, 0.0870, 0.0000]])\n"
     ]
    }
   ],
   "source": [
    "print(mean_iou(torch.argmax(preds, dim=1), torch.argmax(target, dim=1), num_classes=nc))\n",
    "\n",
    "print(mean_iou(torch.argmax(preds, dim=1), torch.argmax(target, dim=1), num_classes=nc, per_class=True))"
   ]
  },
  {
   "cell_type": "code",
   "execution_count": 18,
   "id": "3ec41163",
   "metadata": {},
   "outputs": [
    {
     "data": {
      "text/plain": [
       "tensor([0.3262, 0.3488, 0.0000, 0.0000, 0.0000])"
      ]
     },
     "execution_count": 18,
     "metadata": {},
     "output_type": "execute_result"
    }
   ],
   "source": [
    "multiclass_jaccard_index(preds, target, num_classes = 5, average = None)"
   ]
  },
  {
   "cell_type": "code",
   "execution_count": 20,
   "id": "1c32e489",
   "metadata": {},
   "outputs": [],
   "source": [
    "x = list(range(2,4))"
   ]
  },
  {
   "cell_type": "code",
   "execution_count": 21,
   "id": "cb18296c",
   "metadata": {},
   "outputs": [
    {
     "data": {
      "text/plain": [
       "[2, 3]"
      ]
     },
     "execution_count": 21,
     "metadata": {},
     "output_type": "execute_result"
    }
   ],
   "source": [
    "x"
   ]
  },
  {
   "cell_type": "code",
   "execution_count": null,
   "id": "6c64c739",
   "metadata": {},
   "outputs": [],
   "source": []
  }
 ],
 "metadata": {
  "kernelspec": {
   "display_name": "Python 3 (ipykernel)",
   "language": "python",
   "name": "python3"
  },
  "language_info": {
   "codemirror_mode": {
    "name": "ipython",
    "version": 3
   },
   "file_extension": ".py",
   "mimetype": "text/x-python",
   "name": "python",
   "nbconvert_exporter": "python",
   "pygments_lexer": "ipython3",
   "version": "3.10.13"
  }
 },
 "nbformat": 4,
 "nbformat_minor": 5
}
