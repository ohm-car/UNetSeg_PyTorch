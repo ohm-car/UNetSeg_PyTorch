{
 "cells": [
  {
   "cell_type": "code",
   "execution_count": 1,
   "id": "53240743",
   "metadata": {},
   "outputs": [],
   "source": [
    "import torch\n",
    "import torch.nn as nn\n",
    "from torchmetrics.classification import BinaryJaccardIndex, JaccardIndex\n",
    "from torchmetrics.functional.classification import multiclass_jaccard_index\n",
    "from torchmetrics.functional.segmentation import mean_iou\n",
    "from torch.nn.functional import softmax, one_hot"
   ]
  },
  {
   "cell_type": "code",
   "execution_count": 2,
   "id": "61a2fa1e",
   "metadata": {},
   "outputs": [],
   "source": [
    "X = torch.rand(size=(1,3,3,8))\n",
    "Y = (torch.rand(size=(1,3,3,8)) > 0.5) * 1"
   ]
  },
  {
   "cell_type": "code",
   "execution_count": 3,
   "id": "669fd78c",
   "metadata": {},
   "outputs": [
    {
     "name": "stdout",
     "output_type": "stream",
     "text": [
      "tensor([[[[0.5923, 0.8477, 0.3698, 0.2617, 0.5711, 0.6682, 0.4100, 0.3150],\n",
      "          [0.3169, 0.4490, 0.1383, 0.1852, 0.4072, 0.1842, 0.4442, 0.3457],\n",
      "          [0.0295, 0.9735, 0.4528, 0.2898, 0.7387, 0.6396, 0.5971, 0.7699]],\n",
      "\n",
      "         [[0.4892, 0.7381, 0.2469, 0.3066, 0.3950, 0.7744, 0.8534, 0.7583],\n",
      "          [0.6708, 0.4698, 0.6715, 0.3423, 0.6955, 0.9227, 0.7397, 0.2445],\n",
      "          [0.4208, 0.6996, 0.4775, 0.5555, 0.3536, 0.4516, 0.9217, 0.5818]],\n",
      "\n",
      "         [[0.7754, 0.2985, 0.6270, 0.9628, 0.5491, 0.7306, 0.2719, 0.4139],\n",
      "          [0.4095, 0.0317, 0.3471, 0.3971, 0.8689, 0.2168, 0.4625, 0.7107],\n",
      "          [0.1765, 0.1216, 0.3169, 0.0588, 0.4293, 0.9679, 0.1086, 0.9597]]]])\n",
      "tensor([[[[0, 0, 1, 1, 0, 0, 0, 1],\n",
      "          [0, 1, 0, 1, 1, 0, 1, 0],\n",
      "          [0, 0, 0, 1, 1, 0, 0, 0]],\n",
      "\n",
      "         [[0, 0, 0, 0, 1, 0, 1, 0],\n",
      "          [0, 1, 0, 0, 1, 0, 0, 1],\n",
      "          [0, 1, 1, 0, 1, 1, 0, 1]],\n",
      "\n",
      "         [[1, 1, 1, 1, 1, 1, 0, 1],\n",
      "          [0, 0, 0, 1, 1, 1, 1, 1],\n",
      "          [0, 1, 1, 1, 1, 1, 0, 0]]]])\n"
     ]
    }
   ],
   "source": [
    "print(X)\n",
    "print(Y)"
   ]
  },
  {
   "cell_type": "code",
   "execution_count": 4,
   "id": "4fd9d60e",
   "metadata": {},
   "outputs": [],
   "source": [
    "m1 = BinaryJaccardIndex()\n",
    "m2 = JaccardIndex(task='binary', average='micro')"
   ]
  },
  {
   "cell_type": "code",
   "execution_count": 5,
   "id": "7777e673",
   "metadata": {},
   "outputs": [
    {
     "name": "stdout",
     "output_type": "stream",
     "text": [
      "tensor(0.2407) tensor(0.2407)\n"
     ]
    }
   ],
   "source": [
    "print(m1(X,Y), m2(X,Y))"
   ]
  },
  {
   "cell_type": "code",
   "execution_count": 6,
   "id": "3ebf5472",
   "metadata": {},
   "outputs": [],
   "source": [
    "# s = 0\n",
    "# for i in range(7):\n",
    "#     t = m1(X[i], Y[i])\n",
    "#     s += t\n",
    "#     print(t)\n",
    "# print(s, s/8)"
   ]
  },
  {
   "cell_type": "code",
   "execution_count": 7,
   "id": "c9a29087",
   "metadata": {},
   "outputs": [
    {
     "name": "stdout",
     "output_type": "stream",
     "text": [
      "tensor([[0.4312, 0.5144, 0.4053, 0.3733, 0.5565, 0.6173, 0.5343, 0.5666]])\n"
     ]
    }
   ],
   "source": [
    "p1 = torch.mean(X, axis = (1,2))\n",
    "print(p1)"
   ]
  },
  {
   "cell_type": "code",
   "execution_count": 8,
   "id": "46965c04",
   "metadata": {},
   "outputs": [
    {
     "name": "stdout",
     "output_type": "stream",
     "text": [
      "tensor(0.4999)\n"
     ]
    }
   ],
   "source": [
    "print(torch.mean(X[0]))"
   ]
  },
  {
   "cell_type": "code",
   "execution_count": 9,
   "id": "923584df",
   "metadata": {},
   "outputs": [],
   "source": [
    "# print(torch.mean(X[1]))"
   ]
  },
  {
   "cell_type": "markdown",
   "id": "f3d53589",
   "metadata": {},
   "source": [
    "## Torchmetrics multiclass_jaccard_index vs mean_iou"
   ]
  },
  {
   "cell_type": "code",
   "execution_count": 10,
   "id": "2c766632",
   "metadata": {},
   "outputs": [],
   "source": [
    "pred = softmax(torch.rand((4,21,224,224)), dim=1)\n",
    "target = torch.randint(21, (4,224,224))\n",
    "target_oh = torch.permute(one_hot(target, num_classes = 21), (0,3,1,2))\n",
    "pred_oh = torch.permute(one_hot(torch.argmax(pred, dim=1), num_classes = 21), (0,3,1,2))"
   ]
  },
  {
   "cell_type": "code",
   "execution_count": 11,
   "id": "ae6f5ffa",
   "metadata": {},
   "outputs": [],
   "source": [
    "mIU = mean_iou(torch.argmax(pred, dim=1), target, num_classes=21, per_class=True)\n",
    "mIU1 = mean_iou(pred_oh, target_oh, num_classes=21, per_class=True)\n",
    "iou = multiclass_jaccard_index(pred, target, num_classes = 21, average = None)\n",
    "iou2 = multiclass_jaccard_index(pred, target, num_classes = 21)"
   ]
  },
  {
   "cell_type": "code",
   "execution_count": 12,
   "id": "b65a9d94",
   "metadata": {},
   "outputs": [
    {
     "name": "stdout",
     "output_type": "stream",
     "text": [
      "mIU tensor([[0.0276, 0.0242, 0.0250, 0.0231, 0.0272, 0.0208, 0.0233, 0.0289, 0.0251,\n",
      "         0.0241, 0.0258, 0.0257, 0.0236, 0.0281, 0.0261, 0.0185, 0.0242, 0.0248,\n",
      "         0.0216, 0.0222, 0.0255],\n",
      "        [0.0267, 0.0216, 0.0259, 0.0272, 0.0237, 0.0247, 0.0242, 0.0245, 0.0259,\n",
      "         0.0231, 0.0248, 0.0285, 0.0242, 0.0261, 0.0233, 0.0238, 0.0214, 0.0263,\n",
      "         0.0227, 0.0242, 0.0261],\n",
      "        [0.0243, 0.0248, 0.0233, 0.0237, 0.0267, 0.0252, 0.0235, 0.0249, 0.0254,\n",
      "         0.0232, 0.0224, 0.0213, 0.0233, 0.0225, 0.0229, 0.0223, 0.0239, 0.0252,\n",
      "         0.0225, 0.0277, 0.0234],\n",
      "        [0.0277, 0.0241, 0.0268, 0.0222, 0.0248, 0.0251, 0.0240, 0.0230, 0.0259,\n",
      "         0.0208, 0.0252, 0.0268, 0.0220, 0.0243, 0.0240, 0.0252, 0.0249, 0.0244,\n",
      "         0.0219, 0.0241, 0.0245]])\n",
      "mIU1 tensor([[0.0276, 0.0242, 0.0250, 0.0231, 0.0272, 0.0208, 0.0233, 0.0289, 0.0251,\n",
      "         0.0241, 0.0258, 0.0257, 0.0236, 0.0281, 0.0261, 0.0185, 0.0242, 0.0248,\n",
      "         0.0216, 0.0222, 0.0255],\n",
      "        [0.0267, 0.0216, 0.0259, 0.0272, 0.0237, 0.0247, 0.0242, 0.0245, 0.0259,\n",
      "         0.0231, 0.0248, 0.0285, 0.0242, 0.0261, 0.0233, 0.0238, 0.0214, 0.0263,\n",
      "         0.0227, 0.0242, 0.0261],\n",
      "        [0.0243, 0.0248, 0.0233, 0.0237, 0.0267, 0.0252, 0.0235, 0.0249, 0.0254,\n",
      "         0.0232, 0.0224, 0.0213, 0.0233, 0.0225, 0.0229, 0.0223, 0.0239, 0.0252,\n",
      "         0.0225, 0.0277, 0.0234],\n",
      "        [0.0277, 0.0241, 0.0268, 0.0222, 0.0248, 0.0251, 0.0240, 0.0230, 0.0259,\n",
      "         0.0208, 0.0252, 0.0268, 0.0220, 0.0243, 0.0240, 0.0252, 0.0249, 0.0244,\n",
      "         0.0219, 0.0241, 0.0245]])\n",
      "iou tensor([0.0266, 0.0237, 0.0252, 0.0240, 0.0256, 0.0240, 0.0238, 0.0253, 0.0256,\n",
      "        0.0228, 0.0245, 0.0256, 0.0233, 0.0253, 0.0241, 0.0224, 0.0236, 0.0252,\n",
      "        0.0222, 0.0246, 0.0249])\n",
      "iou2 tensor(0.0244)\n"
     ]
    }
   ],
   "source": [
    "print('mIU', mIU)\n",
    "print('mIU1', mIU1)\n",
    "print('iou', iou)\n",
    "print('iou2', iou2)"
   ]
  },
  {
   "cell_type": "code",
   "execution_count": 13,
   "id": "4fc20bc2",
   "metadata": {},
   "outputs": [
    {
     "data": {
      "text/plain": [
       "tensor([0.0266, 0.0237, 0.0253, 0.0240, 0.0256, 0.0240, 0.0238, 0.0253, 0.0256,\n",
       "        0.0228, 0.0246, 0.0256, 0.0233, 0.0253, 0.0241, 0.0224, 0.0236, 0.0252,\n",
       "        0.0222, 0.0246, 0.0248])"
      ]
     },
     "execution_count": 13,
     "metadata": {},
     "output_type": "execute_result"
    }
   ],
   "source": [
    "torch.mean(mIU, dim=0)"
   ]
  },
  {
   "cell_type": "code",
   "execution_count": 14,
   "id": "43bbbfb9",
   "metadata": {},
   "outputs": [],
   "source": [
    "# x = torch.zeros([21])\n",
    "# print(x.shape)\n",
    "# for i in range(21):\n",
    "#     x[i] = torch.sum(torch.where(target == i, 1, 0))\n",
    "#     print(x[i])\n",
    "# print(torch.sum(x))"
   ]
  },
  {
   "cell_type": "code",
   "execution_count": 15,
   "id": "b4e21ac1",
   "metadata": {},
   "outputs": [
    {
     "data": {
      "text/plain": [
       "200704"
      ]
     },
     "execution_count": 15,
     "metadata": {},
     "output_type": "execute_result"
    }
   ],
   "source": [
    "4*224*224"
   ]
  },
  {
   "cell_type": "code",
   "execution_count": 16,
   "id": "00de7bd4",
   "metadata": {},
   "outputs": [
    {
     "name": "stdout",
     "output_type": "stream",
     "text": [
      "tensor([0.3678, 0.3035, 0.3121, 0.3178])\n",
      "tensor([[0.3613, 0.3679, 0.3583, 0.3909, 0.3608],\n",
      "        [0.3280, 0.3622, 0.3041, 0.2732, 0.2500],\n",
      "        [0.3553, 0.3316, 0.2798, 0.3065, 0.2872],\n",
      "        [0.3523, 0.2745, 0.3520, 0.3503, 0.2602]])\n"
     ]
    }
   ],
   "source": [
    "nc = 5\n",
    "preds = torch.randint(0, 2, (4, nc, 16, 16))  # 4 samples, 5 classes, 16x16 prediction\n",
    "target = torch.randint(0, 2, (4, nc, 16, 16))  # 4 samples, 5 classes, 16x16 target\n",
    "print(mean_iou(preds, target, num_classes=nc))\n",
    "\n",
    "print(mean_iou(preds, target, num_classes=nc, per_class=True))"
   ]
  },
  {
   "cell_type": "code",
   "execution_count": 17,
   "id": "de24d813",
   "metadata": {},
   "outputs": [
    {
     "name": "stdout",
     "output_type": "stream",
     "text": [
      "tensor([0.1264, 0.1119, 0.1385, 0.1219])\n",
      "tensor([[0.3824, 0.1239, 0.0926, 0.0333, 0.0000],\n",
      "        [0.3450, 0.1083, 0.0536, 0.0000, 0.0526],\n",
      "        [0.4350, 0.1635, 0.0556, 0.0385, 0.0000],\n",
      "        [0.3632, 0.1545, 0.0345, 0.0571, 0.0000]])\n"
     ]
    }
   ],
   "source": [
    "print(mean_iou(torch.argmax(preds, dim=1), torch.argmax(target, dim=1), num_classes=nc))\n",
    "\n",
    "print(mean_iou(torch.argmax(preds, dim=1), torch.argmax(target, dim=1), num_classes=nc, per_class=True))"
   ]
  },
  {
   "cell_type": "code",
   "execution_count": 18,
   "id": "3ec41163",
   "metadata": {},
   "outputs": [
    {
     "data": {
      "text/plain": [
       "tensor([0.3315, 0.3251, 0.0000, 0.0000, 0.0000])"
      ]
     },
     "execution_count": 18,
     "metadata": {},
     "output_type": "execute_result"
    }
   ],
   "source": [
    "multiclass_jaccard_index(preds, target, num_classes = 5, average = None)"
   ]
  },
  {
   "cell_type": "code",
   "execution_count": 19,
   "id": "1c32e489",
   "metadata": {},
   "outputs": [],
   "source": [
    "x = list(range(2,4))"
   ]
  },
  {
   "cell_type": "code",
   "execution_count": 20,
   "id": "cb18296c",
   "metadata": {},
   "outputs": [],
   "source": [
    "pred = torch.randint(5, (4,64,64))\n",
    "target = torch.randint(5, (4,64,64))\n",
    "target_oh = torch.permute(one_hot(target, num_classes = 5), (0,3,1,2))\n",
    "pred_oh = torch.permute(one_hot(pred, num_classes = 5), (0,3,1,2))"
   ]
  },
  {
   "cell_type": "code",
   "execution_count": 21,
   "id": "6c64c739",
   "metadata": {},
   "outputs": [],
   "source": [
    "mIU = mean_iou(pred, target, num_classes=5, per_class=True)\n",
    "mIU1 = mean_iou(pred_oh, target_oh, num_classes=5, per_class=True)\n",
    "iou = multiclass_jaccard_index(pred, target, num_classes = 5, average = None)\n",
    "iou2 = multiclass_jaccard_index(pred, target, num_classes = 5)"
   ]
  },
  {
   "cell_type": "code",
   "execution_count": 22,
   "id": "65a03989",
   "metadata": {},
   "outputs": [
    {
     "name": "stdout",
     "output_type": "stream",
     "text": [
      "Mean mIU tensor([0.1133, 0.1061, 0.1139, 0.1153, 0.1172])\n",
      "Mean mIU1 tensor([0.1133, 0.1061, 0.1139, 0.1153, 0.1172])\n",
      "iou tensor([0.1133, 0.1061, 0.1139, 0.1153, 0.1173])\n",
      "iou2 tensor(0.1132)\n"
     ]
    }
   ],
   "source": [
    "# print('mIU', mIU)\n",
    "print('Mean mIU', torch.mean(mIU, dim=0))\n",
    "# print('mIU1', mIU1)\n",
    "print('Mean mIU1', torch.mean(mIU1, dim=0))\n",
    "print('iou', iou)\n",
    "print('iou2', iou2)"
   ]
  },
  {
   "cell_type": "code",
   "execution_count": 23,
   "id": "ae5e1058",
   "metadata": {},
   "outputs": [
    {
     "data": {
      "text/plain": [
       "tensor([1.0001, 0.9997, 0.9999, 1.0006, 0.9992])"
      ]
     },
     "execution_count": 23,
     "metadata": {},
     "output_type": "execute_result"
    }
   ],
   "source": [
    "torch.mean(mIU1, dim=0) / iou"
   ]
  },
  {
   "cell_type": "code",
   "execution_count": 24,
   "id": "dd808133",
   "metadata": {},
   "outputs": [],
   "source": [
    "z = (72 * torch.rand(21)) / torch.randint(1, 72, (21,))\n",
    "z1 = (z <= 1.0)*1"
   ]
  },
  {
   "cell_type": "code",
   "execution_count": 25,
   "id": "25d90000",
   "metadata": {},
   "outputs": [
    {
     "name": "stdout",
     "output_type": "stream",
     "text": [
      "tensor([ 0.8406,  0.6046,  0.9204,  1.6259,  1.1382,  0.3609,  3.4553,  1.0171,\n",
      "         0.2268,  6.5825,  4.6105,  0.4738,  5.6463, 32.3456,  1.3082,  0.3866,\n",
      "         0.3696,  0.8262,  3.3581,  0.9612,  2.0770])\n",
      "tensor([1, 1, 1, 0, 0, 1, 0, 0, 1, 0, 0, 1, 0, 0, 0, 1, 1, 1, 0, 1, 0])\n"
     ]
    }
   ],
   "source": [
    "print(z)\n",
    "print(z1)"
   ]
  },
  {
   "cell_type": "code",
   "execution_count": null,
   "id": "04ce2be1",
   "metadata": {},
   "outputs": [],
   "source": []
  }
 ],
 "metadata": {
  "kernelspec": {
   "display_name": "Python 3 (ipykernel)",
   "language": "python",
   "name": "python3"
  },
  "language_info": {
   "codemirror_mode": {
    "name": "ipython",
    "version": 3
   },
   "file_extension": ".py",
   "mimetype": "text/x-python",
   "name": "python",
   "nbconvert_exporter": "python",
   "pygments_lexer": "ipython3",
   "version": "3.10.13"
  }
 },
 "nbformat": 4,
 "nbformat_minor": 5
}
