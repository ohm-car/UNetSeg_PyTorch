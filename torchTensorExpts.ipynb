{
 "cells": [
  {
   "cell_type": "code",
   "execution_count": 35,
   "id": "53240743",
   "metadata": {},
   "outputs": [],
   "source": [
    "import torch\n",
    "import torch.nn as nn\n",
    "from torchmetrics.classification import BinaryJaccardIndex, JaccardIndex"
   ]
  },
  {
   "cell_type": "code",
   "execution_count": 36,
   "id": "61a2fa1e",
   "metadata": {},
   "outputs": [],
   "source": [
    "X = torch.rand(size=((1,3,3,8))\n",
    "Y = (torch.rand(size=(1,3,3,8)) > 0.5) * 1"
   ]
  },
  {
   "cell_type": "code",
   "execution_count": 37,
   "id": "669fd78c",
   "metadata": {},
   "outputs": [
    {
     "name": "stdout",
     "output_type": "stream",
     "text": [
      "tensor([[[[0.9267, 0.4407, 0.2962, 0.6661, 0.1107, 0.6996, 0.2236, 0.2926],\n",
      "          [0.7980, 0.0042, 0.8350, 0.4774, 0.0988, 0.6678, 0.6320, 0.2444],\n",
      "          [0.8542, 0.8941, 0.9668, 0.0191, 0.2861, 0.2074, 0.0150, 0.9831]],\n",
      "\n",
      "         [[0.4589, 0.8075, 0.1332, 0.3930, 0.6485, 0.7243, 0.9613, 0.2934],\n",
      "          [0.6648, 0.1483, 0.3939, 0.8546, 0.4190, 0.2846, 0.1535, 0.1885],\n",
      "          [0.1372, 0.0094, 0.4409, 0.6515, 0.3325, 0.4235, 0.1248, 0.9549]],\n",
      "\n",
      "         [[0.5812, 0.8056, 0.1709, 0.9882, 0.0216, 0.7694, 0.6949, 0.2833],\n",
      "          [0.6115, 0.3836, 0.3812, 0.4513, 0.8032, 0.6575, 0.7137, 0.4184],\n",
      "          [0.9233, 0.2551, 0.9297, 0.0958, 0.9810, 0.3341, 0.6912, 0.9351]]]])\n",
      "tensor([[[[0, 1, 0, 1, 1, 0, 0, 0],\n",
      "          [0, 1, 1, 0, 0, 1, 0, 1],\n",
      "          [0, 1, 0, 1, 0, 0, 0, 0]],\n",
      "\n",
      "         [[0, 1, 0, 0, 0, 1, 0, 0],\n",
      "          [0, 0, 1, 0, 1, 0, 1, 1],\n",
      "          [1, 0, 0, 1, 1, 0, 1, 1]],\n",
      "\n",
      "         [[0, 1, 1, 1, 0, 0, 0, 0],\n",
      "          [1, 1, 1, 1, 1, 0, 0, 0],\n",
      "          [0, 1, 0, 1, 1, 0, 1, 1]]]])\n"
     ]
    }
   ],
   "source": [
    "print(X)\n",
    "print(Y)"
   ]
  },
  {
   "cell_type": "code",
   "execution_count": 41,
   "id": "4fd9d60e",
   "metadata": {},
   "outputs": [],
   "source": [
    "m1 = BinaryJaccardIndex()\n",
    "m2 = JaccardIndex(task='binary', average='micro')"
   ]
  },
  {
   "cell_type": "code",
   "execution_count": 42,
   "id": "7777e673",
   "metadata": {},
   "outputs": [
    {
     "name": "stdout",
     "output_type": "stream",
     "text": [
      "tensor(0.2941) tensor(0.2941)\n"
     ]
    }
   ],
   "source": [
    "print(m1(X,Y), m2(X,Y))"
   ]
  },
  {
   "cell_type": "code",
   "execution_count": 40,
   "id": "3ebf5472",
   "metadata": {},
   "outputs": [
    {
     "name": "stdout",
     "output_type": "stream",
     "text": [
      "tensor(0.2941)\n"
     ]
    },
    {
     "ename": "IndexError",
     "evalue": "index 1 is out of bounds for dimension 0 with size 1",
     "output_type": "error",
     "traceback": [
      "\u001b[0;31m---------------------------------------------------------------------------\u001b[0m",
      "\u001b[0;31mIndexError\u001b[0m                                Traceback (most recent call last)",
      "Cell \u001b[0;32mIn[40], line 3\u001b[0m\n\u001b[1;32m      1\u001b[0m s \u001b[38;5;241m=\u001b[39m \u001b[38;5;241m0\u001b[39m\n\u001b[1;32m      2\u001b[0m \u001b[38;5;28;01mfor\u001b[39;00m i \u001b[38;5;129;01min\u001b[39;00m \u001b[38;5;28mrange\u001b[39m(\u001b[38;5;241m7\u001b[39m):\n\u001b[0;32m----> 3\u001b[0m     t \u001b[38;5;241m=\u001b[39m m1(\u001b[43mX\u001b[49m\u001b[43m[\u001b[49m\u001b[43mi\u001b[49m\u001b[43m]\u001b[49m, Y[i])\n\u001b[1;32m      4\u001b[0m     s \u001b[38;5;241m+\u001b[39m\u001b[38;5;241m=\u001b[39m t\n\u001b[1;32m      5\u001b[0m     \u001b[38;5;28mprint\u001b[39m(t)\n",
      "\u001b[0;31mIndexError\u001b[0m: index 1 is out of bounds for dimension 0 with size 1"
     ]
    }
   ],
   "source": [
    "s = 0\n",
    "for i in range(7):\n",
    "    t = m1(X[i], Y[i])\n",
    "    s += t\n",
    "    print(t)\n",
    "print(s, s/8)"
   ]
  },
  {
   "cell_type": "code",
   "execution_count": null,
   "id": "c9a29087",
   "metadata": {},
   "outputs": [],
   "source": [
    "p1 = torch.mean(X, axis = (1,2))\n",
    "print(p1)"
   ]
  },
  {
   "cell_type": "code",
   "execution_count": null,
   "id": "46965c04",
   "metadata": {},
   "outputs": [],
   "source": [
    "print(torch.mean(X[0]))"
   ]
  },
  {
   "cell_type": "code",
   "execution_count": null,
   "id": "923584df",
   "metadata": {},
   "outputs": [],
   "source": [
    "print(torch.mean(X[1]))"
   ]
  },
  {
   "cell_type": "code",
   "execution_count": null,
   "id": "bb6b963a",
   "metadata": {},
   "outputs": [],
   "source": [
    "X[0]"
   ]
  },
  {
   "cell_type": "code",
   "execution_count": null,
   "id": "cfd62594",
   "metadata": {},
   "outputs": [],
   "source": [
    "rv = torch.rand(size=(2,))\n",
    "print(rv)"
   ]
  },
  {
   "cell_type": "code",
   "execution_count": null,
   "id": "e2775086",
   "metadata": {},
   "outputs": [],
   "source": [
    "loss = nn.L1Loss(reduction='sum')"
   ]
  },
  {
   "cell_type": "code",
   "execution_count": null,
   "id": "dd09db8c",
   "metadata": {},
   "outputs": [],
   "source": [
    "loss(p1, rv)"
   ]
  },
  {
   "cell_type": "code",
   "execution_count": null,
   "id": "668b55d8",
   "metadata": {},
   "outputs": [],
   "source": [
    "(torch.abs(p1[0] - rv[0]) + torch.abs(p1[1] - rv[1]))"
   ]
  },
  {
   "cell_type": "code",
   "execution_count": null,
   "id": "b82e192e",
   "metadata": {},
   "outputs": [],
   "source": [
    "torch.tensor(3*[0.345])"
   ]
  },
  {
   "cell_type": "code",
   "execution_count": null,
   "id": "5602a7df",
   "metadata": {},
   "outputs": [],
   "source": []
  }
 ],
 "metadata": {
  "kernelspec": {
   "display_name": "Python 3 (ipykernel)",
   "language": "python",
   "name": "python3"
  },
  "language_info": {
   "codemirror_mode": {
    "name": "ipython",
    "version": 3
   },
   "file_extension": ".py",
   "mimetype": "text/x-python",
   "name": "python",
   "nbconvert_exporter": "python",
   "pygments_lexer": "ipython3",
   "version": "3.10.13"
  }
 },
 "nbformat": 4,
 "nbformat_minor": 5
}
