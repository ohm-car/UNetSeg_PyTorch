{
 "cells": [
  {
   "cell_type": "code",
   "execution_count": 1,
   "id": "53240743",
   "metadata": {},
   "outputs": [],
   "source": [
    "import torch\n",
    "import torch.nn as nn\n",
    "from torchmetrics.classification import BinaryJaccardIndex, JaccardIndex\n",
    "from torchmetrics.functional.classification import multiclass_jaccard_index\n",
    "from torchmetrics.functional.segmentation import mean_iou\n",
    "from torch.nn.functional import softmax, one_hot"
   ]
  },
  {
   "cell_type": "code",
   "execution_count": 2,
   "id": "61a2fa1e",
   "metadata": {},
   "outputs": [],
   "source": [
    "X = torch.rand(size=(1,3,3,8))\n",
    "Y = (torch.rand(size=(1,3,3,8)) > 0.5) * 1"
   ]
  },
  {
   "cell_type": "code",
   "execution_count": 3,
   "id": "669fd78c",
   "metadata": {},
   "outputs": [
    {
     "name": "stdout",
     "output_type": "stream",
     "text": [
      "tensor([[[[0.6372, 0.2638, 0.2604, 0.8549, 0.8723, 0.7034, 0.5103, 0.0013],\n",
      "          [0.3022, 0.2188, 0.8299, 0.1832, 0.9009, 0.7847, 0.4996, 0.9875],\n",
      "          [0.5134, 0.3053, 0.5092, 0.5875, 0.5072, 0.1183, 0.0286, 0.9251]],\n",
      "\n",
      "         [[0.5064, 0.8409, 0.4776, 0.4451, 0.9370, 0.7479, 0.8464, 0.8820],\n",
      "          [0.2856, 0.0868, 0.1285, 0.3299, 0.2683, 0.6146, 0.5490, 0.8278],\n",
      "          [0.3428, 0.2099, 0.4739, 0.4193, 0.9067, 0.6751, 0.3898, 0.9705]],\n",
      "\n",
      "         [[0.7600, 0.6519, 0.6302, 0.8279, 0.8793, 0.9622, 0.1932, 0.5835],\n",
      "          [0.1515, 0.2482, 0.9301, 0.3756, 0.5505, 0.7285, 0.4053, 0.2314],\n",
      "          [0.4934, 0.4187, 0.8079, 0.1795, 0.2323, 0.7519, 0.8169, 0.2160]]]])\n",
      "tensor([[[[0, 1, 0, 1, 1, 1, 1, 0],\n",
      "          [1, 1, 0, 1, 1, 0, 1, 0],\n",
      "          [1, 1, 0, 1, 0, 1, 0, 1]],\n",
      "\n",
      "         [[0, 0, 1, 1, 1, 0, 1, 0],\n",
      "          [0, 1, 1, 0, 1, 0, 0, 0],\n",
      "          [1, 1, 1, 1, 1, 0, 0, 0]],\n",
      "\n",
      "         [[1, 1, 0, 0, 0, 1, 1, 0],\n",
      "          [0, 1, 1, 1, 0, 1, 1, 0],\n",
      "          [0, 1, 1, 0, 1, 1, 0, 1]]]])\n"
     ]
    }
   ],
   "source": [
    "print(X)\n",
    "print(Y)"
   ]
  },
  {
   "cell_type": "code",
   "execution_count": 4,
   "id": "4fd9d60e",
   "metadata": {},
   "outputs": [],
   "source": [
    "m1 = BinaryJaccardIndex()\n",
    "m2 = JaccardIndex(task='binary', average='micro')"
   ]
  },
  {
   "cell_type": "code",
   "execution_count": 5,
   "id": "7777e673",
   "metadata": {},
   "outputs": [
    {
     "name": "stdout",
     "output_type": "stream",
     "text": [
      "tensor(0.2903) tensor(0.2903)\n"
     ]
    }
   ],
   "source": [
    "print(m1(X,Y), m2(X,Y))"
   ]
  },
  {
   "cell_type": "code",
   "execution_count": 6,
   "id": "3ebf5472",
   "metadata": {},
   "outputs": [],
   "source": [
    "# s = 0\n",
    "# for i in range(7):\n",
    "#     t = m1(X[i], Y[i])\n",
    "#     s += t\n",
    "#     print(t)\n",
    "# print(s, s/8)"
   ]
  },
  {
   "cell_type": "code",
   "execution_count": 7,
   "id": "c9a29087",
   "metadata": {},
   "outputs": [
    {
     "name": "stdout",
     "output_type": "stream",
     "text": [
      "tensor([[0.4436, 0.3605, 0.5609, 0.4670, 0.6727, 0.6763, 0.4710, 0.6250]])\n"
     ]
    }
   ],
   "source": [
    "p1 = torch.mean(X, axis = (1,2))\n",
    "print(p1)"
   ]
  },
  {
   "cell_type": "code",
   "execution_count": 8,
   "id": "46965c04",
   "metadata": {},
   "outputs": [
    {
     "name": "stdout",
     "output_type": "stream",
     "text": [
      "tensor(0.5346)\n"
     ]
    }
   ],
   "source": [
    "print(torch.mean(X[0]))"
   ]
  },
  {
   "cell_type": "code",
   "execution_count": 9,
   "id": "923584df",
   "metadata": {},
   "outputs": [],
   "source": [
    "# print(torch.mean(X[1]))"
   ]
  },
  {
   "cell_type": "markdown",
   "id": "f3d53589",
   "metadata": {},
   "source": [
    "## Torchmetrics multiclass_jaccard_index vs mean_iou"
   ]
  },
  {
   "cell_type": "code",
   "execution_count": 10,
   "id": "2c766632",
   "metadata": {},
   "outputs": [],
   "source": [
    "pred = softmax(torch.rand((4,21,224,224)), dim=1)\n",
    "target = torch.randint(21, (4,224,224))\n",
    "target_oh = torch.permute(one_hot(target, num_classes = 21), (0,3,1,2))\n",
    "pred_oh = torch.permute(one_hot(torch.argmax(pred, dim=1), num_classes = 21), (0,3,1,2))"
   ]
  },
  {
   "cell_type": "code",
   "execution_count": 11,
   "id": "ae6f5ffa",
   "metadata": {},
   "outputs": [],
   "source": [
    "mIU = mean_iou(torch.argmax(pred, dim=1), target, num_classes=21, per_class=True)\n",
    "mIU1 = mean_iou(pred_oh, target_oh, num_classes=21, per_class=True)\n",
    "iou = multiclass_jaccard_index(pred, target, num_classes = 21, average = None)\n",
    "iou2 = multiclass_jaccard_index(pred, target, num_classes = 21)"
   ]
  },
  {
   "cell_type": "code",
   "execution_count": 12,
   "id": "b65a9d94",
   "metadata": {},
   "outputs": [],
   "source": [
    "# print('mIU', mIU)\n",
    "# print('iou', iou)\n",
    "# print('iou2', iou2)\n",
    "# print('mIU1', mIU1)"
   ]
  },
  {
   "cell_type": "code",
   "execution_count": 13,
   "id": "4fc20bc2",
   "metadata": {},
   "outputs": [
    {
     "data": {
      "text/plain": [
       "tensor([0.0241, 0.0257, 0.0228, 0.0231, 0.0243, 0.0223, 0.0237, 0.0234, 0.0252,\n",
       "        0.0246, 0.0230, 0.0259, 0.0251, 0.0220, 0.0241, 0.0236, 0.0235, 0.0253,\n",
       "        0.0241, 0.0228, 0.0245])"
      ]
     },
     "execution_count": 13,
     "metadata": {},
     "output_type": "execute_result"
    }
   ],
   "source": [
    "torch.mean(mIU, dim=0)"
   ]
  },
  {
   "cell_type": "code",
   "execution_count": 14,
   "id": "43bbbfb9",
   "metadata": {},
   "outputs": [],
   "source": [
    "# x = torch.zeros([21])\n",
    "# print(x.shape)\n",
    "# for i in range(21):\n",
    "#     x[i] = torch.sum(torch.where(target == i, 1, 0))\n",
    "#     print(x[i])\n",
    "# print(torch.sum(x))"
   ]
  },
  {
   "cell_type": "code",
   "execution_count": 15,
   "id": "b4e21ac1",
   "metadata": {},
   "outputs": [
    {
     "data": {
      "text/plain": [
       "200704"
      ]
     },
     "execution_count": 15,
     "metadata": {},
     "output_type": "execute_result"
    }
   ],
   "source": [
    "4*224*224"
   ]
  },
  {
   "cell_type": "code",
   "execution_count": 18,
   "id": "00de7bd4",
   "metadata": {},
   "outputs": [
    {
     "name": "stdout",
     "output_type": "stream",
     "text": [
      "tensor([0.3485, 0.3396, 0.3155, 0.3226])\n",
      "tensor([[0.3368, 0.3763, 0.3782, 0.3177, 0.3333],\n",
      "        [0.2953, 0.3404, 0.3568, 0.3384, 0.3673],\n",
      "        [0.2980, 0.3564, 0.3069, 0.3000, 0.3163],\n",
      "        [0.3237, 0.4053, 0.2932, 0.2836, 0.3073]])\n"
     ]
    }
   ],
   "source": [
    "nc = 5\n",
    "preds = torch.randint(0, 2, (4, nc, 16, 16))  # 4 samples, 5 classes, 16x16 prediction\n",
    "target = torch.randint(0, 2, (4, nc, 16, 16))  # 4 samples, 5 classes, 16x16 target\n",
    "print(mean_iou(preds, target, num_classes=nc))\n",
    "\n",
    "print(mean_iou(preds, target, num_classes=nc, per_class=True))"
   ]
  },
  {
   "cell_type": "code",
   "execution_count": 19,
   "id": "de24d813",
   "metadata": {},
   "outputs": [
    {
     "name": "stdout",
     "output_type": "stream",
     "text": [
      "tensor([0.1442, 0.1256, 0.1082, 0.1045])\n",
      "tensor([[0.3467, 0.1364, 0.1111, 0.0769, 0.0500],\n",
      "        [0.3300, 0.1682, 0.1296, 0.0000, 0.0000],\n",
      "        [0.3284, 0.1491, 0.0278, 0.0357, 0.0000],\n",
      "        [0.3594, 0.1204, 0.0426, 0.0000, 0.0000]])\n"
     ]
    }
   ],
   "source": [
    "print(mean_iou(torch.argmax(preds, dim=1), torch.argmax(target, dim=1), num_classes=nc))\n",
    "\n",
    "print(mean_iou(torch.argmax(preds, dim=1), torch.argmax(target, dim=1), num_classes=nc, per_class=True))"
   ]
  },
  {
   "cell_type": "code",
   "execution_count": 20,
   "id": "3ec41163",
   "metadata": {},
   "outputs": [
    {
     "data": {
      "text/plain": [
       "tensor([0.3226, 0.3312, 0.0000, 0.0000, 0.0000])"
      ]
     },
     "execution_count": 20,
     "metadata": {},
     "output_type": "execute_result"
    }
   ],
   "source": [
    "multiclass_jaccard_index(preds, target, num_classes = 5, average = None)"
   ]
  },
  {
   "cell_type": "code",
   "execution_count": null,
   "id": "1c32e489",
   "metadata": {},
   "outputs": [],
   "source": []
  }
 ],
 "metadata": {
  "kernelspec": {
   "display_name": "Python 3 (ipykernel)",
   "language": "python",
   "name": "python3"
  },
  "language_info": {
   "codemirror_mode": {
    "name": "ipython",
    "version": 3
   },
   "file_extension": ".py",
   "mimetype": "text/x-python",
   "name": "python",
   "nbconvert_exporter": "python",
   "pygments_lexer": "ipython3",
   "version": "3.10.13"
  }
 },
 "nbformat": 4,
 "nbformat_minor": 5
}
