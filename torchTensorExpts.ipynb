{
 "cells": [
  {
   "cell_type": "code",
   "execution_count": 1,
   "id": "53240743",
   "metadata": {},
   "outputs": [],
   "source": [
    "import torch\n",
    "import torch.nn as nn\n",
    "from torchmetrics.classification import BinaryJaccardIndex, JaccardIndex"
   ]
  },
  {
   "cell_type": "code",
   "execution_count": 2,
   "id": "61a2fa1e",
   "metadata": {},
   "outputs": [],
   "source": [
    "X = torch.rand(size=(1,3,3,8))\n",
    "Y = (torch.rand(size=(1,3,3,8)) > 0.5) * 1"
   ]
  },
  {
   "cell_type": "code",
   "execution_count": 3,
   "id": "669fd78c",
   "metadata": {},
   "outputs": [
    {
     "name": "stdout",
     "output_type": "stream",
     "text": [
      "tensor([[[[0.6274, 0.0225, 0.8790, 0.9950, 0.2034, 0.1134, 0.5777, 0.5050],\n",
      "          [0.4781, 0.3134, 0.6852, 0.6214, 0.0401, 0.9174, 0.1897, 0.2352],\n",
      "          [0.4800, 0.4560, 0.5523, 0.8078, 0.7045, 0.2192, 0.0171, 0.2149]],\n",
      "\n",
      "         [[0.0323, 0.8328, 0.1422, 0.7570, 0.2224, 0.1570, 0.2796, 0.7968],\n",
      "          [0.9745, 0.3978, 0.4186, 0.9271, 0.5507, 0.7015, 0.9941, 0.2093],\n",
      "          [0.6826, 0.6648, 0.4675, 0.0211, 0.1149, 0.6199, 0.7752, 0.4012]],\n",
      "\n",
      "         [[0.7374, 0.0381, 0.3704, 0.1497, 0.4685, 0.5419, 0.2210, 0.3646],\n",
      "          [0.4339, 0.7055, 0.5920, 0.6108, 0.0092, 0.2258, 0.2301, 0.9766],\n",
      "          [0.7831, 0.5795, 0.8297, 0.1207, 0.5731, 0.2802, 0.5636, 0.3783]]]])\n",
      "tensor([[[[1, 1, 0, 0, 0, 0, 0, 1],\n",
      "          [0, 1, 0, 1, 1, 1, 1, 1],\n",
      "          [1, 0, 1, 1, 0, 0, 0, 1]],\n",
      "\n",
      "         [[1, 1, 0, 1, 1, 1, 0, 1],\n",
      "          [0, 0, 1, 1, 1, 0, 0, 1],\n",
      "          [1, 1, 0, 1, 1, 0, 0, 0]],\n",
      "\n",
      "         [[1, 0, 0, 0, 0, 1, 0, 1],\n",
      "          [0, 0, 0, 1, 0, 1, 1, 1],\n",
      "          [1, 0, 0, 1, 0, 0, 0, 1]]]])\n"
     ]
    }
   ],
   "source": [
    "print(X)\n",
    "print(Y)"
   ]
  },
  {
   "cell_type": "code",
   "execution_count": 4,
   "id": "4fd9d60e",
   "metadata": {},
   "outputs": [],
   "source": [
    "m1 = BinaryJaccardIndex()\n",
    "m2 = JaccardIndex(task='binary', average='micro')"
   ]
  },
  {
   "cell_type": "code",
   "execution_count": 5,
   "id": "7777e673",
   "metadata": {},
   "outputs": [
    {
     "name": "stdout",
     "output_type": "stream",
     "text": [
      "tensor(0.3396) tensor(0.3396)\n"
     ]
    }
   ],
   "source": [
    "print(m1(X,Y), m2(X,Y))"
   ]
  },
  {
   "cell_type": "code",
   "execution_count": 6,
   "id": "3ebf5472",
   "metadata": {},
   "outputs": [
    {
     "name": "stdout",
     "output_type": "stream",
     "text": [
      "tensor(0.3396)\n"
     ]
    },
    {
     "ename": "IndexError",
     "evalue": "index 1 is out of bounds for dimension 0 with size 1",
     "output_type": "error",
     "traceback": [
      "\u001b[0;31m---------------------------------------------------------------------------\u001b[0m",
      "\u001b[0;31mIndexError\u001b[0m                                Traceback (most recent call last)",
      "Cell \u001b[0;32mIn[6], line 3\u001b[0m\n\u001b[1;32m      1\u001b[0m s \u001b[38;5;241m=\u001b[39m \u001b[38;5;241m0\u001b[39m\n\u001b[1;32m      2\u001b[0m \u001b[38;5;28;01mfor\u001b[39;00m i \u001b[38;5;129;01min\u001b[39;00m \u001b[38;5;28mrange\u001b[39m(\u001b[38;5;241m7\u001b[39m):\n\u001b[0;32m----> 3\u001b[0m     t \u001b[38;5;241m=\u001b[39m m1(\u001b[43mX\u001b[49m\u001b[43m[\u001b[49m\u001b[43mi\u001b[49m\u001b[43m]\u001b[49m, Y[i])\n\u001b[1;32m      4\u001b[0m     s \u001b[38;5;241m+\u001b[39m\u001b[38;5;241m=\u001b[39m t\n\u001b[1;32m      5\u001b[0m     \u001b[38;5;28mprint\u001b[39m(t)\n",
      "\u001b[0;31mIndexError\u001b[0m: index 1 is out of bounds for dimension 0 with size 1"
     ]
    }
   ],
   "source": [
    "s = 0\n",
    "for i in range(7):\n",
    "    t = m1(X[i], Y[i])\n",
    "    s += t\n",
    "    print(t)\n",
    "print(s, s/8)"
   ]
  },
  {
   "cell_type": "code",
   "execution_count": 7,
   "id": "c9a29087",
   "metadata": {},
   "outputs": [
    {
     "name": "stdout",
     "output_type": "stream",
     "text": [
      "tensor([[0.5810, 0.4456, 0.5486, 0.5567, 0.3207, 0.4196, 0.4276, 0.4535]])\n"
     ]
    }
   ],
   "source": [
    "p1 = torch.mean(X, axis = (1,2))\n",
    "print(p1)"
   ]
  },
  {
   "cell_type": "code",
   "execution_count": 8,
   "id": "46965c04",
   "metadata": {},
   "outputs": [
    {
     "name": "stdout",
     "output_type": "stream",
     "text": [
      "tensor(0.4692)\n"
     ]
    }
   ],
   "source": [
    "print(torch.mean(X[0]))"
   ]
  },
  {
   "cell_type": "code",
   "execution_count": 9,
   "id": "923584df",
   "metadata": {},
   "outputs": [
    {
     "ename": "IndexError",
     "evalue": "index 1 is out of bounds for dimension 0 with size 1",
     "output_type": "error",
     "traceback": [
      "\u001b[0;31m---------------------------------------------------------------------------\u001b[0m",
      "\u001b[0;31mIndexError\u001b[0m                                Traceback (most recent call last)",
      "Cell \u001b[0;32mIn[9], line 1\u001b[0m\n\u001b[0;32m----> 1\u001b[0m \u001b[38;5;28mprint\u001b[39m(torch\u001b[38;5;241m.\u001b[39mmean(\u001b[43mX\u001b[49m\u001b[43m[\u001b[49m\u001b[38;5;241;43m1\u001b[39;49m\u001b[43m]\u001b[49m))\n",
      "\u001b[0;31mIndexError\u001b[0m: index 1 is out of bounds for dimension 0 with size 1"
     ]
    }
   ],
   "source": [
    "print(torch.mean(X[1]))"
   ]
  },
  {
   "cell_type": "code",
   "execution_count": 10,
   "id": "bb6b963a",
   "metadata": {},
   "outputs": [
    {
     "data": {
      "text/plain": [
       "tensor([[[0.6274, 0.0225, 0.8790, 0.9950, 0.2034, 0.1134, 0.5777, 0.5050],\n",
       "         [0.4781, 0.3134, 0.6852, 0.6214, 0.0401, 0.9174, 0.1897, 0.2352],\n",
       "         [0.4800, 0.4560, 0.5523, 0.8078, 0.7045, 0.2192, 0.0171, 0.2149]],\n",
       "\n",
       "        [[0.0323, 0.8328, 0.1422, 0.7570, 0.2224, 0.1570, 0.2796, 0.7968],\n",
       "         [0.9745, 0.3978, 0.4186, 0.9271, 0.5507, 0.7015, 0.9941, 0.2093],\n",
       "         [0.6826, 0.6648, 0.4675, 0.0211, 0.1149, 0.6199, 0.7752, 0.4012]],\n",
       "\n",
       "        [[0.7374, 0.0381, 0.3704, 0.1497, 0.4685, 0.5419, 0.2210, 0.3646],\n",
       "         [0.4339, 0.7055, 0.5920, 0.6108, 0.0092, 0.2258, 0.2301, 0.9766],\n",
       "         [0.7831, 0.5795, 0.8297, 0.1207, 0.5731, 0.2802, 0.5636, 0.3783]]])"
      ]
     },
     "execution_count": 10,
     "metadata": {},
     "output_type": "execute_result"
    }
   ],
   "source": [
    "X[0]"
   ]
  },
  {
   "cell_type": "code",
   "execution_count": 11,
   "id": "cfd62594",
   "metadata": {},
   "outputs": [
    {
     "name": "stdout",
     "output_type": "stream",
     "text": [
      "tensor([0.9810, 0.9710])\n"
     ]
    }
   ],
   "source": [
    "rv = torch.rand(size=(2,))\n",
    "print(rv)"
   ]
  },
  {
   "cell_type": "code",
   "execution_count": 12,
   "id": "e2775086",
   "metadata": {},
   "outputs": [],
   "source": [
    "loss = nn.L1Loss(reduction='sum')"
   ]
  },
  {
   "cell_type": "code",
   "execution_count": 13,
   "id": "dd09db8c",
   "metadata": {},
   "outputs": [
    {
     "name": "stderr",
     "output_type": "stream",
     "text": [
      "/home/omkar/miniconda3/envs/unet/lib/python3.10/site-packages/torch/nn/modules/loss.py:101: UserWarning: Using a target size (torch.Size([2])) that is different to the input size (torch.Size([1, 8])). This will likely lead to incorrect results due to broadcasting. Please ensure they have the same size.\n",
      "  return F.l1_loss(input, target, reduction=self.reduction)\n"
     ]
    },
    {
     "ename": "RuntimeError",
     "evalue": "The size of tensor a (8) must match the size of tensor b (2) at non-singleton dimension 1",
     "output_type": "error",
     "traceback": [
      "\u001b[0;31m---------------------------------------------------------------------------\u001b[0m",
      "\u001b[0;31mRuntimeError\u001b[0m                              Traceback (most recent call last)",
      "Cell \u001b[0;32mIn[13], line 1\u001b[0m\n\u001b[0;32m----> 1\u001b[0m \u001b[43mloss\u001b[49m\u001b[43m(\u001b[49m\u001b[43mp1\u001b[49m\u001b[43m,\u001b[49m\u001b[43m \u001b[49m\u001b[43mrv\u001b[49m\u001b[43m)\u001b[49m\n",
      "File \u001b[0;32m~/miniconda3/envs/unet/lib/python3.10/site-packages/torch/nn/modules/module.py:1511\u001b[0m, in \u001b[0;36mModule._wrapped_call_impl\u001b[0;34m(self, *args, **kwargs)\u001b[0m\n\u001b[1;32m   1509\u001b[0m     \u001b[38;5;28;01mreturn\u001b[39;00m \u001b[38;5;28mself\u001b[39m\u001b[38;5;241m.\u001b[39m_compiled_call_impl(\u001b[38;5;241m*\u001b[39margs, \u001b[38;5;241m*\u001b[39m\u001b[38;5;241m*\u001b[39mkwargs)  \u001b[38;5;66;03m# type: ignore[misc]\u001b[39;00m\n\u001b[1;32m   1510\u001b[0m \u001b[38;5;28;01melse\u001b[39;00m:\n\u001b[0;32m-> 1511\u001b[0m     \u001b[38;5;28;01mreturn\u001b[39;00m \u001b[38;5;28;43mself\u001b[39;49m\u001b[38;5;241;43m.\u001b[39;49m\u001b[43m_call_impl\u001b[49m\u001b[43m(\u001b[49m\u001b[38;5;241;43m*\u001b[39;49m\u001b[43margs\u001b[49m\u001b[43m,\u001b[49m\u001b[43m \u001b[49m\u001b[38;5;241;43m*\u001b[39;49m\u001b[38;5;241;43m*\u001b[39;49m\u001b[43mkwargs\u001b[49m\u001b[43m)\u001b[49m\n",
      "File \u001b[0;32m~/miniconda3/envs/unet/lib/python3.10/site-packages/torch/nn/modules/module.py:1520\u001b[0m, in \u001b[0;36mModule._call_impl\u001b[0;34m(self, *args, **kwargs)\u001b[0m\n\u001b[1;32m   1515\u001b[0m \u001b[38;5;66;03m# If we don't have any hooks, we want to skip the rest of the logic in\u001b[39;00m\n\u001b[1;32m   1516\u001b[0m \u001b[38;5;66;03m# this function, and just call forward.\u001b[39;00m\n\u001b[1;32m   1517\u001b[0m \u001b[38;5;28;01mif\u001b[39;00m \u001b[38;5;129;01mnot\u001b[39;00m (\u001b[38;5;28mself\u001b[39m\u001b[38;5;241m.\u001b[39m_backward_hooks \u001b[38;5;129;01mor\u001b[39;00m \u001b[38;5;28mself\u001b[39m\u001b[38;5;241m.\u001b[39m_backward_pre_hooks \u001b[38;5;129;01mor\u001b[39;00m \u001b[38;5;28mself\u001b[39m\u001b[38;5;241m.\u001b[39m_forward_hooks \u001b[38;5;129;01mor\u001b[39;00m \u001b[38;5;28mself\u001b[39m\u001b[38;5;241m.\u001b[39m_forward_pre_hooks\n\u001b[1;32m   1518\u001b[0m         \u001b[38;5;129;01mor\u001b[39;00m _global_backward_pre_hooks \u001b[38;5;129;01mor\u001b[39;00m _global_backward_hooks\n\u001b[1;32m   1519\u001b[0m         \u001b[38;5;129;01mor\u001b[39;00m _global_forward_hooks \u001b[38;5;129;01mor\u001b[39;00m _global_forward_pre_hooks):\n\u001b[0;32m-> 1520\u001b[0m     \u001b[38;5;28;01mreturn\u001b[39;00m \u001b[43mforward_call\u001b[49m\u001b[43m(\u001b[49m\u001b[38;5;241;43m*\u001b[39;49m\u001b[43margs\u001b[49m\u001b[43m,\u001b[49m\u001b[43m \u001b[49m\u001b[38;5;241;43m*\u001b[39;49m\u001b[38;5;241;43m*\u001b[39;49m\u001b[43mkwargs\u001b[49m\u001b[43m)\u001b[49m\n\u001b[1;32m   1522\u001b[0m \u001b[38;5;28;01mtry\u001b[39;00m:\n\u001b[1;32m   1523\u001b[0m     result \u001b[38;5;241m=\u001b[39m \u001b[38;5;28;01mNone\u001b[39;00m\n",
      "File \u001b[0;32m~/miniconda3/envs/unet/lib/python3.10/site-packages/torch/nn/modules/loss.py:101\u001b[0m, in \u001b[0;36mL1Loss.forward\u001b[0;34m(self, input, target)\u001b[0m\n\u001b[1;32m    100\u001b[0m \u001b[38;5;28;01mdef\u001b[39;00m \u001b[38;5;21mforward\u001b[39m(\u001b[38;5;28mself\u001b[39m, \u001b[38;5;28minput\u001b[39m: Tensor, target: Tensor) \u001b[38;5;241m-\u001b[39m\u001b[38;5;241m>\u001b[39m Tensor:\n\u001b[0;32m--> 101\u001b[0m     \u001b[38;5;28;01mreturn\u001b[39;00m \u001b[43mF\u001b[49m\u001b[38;5;241;43m.\u001b[39;49m\u001b[43ml1_loss\u001b[49m\u001b[43m(\u001b[49m\u001b[38;5;28;43minput\u001b[39;49m\u001b[43m,\u001b[49m\u001b[43m \u001b[49m\u001b[43mtarget\u001b[49m\u001b[43m,\u001b[49m\u001b[43m \u001b[49m\u001b[43mreduction\u001b[49m\u001b[38;5;241;43m=\u001b[39;49m\u001b[38;5;28;43mself\u001b[39;49m\u001b[38;5;241;43m.\u001b[39;49m\u001b[43mreduction\u001b[49m\u001b[43m)\u001b[49m\n",
      "File \u001b[0;32m~/miniconda3/envs/unet/lib/python3.10/site-packages/torch/nn/functional.py:3308\u001b[0m, in \u001b[0;36ml1_loss\u001b[0;34m(input, target, size_average, reduce, reduction)\u001b[0m\n\u001b[1;32m   3305\u001b[0m \u001b[38;5;28;01mif\u001b[39;00m size_average \u001b[38;5;129;01mis\u001b[39;00m \u001b[38;5;129;01mnot\u001b[39;00m \u001b[38;5;28;01mNone\u001b[39;00m \u001b[38;5;129;01mor\u001b[39;00m reduce \u001b[38;5;129;01mis\u001b[39;00m \u001b[38;5;129;01mnot\u001b[39;00m \u001b[38;5;28;01mNone\u001b[39;00m:\n\u001b[1;32m   3306\u001b[0m     reduction \u001b[38;5;241m=\u001b[39m _Reduction\u001b[38;5;241m.\u001b[39mlegacy_get_string(size_average, reduce)\n\u001b[0;32m-> 3308\u001b[0m expanded_input, expanded_target \u001b[38;5;241m=\u001b[39m \u001b[43mtorch\u001b[49m\u001b[38;5;241;43m.\u001b[39;49m\u001b[43mbroadcast_tensors\u001b[49m\u001b[43m(\u001b[49m\u001b[38;5;28;43minput\u001b[39;49m\u001b[43m,\u001b[49m\u001b[43m \u001b[49m\u001b[43mtarget\u001b[49m\u001b[43m)\u001b[49m\n\u001b[1;32m   3309\u001b[0m \u001b[38;5;28;01mreturn\u001b[39;00m torch\u001b[38;5;241m.\u001b[39m_C\u001b[38;5;241m.\u001b[39m_nn\u001b[38;5;241m.\u001b[39ml1_loss(expanded_input, expanded_target, _Reduction\u001b[38;5;241m.\u001b[39mget_enum(reduction))\n",
      "File \u001b[0;32m~/miniconda3/envs/unet/lib/python3.10/site-packages/torch/functional.py:76\u001b[0m, in \u001b[0;36mbroadcast_tensors\u001b[0;34m(*tensors)\u001b[0m\n\u001b[1;32m     74\u001b[0m \u001b[38;5;28;01mif\u001b[39;00m has_torch_function(tensors):\n\u001b[1;32m     75\u001b[0m     \u001b[38;5;28;01mreturn\u001b[39;00m handle_torch_function(broadcast_tensors, tensors, \u001b[38;5;241m*\u001b[39mtensors)\n\u001b[0;32m---> 76\u001b[0m \u001b[38;5;28;01mreturn\u001b[39;00m \u001b[43m_VF\u001b[49m\u001b[38;5;241;43m.\u001b[39;49m\u001b[43mbroadcast_tensors\u001b[49m\u001b[43m(\u001b[49m\u001b[43mtensors\u001b[49m\u001b[43m)\u001b[49m\n",
      "\u001b[0;31mRuntimeError\u001b[0m: The size of tensor a (8) must match the size of tensor b (2) at non-singleton dimension 1"
     ]
    }
   ],
   "source": [
    "loss(p1, rv)"
   ]
  },
  {
   "cell_type": "code",
   "execution_count": null,
   "id": "668b55d8",
   "metadata": {},
   "outputs": [],
   "source": [
    "(torch.abs(p1[0] - rv[0]) + torch.abs(p1[1] - rv[1]))"
   ]
  },
  {
   "cell_type": "code",
   "execution_count": 14,
   "id": "b82e192e",
   "metadata": {},
   "outputs": [
    {
     "data": {
      "text/plain": [
       "tensor([0.3450, 0.3450, 0.3450])"
      ]
     },
     "execution_count": 14,
     "metadata": {},
     "output_type": "execute_result"
    }
   ],
   "source": [
    "torch.tensor(3*[0.345])"
   ]
  },
  {
   "cell_type": "code",
   "execution_count": 15,
   "id": "5602a7df",
   "metadata": {},
   "outputs": [],
   "source": [
    "x = torch.Tensor([1,2,2,1,3,2,3,1,1,1,2,3,2,2,3,3,3])"
   ]
  },
  {
   "cell_type": "code",
   "execution_count": 16,
   "id": "256f1d0b",
   "metadata": {},
   "outputs": [
    {
     "data": {
      "text/plain": [
       "tensor([1, 0, 0, 1, 0, 0, 0, 1, 1, 1, 0, 0, 0, 0, 0, 0, 0])"
      ]
     },
     "execution_count": 16,
     "metadata": {},
     "output_type": "execute_result"
    }
   ],
   "source": [
    "(x == 1) * 1"
   ]
  },
  {
   "cell_type": "code",
   "execution_count": 18,
   "id": "2d36ac09",
   "metadata": {},
   "outputs": [
    {
     "data": {
      "text/plain": [
       "tensor([1, 1, 1, 1, 0, 1, 0, 1, 1, 1, 1, 0, 1, 1, 0, 0, 0])"
      ]
     },
     "execution_count": 18,
     "metadata": {},
     "output_type": "execute_result"
    }
   ],
   "source": [
    "(x == 1) * 1 + (x == 2)*1"
   ]
  },
  {
   "cell_type": "code",
   "execution_count": null,
   "id": "cd375d34",
   "metadata": {},
   "outputs": [],
   "source": []
  }
 ],
 "metadata": {
  "kernelspec": {
   "display_name": "Python 3 (ipykernel)",
   "language": "python",
   "name": "python3"
  },
  "language_info": {
   "codemirror_mode": {
    "name": "ipython",
    "version": 3
   },
   "file_extension": ".py",
   "mimetype": "text/x-python",
   "name": "python",
   "nbconvert_exporter": "python",
   "pygments_lexer": "ipython3",
   "version": "3.10.13"
  }
 },
 "nbformat": 4,
 "nbformat_minor": 5
}
