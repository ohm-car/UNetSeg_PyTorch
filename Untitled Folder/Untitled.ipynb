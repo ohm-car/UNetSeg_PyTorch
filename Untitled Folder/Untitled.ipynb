{
 "cells": [
  {
   "cell_type": "code",
   "execution_count": null,
   "id": "d955f110",
   "metadata": {},
   "outputs": [],
   "source": [
    "import torch\n",
    "import torch.nn as nn"
   ]
  },
  {
   "cell_type": "code",
   "execution_count": null,
   "id": "ec6fc724",
   "metadata": {},
   "outputs": [],
   "source": [
    "net = torch.hub.load('pytorch/vision:v0.10.0', 'fcn_resnet50', pretrained=True)"
   ]
  },
  {
   "cell_type": "code",
   "execution_count": null,
   "id": "f189c471",
   "metadata": {},
   "outputs": [],
   "source": [
    "print(net)"
   ]
  },
  {
   "cell_type": "code",
   "execution_count": null,
   "id": "d4ff9aa7",
   "metadata": {},
   "outputs": [],
   "source": [
    "from torchvision.models.segmentation import fcn_resnet50, FCN\n",
    "from torchvision.models.resnet import ResNet, resnet50\n",
    "from torchvision.models.segmentation.fcn import FCNHead\n",
    "from torchvision.models._utils import IntermediateLayerGetter"
   ]
  },
  {
   "cell_type": "code",
   "execution_count": null,
   "id": "d15b6e1f",
   "metadata": {},
   "outputs": [],
   "source": [
    "x = fcn_resnet50(aux_loss=True)"
   ]
  },
  {
   "cell_type": "code",
   "execution_count": null,
   "id": "39201ffb",
   "metadata": {},
   "outputs": [],
   "source": [
    "# x.aux_classifier = x.classifier"
   ]
  },
  {
   "cell_type": "code",
   "execution_count": null,
   "id": "748a97b8",
   "metadata": {},
   "outputs": [],
   "source": [
    "x.aux_classifier"
   ]
  },
  {
   "cell_type": "code",
   "execution_count": null,
   "id": "2ceac0a8",
   "metadata": {},
   "outputs": [],
   "source": [
    "y = nn.Sequential(nn.Conv2d(1024, 512, kernel_size=(3, 3), stride=(1, 1), padding=(1, 1), bias=False),\n",
    "                 nn.BatchNorm2d(512, eps=1e-05, momentum=0.1, affine=True, track_running_stats=True),\n",
    "                 nn.ReLU(inplace=True),\n",
    "                 nn.Dropout(p=0.1, inplace=False),\n",
    "                 nn.Conv2d(512, 3, kernel_size=(1, 1), stride=(1, 1)),\n",
    "                 nn.Sigmoid())"
   ]
  },
  {
   "cell_type": "code",
   "execution_count": null,
   "id": "514c8753",
   "metadata": {},
   "outputs": [],
   "source": [
    "x.aux_classifier = y"
   ]
  },
  {
   "cell_type": "code",
   "execution_count": null,
   "id": "1c3fae14",
   "metadata": {},
   "outputs": [],
   "source": [
    "x"
   ]
  },
  {
   "cell_type": "code",
   "execution_count": null,
   "id": "15fe4a57",
   "metadata": {},
   "outputs": [],
   "source": [
    "class YourFCN(FCN):\n",
    "    def __init__(self):\n",
    "        aux = nn.Sequential(nn.Conv2d(1024, 512, kernel_size=(3, 3), stride=(1, 1), padding=(1, 1), bias=False),\n",
    "                 nn.BatchNorm2d(512, eps=1e-05, momentum=0.1, affine=True, track_running_stats=True),\n",
    "                 nn.ReLU(inplace=True),\n",
    "                 nn.Dropout(p=0.1, inplace=False),\n",
    "                 nn.Conv2d(512, 3, kernel_size=(1, 1), stride=(1, 1)),\n",
    "                 nn.Sigmoid())\n",
    "        super(FCN, self).__init__(backbone = IntermediateLayerGetter(resnet50(), return_layers = {\"layer4\":\"out\", \"layer3\":\"aux\"}), classifier=FCNHead(2048, 21), aux_classifier=aux)"
   ]
  },
  {
   "cell_type": "code",
   "execution_count": null,
   "id": "eb8afb3e",
   "metadata": {},
   "outputs": [],
   "source": [
    "x2 = YourFCN()"
   ]
  },
  {
   "cell_type": "code",
   "execution_count": null,
   "id": "d1ae10a2",
   "metadata": {},
   "outputs": [],
   "source": [
    "isinstance(x, FCN)"
   ]
  },
  {
   "cell_type": "code",
   "execution_count": null,
   "id": "492b3155",
   "metadata": {},
   "outputs": [],
   "source": [
    "# x.backbone"
   ]
  },
  {
   "cell_type": "code",
   "execution_count": null,
   "id": "ae57704d",
   "metadata": {},
   "outputs": [],
   "source": [
    "x2"
   ]
  },
  {
   "cell_type": "code",
   "execution_count": null,
   "id": "101b4c15",
   "metadata": {},
   "outputs": [],
   "source": [
    "x2.classifier"
   ]
  },
  {
   "cell_type": "code",
   "execution_count": null,
   "id": "53ad8bce",
   "metadata": {},
   "outputs": [],
   "source": [
    "z1 = torch.rand(4,3,224,224)"
   ]
  },
  {
   "cell_type": "code",
   "execution_count": null,
   "id": "3a96fc94",
   "metadata": {},
   "outputs": [],
   "source": [
    "x2(z1)"
   ]
  },
  {
   "cell_type": "code",
   "execution_count": null,
   "id": "5140b757",
   "metadata": {},
   "outputs": [],
   "source": [
    "net(z1)"
   ]
  },
  {
   "cell_type": "code",
   "execution_count": null,
   "id": "560bfdfc",
   "metadata": {},
   "outputs": [],
   "source": [
    "x(z1)['aux'].size()"
   ]
  },
  {
   "cell_type": "code",
   "execution_count": null,
   "id": "11b1ebfd",
   "metadata": {},
   "outputs": [],
   "source": []
  }
 ],
 "metadata": {
  "kernelspec": {
   "display_name": "Python 3 (ipykernel)",
   "language": "python",
   "name": "python3"
  },
  "language_info": {
   "codemirror_mode": {
    "name": "ipython",
    "version": 3
   },
   "file_extension": ".py",
   "mimetype": "text/x-python",
   "name": "python",
   "nbconvert_exporter": "python",
   "pygments_lexer": "ipython3",
   "version": "3.10.13"
  }
 },
 "nbformat": 4,
 "nbformat_minor": 5
}
