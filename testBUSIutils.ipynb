{
 "cells": [
  {
   "cell_type": "code",
   "execution_count": 1,
   "id": "41a8472e",
   "metadata": {},
   "outputs": [],
   "source": [
    "from utils.BUSI_multiloss import BUSIDataset\n",
    "from pathlib import Path\n",
    "import os\n",
    "import torchvision.transforms.functional as F\n",
    "import torchvision.transforms as T\n",
    "from IPython import display\n",
    "import numpy as np\n",
    "import matplotlib.pyplot as plt\n",
    "import torch"
   ]
  },
  {
   "cell_type": "code",
   "execution_count": 2,
   "id": "2525e44d",
   "metadata": {},
   "outputs": [],
   "source": [
    "dataset = BUSIDataset(Path().resolve().parent)"
   ]
  },
  {
   "cell_type": "code",
   "execution_count": 3,
   "id": "9241d759",
   "metadata": {},
   "outputs": [
    {
     "data": {
      "text/plain": [
       "PosixPath('/media/omkar/646AC6B66AC684701/Thesis_Work')"
      ]
     },
     "execution_count": 3,
     "metadata": {},
     "output_type": "execute_result"
    }
   ],
   "source": [
    "Path().resolve().parent"
   ]
  },
  {
   "cell_type": "code",
   "execution_count": 4,
   "id": "62f1cfb9",
   "metadata": {},
   "outputs": [],
   "source": [
    "md = dataset.main_dir"
   ]
  },
  {
   "cell_type": "code",
   "execution_count": 5,
   "id": "73764d28",
   "metadata": {},
   "outputs": [],
   "source": [
    "fnames = dataset.get_filenames(md)"
   ]
  },
  {
   "cell_type": "code",
   "execution_count": 6,
   "id": "34eef8f0",
   "metadata": {},
   "outputs": [
    {
     "data": {
      "text/plain": [
       "'benign/benign (1)'"
      ]
     },
     "execution_count": 6,
     "metadata": {},
     "output_type": "execute_result"
    }
   ],
   "source": [
    "fnames[0]"
   ]
  },
  {
   "cell_type": "code",
   "execution_count": 7,
   "id": "24c5488e",
   "metadata": {},
   "outputs": [
    {
     "data": {
      "text/plain": [
       "tensor([[[0., 0., 0.,  ..., 0., 0., 0.],\n",
       "         [0., 0., 0.,  ..., 0., 0., 0.],\n",
       "         [0., 0., 0.,  ..., 0., 0., 0.],\n",
       "         ...,\n",
       "         [0., 0., 0.,  ..., 0., 0., 0.],\n",
       "         [0., 0., 0.,  ..., 0., 0., 0.],\n",
       "         [0., 0., 0.,  ..., 0., 0., 0.]]])"
      ]
     },
     "execution_count": 7,
     "metadata": {},
     "output_type": "execute_result"
    }
   ],
   "source": [
    "dataset.load_image_masks(fnames[0])"
   ]
  },
  {
   "cell_type": "code",
   "execution_count": 8,
   "id": "3093c93c",
   "metadata": {},
   "outputs": [],
   "source": [
    "temp = dataset.load_image_masks('benign/benign (195)').detach()\n",
    "transform = T.ToPILImage()\n",
    "temp1 = transform(temp)"
   ]
  },
  {
   "cell_type": "code",
   "execution_count": 9,
   "id": "4cd71d28",
   "metadata": {},
   "outputs": [
    {
     "ename": "TypeError",
     "evalue": "'module' object is not callable",
     "output_type": "error",
     "traceback": [
      "\u001b[0;31m---------------------------------------------------------------------------\u001b[0m",
      "\u001b[0;31mTypeError\u001b[0m                                 Traceback (most recent call last)",
      "Cell \u001b[0;32mIn[9], line 1\u001b[0m\n\u001b[0;32m----> 1\u001b[0m \u001b[43mdisplay\u001b[49m\u001b[43m(\u001b[49m\u001b[43mtemp1\u001b[49m\u001b[43m)\u001b[49m\n",
      "\u001b[0;31mTypeError\u001b[0m: 'module' object is not callable"
     ]
    }
   ],
   "source": [
    "display(temp1)"
   ]
  },
  {
   "cell_type": "code",
   "execution_count": null,
   "id": "358dfd1d",
   "metadata": {},
   "outputs": [],
   "source": [
    "print(type(temp1))"
   ]
  },
  {
   "cell_type": "code",
   "execution_count": null,
   "id": "22150359",
   "metadata": {},
   "outputs": [],
   "source": []
  }
 ],
 "metadata": {
  "kernelspec": {
   "display_name": "Python 3 (ipykernel)",
   "language": "python",
   "name": "python3"
  },
  "language_info": {
   "codemirror_mode": {
    "name": "ipython",
    "version": 3
   },
   "file_extension": ".py",
   "mimetype": "text/x-python",
   "name": "python",
   "nbconvert_exporter": "python",
   "pygments_lexer": "ipython3",
   "version": "3.10.13"
  }
 },
 "nbformat": 4,
 "nbformat_minor": 5
}
