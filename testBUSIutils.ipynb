{
 "cells": [
  {
   "cell_type": "code",
   "execution_count": null,
   "id": "41a8472e",
   "metadata": {},
   "outputs": [],
   "source": [
    "from utils.BUSI_multiloss import BUSIDataset\n",
    "from pathlib import Path\n",
    "import os\n",
    "import torchvision.transforms.functional as F\n",
    "import torchvision.transforms as T\n",
    "from IPython.display import display\n",
    "import numpy as np\n",
    "import matplotlib.pyplot as plt\n",
    "import torch\n",
    "from PIL import Image"
   ]
  },
  {
   "cell_type": "code",
   "execution_count": null,
   "id": "2525e44d",
   "metadata": {},
   "outputs": [],
   "source": [
    "dataset = BUSIDataset(Path().resolve().parent)"
   ]
  },
  {
   "cell_type": "code",
   "execution_count": null,
   "id": "9241d759",
   "metadata": {},
   "outputs": [],
   "source": [
    "Path().resolve().parent"
   ]
  },
  {
   "cell_type": "code",
   "execution_count": null,
   "id": "62f1cfb9",
   "metadata": {},
   "outputs": [],
   "source": [
    "md = dataset.main_dir"
   ]
  },
  {
   "cell_type": "code",
   "execution_count": null,
   "id": "73764d28",
   "metadata": {},
   "outputs": [],
   "source": [
    "fnames = dataset.get_filenames(md)"
   ]
  },
  {
   "cell_type": "code",
   "execution_count": null,
   "id": "34eef8f0",
   "metadata": {},
   "outputs": [],
   "source": [
    "fnames[0]"
   ]
  },
  {
   "cell_type": "code",
   "execution_count": null,
   "id": "24c5488e",
   "metadata": {},
   "outputs": [],
   "source": [
    "dataset.load_image_masks(fnames[0])"
   ]
  },
  {
   "cell_type": "code",
   "execution_count": null,
   "id": "3093c93c",
   "metadata": {},
   "outputs": [],
   "source": [
    "temp = dataset.load_image_masks('benign/benign (195)')\n",
    "transform = T.ToPILImage()\n",
    "temp1 = transform(temp)"
   ]
  },
  {
   "cell_type": "code",
   "execution_count": null,
   "id": "4cd71d28",
   "metadata": {},
   "outputs": [],
   "source": [
    "display(temp1)"
   ]
  },
  {
   "cell_type": "code",
   "execution_count": null,
   "id": "358dfd1d",
   "metadata": {},
   "outputs": [],
   "source": [
    "print(type(temp1))"
   ]
  },
  {
   "cell_type": "code",
   "execution_count": null,
   "id": "22150359",
   "metadata": {},
   "outputs": [],
   "source": [
    "temp2 = dataset.eroded_image_masks('benign/benign (195)')\n",
    "transform = T.ToPILImage()\n",
    "# temp3 = transform(temp2)"
   ]
  },
  {
   "cell_type": "code",
   "execution_count": null,
   "id": "3630b830",
   "metadata": {},
   "outputs": [],
   "source": [
    "temp3 = np.squeeze(temp2)"
   ]
  },
  {
   "cell_type": "code",
   "execution_count": null,
   "id": "59e39d66",
   "metadata": {},
   "outputs": [],
   "source": [
    "display(temp3)"
   ]
  },
  {
   "cell_type": "code",
   "execution_count": null,
   "id": "bcfefac0",
   "metadata": {},
   "outputs": [],
   "source": [
    "print(type(temp3))"
   ]
  },
  {
   "cell_type": "code",
   "execution_count": null,
   "id": "fea31008",
   "metadata": {},
   "outputs": [],
   "source": [
    "plt.imshow(temp3)"
   ]
  },
  {
   "cell_type": "code",
   "execution_count": null,
   "id": "ecead255",
   "metadata": {},
   "outputs": [],
   "source": [
    "# temp4 = np.resize(temp3, (224,224))"
   ]
  },
  {
   "cell_type": "code",
   "execution_count": null,
   "id": "b4edbbac",
   "metadata": {},
   "outputs": [],
   "source": [
    "# plt.imshow(temp4)"
   ]
  },
  {
   "cell_type": "code",
   "execution_count": null,
   "id": "949fa1e8",
   "metadata": {},
   "outputs": [],
   "source": [
    "item = dataset.__getitem__(108)\n",
    "print(item['image_ID'])"
   ]
  },
  {
   "cell_type": "code",
   "execution_count": null,
   "id": "595eb16a",
   "metadata": {},
   "outputs": [],
   "source": [
    "plt.imshow(torch.squeeze(item['comp_mask']))"
   ]
  },
  {
   "cell_type": "code",
   "execution_count": null,
   "id": "6b87ee5a",
   "metadata": {},
   "outputs": [],
   "source": [
    "plt.imshow(torch.squeeze(item['mask']))"
   ]
  },
  {
   "cell_type": "code",
   "execution_count": null,
   "id": "1ac0918a",
   "metadata": {},
   "outputs": [],
   "source": []
  },
  {
   "cell_type": "code",
   "execution_count": null,
   "id": "541a5b55",
   "metadata": {},
   "outputs": [],
   "source": []
  }
 ],
 "metadata": {
  "kernelspec": {
   "display_name": "Python 3 (ipykernel)",
   "language": "python",
   "name": "python3"
  },
  "language_info": {
   "codemirror_mode": {
    "name": "ipython",
    "version": 3
   },
   "file_extension": ".py",
   "mimetype": "text/x-python",
   "name": "python",
   "nbconvert_exporter": "python",
   "pygments_lexer": "ipython3",
   "version": "3.10.13"
  }
 },
 "nbformat": 4,
 "nbformat_minor": 5
}
