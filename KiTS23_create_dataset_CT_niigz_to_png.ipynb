{
 "cells": [
  {
   "cell_type": "code",
   "execution_count": null,
   "id": "0c8e0cfc",
   "metadata": {},
   "outputs": [],
   "source": [
    "import numpy as np\n",
    "import nibabel as nib\n",
    "import PIL\n",
    "import os\n",
    "import sys\n",
    "import matplotlib.pyplot as plt\n",
    "import re\n",
    "from pathlib import Path"
   ]
  },
  {
   "cell_type": "code",
   "execution_count": null,
   "id": "bfb5decf",
   "metadata": {},
   "outputs": [],
   "source": [
    "drnm = os.path.dirname\n",
    "cases_path = Path(os.getcwd()).parent.parent / 'KiTS23/kits23/dataset'\n",
    "# cases_path = Path(z).parent.parent / 'KiTS23/KiTS_subset'\n",
    "print(cases_path)"
   ]
  },
  {
   "cell_type": "code",
   "execution_count": null,
   "id": "e287ecc5",
   "metadata": {},
   "outputs": [],
   "source": [
    "cases = os.listdir(cases_path)\n",
    "try:\n",
    "    cases.remove('kits23.json')\n",
    "except Exception as e:\n",
    "    print(e)"
   ]
  },
  {
   "cell_type": "code",
   "execution_count": null,
   "id": "3e5e9a92",
   "metadata": {},
   "outputs": [],
   "source": [
    "def get_slice_idx(instance):\n",
    "    \n",
    "    nib_img = nib.load(os.path.join(case_path, 'instances', instance))\n",
    "    img = nib_img.get_fdata()\n",
    "    slice_idx = np.argmax(np.sum(img, axis=(1,2)))\n",
    "    return slice_idx"
   ]
  },
  {
   "cell_type": "code",
   "execution_count": null,
   "id": "88d0cfee",
   "metadata": {},
   "outputs": [],
   "source": [
    "save_path = os.path.join(drnm(os.getcwd()), 'Datasets/KiTS23_DL')\n",
    "print(save_path)"
   ]
  },
  {
   "cell_type": "code",
   "execution_count": null,
   "id": "38d3194c",
   "metadata": {},
   "outputs": [],
   "source": [
    "for case in cases:\n",
    "    print(case)\n",
    "    case_path = os.path.join(cases_path, case)\n",
    "    t_list = os.listdir(os.path.join(case_path, 'instances'))\n",
    "    r_list = list()\n",
    "    \n",
    "    for j in range(len(t_list)):\n",
    "        t_ = t_list[j]\n",
    "        if t_[-8] in ['2', '3']:\n",
    "            r_list.append(t_)\n",
    "    \n",
    "    for e in r_list:\n",
    "        t_list.remove(e)\n",
    "\n",
    "    slice_indices = set()\n",
    "    \n",
    "    for instance in t_list:\n",
    "        slice_idx = get_slice_idx(instance)\n",
    "        slice_indices.add(slice_idx)\n",
    "    \n",
    "    img_f = nib.load(os.path.join(case_path, 'imaging.nii.gz'))\n",
    "    imaging = img_f.get_fdata()\n",
    "    imaging_dtype = img_f.header.get_data_dtype()\n",
    "    seg_f = nib.load(os.path.join(case_path, 'segmentation.nii.gz'))\n",
    "    segmentation = seg_f.get_fdata()\n",
    "    segmentation_dtype = seg_f.header.get_data_dtype()\n",
    "    \n",
    "    for s in slice_indices:\n",
    "        \n",
    "        image = imaging[s]\n",
    "        mask = segmentation[s]\n",
    "        image_ogdt = image.astype(imaging_dtype)\n",
    "        mask_ogdt = mask.astype(segmentation_dtype)\n",
    "        \n",
    "        np.save(os.path.join(save_path, 'images', f'{case}_slice_{s}.npy'), image_ogdt)\n",
    "        np.save(os.path.join(save_path, 'gt_masks', f'{case}_slice_{s}.npy'), mask_ogdt)"
   ]
  },
  {
   "cell_type": "code",
   "execution_count": null,
   "id": "39154ddb",
   "metadata": {},
   "outputs": [],
   "source": [
    "z = os.getcwd()\n",
    "print(z)"
   ]
  },
  {
   "cell_type": "code",
   "execution_count": null,
   "id": "e3ec3d46",
   "metadata": {},
   "outputs": [],
   "source": [
    "drnm = os.path.dirname\n",
    "print(drnm(drnm(z)), z)"
   ]
  }
 ],
 "metadata": {
  "kernelspec": {
   "display_name": "Python 3 (ipykernel)",
   "language": "python",
   "name": "python3"
  },
  "language_info": {
   "codemirror_mode": {
    "name": "ipython",
    "version": 3
   },
   "file_extension": ".py",
   "mimetype": "text/x-python",
   "name": "python",
   "nbconvert_exporter": "python",
   "pygments_lexer": "ipython3",
   "version": "3.10.13"
  }
 },
 "nbformat": 4,
 "nbformat_minor": 5
}
