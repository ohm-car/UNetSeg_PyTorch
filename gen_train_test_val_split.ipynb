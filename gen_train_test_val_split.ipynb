{
 "cells": [
  {
   "cell_type": "code",
   "execution_count": null,
   "id": "70ac3968",
   "metadata": {},
   "outputs": [],
   "source": [
    "import torch\n",
    "from torch.utils.data import Dataset, random_split\n",
    "import os\n",
    "import sys"
   ]
  },
  {
   "cell_type": "code",
   "execution_count": null,
   "id": "973633b1",
   "metadata": {},
   "outputs": [],
   "source": [
    "z = [str(i) for i in range(50)]"
   ]
  },
  {
   "cell_type": "code",
   "execution_count": null,
   "id": "4c64d937",
   "metadata": {},
   "outputs": [],
   "source": [
    "# z1 = random_split()"
   ]
  },
  {
   "cell_type": "code",
   "execution_count": null,
   "id": "bb02c3f1",
   "metadata": {},
   "outputs": [],
   "source": [
    "generator1 = torch.Generator().manual_seed(42)\n",
    "generator2 = torch.Generator().manual_seed(42)\n",
    "d1 = random_split(range(490), [440, 25, 25], generator=generator1)\n",
    "d2 = random_split(range(30), [0.3, 0.3, 0.4], generator=generator2)"
   ]
  },
  {
   "cell_type": "code",
   "execution_count": null,
   "id": "8efece42",
   "metadata": {},
   "outputs": [],
   "source": [
    "print(d1[0].__len__(),\n",
    "d1[1].__len__(),\n",
    "d1[2].__len__())"
   ]
  },
  {
   "cell_type": "code",
   "execution_count": null,
   "id": "20dfe9f3",
   "metadata": {},
   "outputs": [],
   "source": [
    "fnames = os.listdir('../../KiTS23/kits23/dataset/')\n",
    "fnames.remove('kits23.json')"
   ]
  },
  {
   "cell_type": "code",
   "execution_count": null,
   "id": "ded63aa3",
   "metadata": {},
   "outputs": [],
   "source": [
    "x1, x2, x3 = random_split(fnames, [439, 25, 25])"
   ]
  },
  {
   "cell_type": "code",
   "execution_count": null,
   "id": "bf29b44b",
   "metadata": {},
   "outputs": [],
   "source": [
    "train, test, val = list(), list(), list()\n",
    "for i in x1:\n",
    "    train.append(i)\n",
    "for i in x2:\n",
    "    test.append(i)\n",
    "for i in x3:\n",
    "    val.append(i)"
   ]
  },
  {
   "cell_type": "code",
   "execution_count": null,
   "id": "b20c3157",
   "metadata": {},
   "outputs": [],
   "source": [
    "# print(str(train)[1:-1])"
   ]
  },
  {
   "cell_type": "code",
   "execution_count": null,
   "id": "73cd6e03",
   "metadata": {},
   "outputs": [],
   "source": [
    "s_out = sys.stdout"
   ]
  },
  {
   "cell_type": "code",
   "execution_count": null,
   "id": "4219e237",
   "metadata": {},
   "outputs": [],
   "source": [
    "f = open(os.path.join(os.getcwd(),'utils/KiTS_multiloss/') + 'train.txt', 'w')\n",
    "sys.stdout = f\n",
    "print(str(train)[1:-1])\n",
    "f.close()\n",
    "sys.stdout = s_out"
   ]
  },
  {
   "cell_type": "code",
   "execution_count": null,
   "id": "e7408ced",
   "metadata": {},
   "outputs": [],
   "source": [
    "f = open(os.path.join(os.getcwd(),'utils/KiTS_multiloss/') + 'test.txt', 'w')\n",
    "sys.stdout = f\n",
    "print(str(test)[1:-1])\n",
    "f.close()\n",
    "sys.stdout = s_out"
   ]
  },
  {
   "cell_type": "code",
   "execution_count": null,
   "id": "0e48b430",
   "metadata": {},
   "outputs": [],
   "source": [
    "f = open(os.path.join(os.getcwd(),'utils/KiTS_multiloss/') + 'val.txt', 'w')\n",
    "sys.stdout = f\n",
    "print(str(val)[1:-1])\n",
    "f.close()\n",
    "sys.stdout = s_out"
   ]
  },
  {
   "cell_type": "code",
   "execution_count": null,
   "id": "6d52721d",
   "metadata": {},
   "outputs": [],
   "source": [
    "# f = open(os.path.join(os.getcwd(),'utils/KiTS_multiloss/') + 'train.txt', 'w')\n",
    "# for i in train:\n",
    "#     f.write(i + '\\n')\n",
    "# f.close()"
   ]
  },
  {
   "cell_type": "code",
   "execution_count": null,
   "id": "6a04174f",
   "metadata": {},
   "outputs": [],
   "source": [
    "# g = open(os.path.join(os.getcwd(),'utils/KiTS_multiloss/') + 'test.txt', 'r')\n",
    "# print(g.read().split())"
   ]
  },
  {
   "cell_type": "code",
   "execution_count": null,
   "id": "4f2543b9",
   "metadata": {},
   "outputs": [],
   "source": []
  }
 ],
 "metadata": {
  "kernelspec": {
   "display_name": "Python 3 (ipykernel)",
   "language": "python",
   "name": "python3"
  },
  "language_info": {
   "codemirror_mode": {
    "name": "ipython",
    "version": 3
   },
   "file_extension": ".py",
   "mimetype": "text/x-python",
   "name": "python",
   "nbconvert_exporter": "python",
   "pygments_lexer": "ipython3",
   "version": "3.10.13"
  }
 },
 "nbformat": 4,
 "nbformat_minor": 5
}
