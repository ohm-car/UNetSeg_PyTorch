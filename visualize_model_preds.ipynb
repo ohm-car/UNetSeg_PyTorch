{
 "cells": [
  {
   "cell_type": "code",
   "execution_count": 22,
   "id": "a3bcb209",
   "metadata": {},
   "outputs": [],
   "source": [
    "import torch\n",
    "import logging\n",
    "from PIL import Image\n",
    "from unet import UNet"
   ]
  },
  {
   "cell_type": "markdown",
   "id": "c7f8f743",
   "metadata": {},
   "source": [
    "### Set device"
   ]
  },
  {
   "cell_type": "code",
   "execution_count": 23,
   "id": "d04669ec",
   "metadata": {},
   "outputs": [],
   "source": [
    "if torch.cuda.is_available():\n",
    "    device = torch.device('cuda')\n",
    "elif torch.backends.mps.is_available():\n",
    "    device = torch.device('mps')\n",
    "else:\n",
    "    device = torch.device('cpu')"
   ]
  },
  {
   "cell_type": "markdown",
   "id": "903b82f0",
   "metadata": {},
   "source": [
    "### Enter model path\n",
    "\n",
    "Load weights of the model"
   ]
  },
  {
   "cell_type": "code",
   "execution_count": 24,
   "id": "eca826dd",
   "metadata": {},
   "outputs": [],
   "source": [
    "model_path = '../modelsADA/optuna/CP_Trial4_Epoch35.pth'\n",
    "model_path = 'checkpoints/pascalVOC/multiloss/04-30/17-25-10/CP_epoch2.pth'"
   ]
  },
  {
   "cell_type": "code",
   "execution_count": 25,
   "id": "1ecf7aed",
   "metadata": {},
   "outputs": [],
   "source": [
    "#Enter the correct arguments for the UNet\n",
    "net = UNet(n_channels=3, n_classes=21, bilinear=True)\n",
    "\n",
    "net.load_state_dict(\n",
    "            torch.load(model_path, map_location=device)\n",
    "        )\n",
    "logging.info(f'Model loaded from {model_path}')"
   ]
  },
  {
   "cell_type": "markdown",
   "id": "1c5ff720",
   "metadata": {},
   "source": [
    "### Load dataset"
   ]
  },
  {
   "cell_type": "code",
   "execution_count": null,
   "id": "d14b6d54",
   "metadata": {},
   "outputs": [],
   "source": []
  }
 ],
 "metadata": {
  "kernelspec": {
   "display_name": "Python 3 (ipykernel)",
   "language": "python",
   "name": "python3"
  },
  "language_info": {
   "codemirror_mode": {
    "name": "ipython",
    "version": 3
   },
   "file_extension": ".py",
   "mimetype": "text/x-python",
   "name": "python",
   "nbconvert_exporter": "python",
   "pygments_lexer": "ipython3",
   "version": "3.10.13"
  }
 },
 "nbformat": 4,
 "nbformat_minor": 5
}
