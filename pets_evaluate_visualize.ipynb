{
 "cells": [
  {
   "cell_type": "code",
   "execution_count": null,
   "id": "a3bcb209",
   "metadata": {},
   "outputs": [],
   "source": [
    "import os\n",
    "import sys\n",
    "\n",
    "import torch\n",
    "from torch.utils.data import DataLoader, random_split\n",
    "\n",
    "import logging\n",
    "from pathlib import Path\n",
    "from PIL import Image\n",
    "import numpy as np\n",
    "from unet.unet_model_xB import UNet\n",
    "import matplotlib.pyplot as plt\n",
    "from utils.petsReconDataset_multiloss_pl import PetsReconDataset"
   ]
  },
  {
   "cell_type": "markdown",
   "id": "c7f8f743",
   "metadata": {},
   "source": [
    "### Set device"
   ]
  },
  {
   "cell_type": "code",
   "execution_count": null,
   "id": "d04669ec",
   "metadata": {},
   "outputs": [],
   "source": [
    "if torch.cuda.is_available():\n",
    "    device = torch.device('cuda')\n",
    "elif torch.backends.mps.is_available():\n",
    "    device = torch.device('mps')\n",
    "else:\n",
    "    device = torch.device('cpu')"
   ]
  },
  {
   "cell_type": "markdown",
   "id": "98f4e685",
   "metadata": {},
   "source": [
    "### Set seed"
   ]
  },
  {
   "cell_type": "code",
   "execution_count": null,
   "id": "d5eb0f91",
   "metadata": {},
   "outputs": [],
   "source": [
    "manual_seed = 0\n",
    "torch.manual_seed(manual_seed)"
   ]
  },
  {
   "cell_type": "markdown",
   "id": "903b82f0",
   "metadata": {},
   "source": [
    "### Load Model\n",
    "\n",
    "Load weights of the model"
   ]
  },
  {
   "cell_type": "code",
   "execution_count": null,
   "id": "eca826dd",
   "metadata": {},
   "outputs": [],
   "source": [
    "model_path = '../pets_final/multiloss/CP_Trial22_Epoch60.pth'\n",
    "# model_path = 'checkpoints/pascalVOC/multiloss/04-30/17-25-10/CP_epoch2.pth'"
   ]
  },
  {
   "cell_type": "code",
   "execution_count": null,
   "id": "1ecf7aed",
   "metadata": {},
   "outputs": [],
   "source": [
    "#Enter the correct arguments for the UNet\n",
    "net = UNet(n_channels=3, n_classes=1, bilinear=True)\n",
    "\n",
    "net.load_state_dict(\n",
    "            torch.load(model_path, map_location=device)\n",
    "        )\n",
    "logging.info(f'Model loaded from {model_path}')"
   ]
  },
  {
   "cell_type": "markdown",
   "id": "1c5ff720",
   "metadata": {},
   "source": [
    "### Load dataset"
   ]
  },
  {
   "cell_type": "code",
   "execution_count": null,
   "id": "f07fbcd8",
   "metadata": {},
   "outputs": [],
   "source": [
    "root_dir = Path().resolve().parent\n",
    "print(root_dir)\n",
    "\n",
    "batch_size=4"
   ]
  },
  {
   "cell_type": "code",
   "execution_count": null,
   "id": "d14b6d54",
   "metadata": {},
   "outputs": [],
   "source": [
    "def get_dataloaders(root_dir,\n",
    "                    val_percent=0.1):\n",
    "\n",
    "    global n_train, n_val\n",
    "\n",
    "#     root_dir = args.rd\n",
    "    dir_img = os.path.join(root_dir, 'Datasets/petsData/images/')\n",
    "    dir_mask = os.path.join(root_dir, 'Datasets/petsData/annotations/trimaps/')\n",
    "\n",
    "\n",
    "    dataset = PetsReconDataset(dir_img, dir_mask, None, 224)\n",
    "    n_val = int(len(dataset) * val_percent)\n",
    "    n_train = len(dataset) - n_val\n",
    "    train, val = random_split(dataset, [n_train, n_val])\n",
    "\n",
    "    train_loader = DataLoader(train, batch_size=batch_size, shuffle=True, num_workers = 2)\n",
    "    val_loader = DataLoader(val, batch_size=batch_size, shuffle=False, num_workers = 2, pin_memory=True)\n",
    "\n",
    "    return train_loader, val_loader"
   ]
  },
  {
   "cell_type": "code",
   "execution_count": null,
   "id": "c5b6df8b",
   "metadata": {},
   "outputs": [],
   "source": [
    "_, val_loader = get_dataloaders(root_dir)"
   ]
  },
  {
   "cell_type": "code",
   "execution_count": null,
   "id": "88a879f1",
   "metadata": {},
   "outputs": [],
   "source": []
  },
  {
   "cell_type": "code",
   "execution_count": null,
   "id": "201dacdb",
   "metadata": {},
   "outputs": [],
   "source": [
    "def torchToPIL_img(img):\n",
    "    \n",
    "    img = img.squeeze().cpu().numpy()\n",
    "    img = img.transpose((1,2,0))\n",
    "    return Image.fromarray((img * 255).astype(np.uint8), 'RGB')"
   ]
  },
  {
   "cell_type": "code",
   "execution_count": null,
   "id": "69a5a625",
   "metadata": {},
   "outputs": [],
   "source": [
    "def torchToPIL_mask(mask):\n",
    "    \n",
    "    mask = mask.squeeze().cpu().numpy()\n",
    "    mask = np.clip(mask, 0, 1)\n",
    "    return Image.fromarray((mask * 255).astype(np.uint8), 'L')"
   ]
  },
  {
   "cell_type": "code",
   "execution_count": null,
   "id": "e24d36ac",
   "metadata": {},
   "outputs": [],
   "source": [
    "# batch = next(iter(val_loader))"
   ]
  },
  {
   "cell_type": "code",
   "execution_count": null,
   "id": "4022be12",
   "metadata": {},
   "outputs": [],
   "source": [
    "# display(torchToPIL_img(batch['image'][0]), torchToPIL_mask(batch['mask'][0]))"
   ]
  },
  {
   "cell_type": "code",
   "execution_count": null,
   "id": "478e1757",
   "metadata": {},
   "outputs": [],
   "source": [
    "# display(torchToPIL_mask(batch['mask'][0]))"
   ]
  },
  {
   "cell_type": "code",
   "execution_count": null,
   "id": "584b221b",
   "metadata": {},
   "outputs": [],
   "source": [
    "j = 0\n",
    "for batch in val_loader:\n",
    "    print(j)\n",
    "    j += 1\n",
    "    for i in range(batch_size):\n",
    "        print(batch['image_ID'][i])\n",
    "        print(i)\n",
    "        \n",
    "#         pred_recon_img, pred_mask = net(img)\n",
    "        \n",
    "        display(torchToPIL_img(batch['image'][i]), torchToPIL_mask(batch['mask'][i]))"
   ]
  },
  {
   "cell_type": "code",
   "execution_count": null,
   "id": "389611ac",
   "metadata": {},
   "outputs": [],
   "source": []
  }
 ],
 "metadata": {
  "kernelspec": {
   "display_name": "Python 3 (ipykernel)",
   "language": "python",
   "name": "python3"
  },
  "language_info": {
   "codemirror_mode": {
    "name": "ipython",
    "version": 3
   },
   "file_extension": ".py",
   "mimetype": "text/x-python",
   "name": "python",
   "nbconvert_exporter": "python",
   "pygments_lexer": "ipython3",
   "version": "3.10.13"
  }
 },
 "nbformat": 4,
 "nbformat_minor": 5
}
