{
 "cells": [
  {
   "cell_type": "code",
   "execution_count": null,
   "id": "717affd1",
   "metadata": {},
   "outputs": [],
   "source": [
    "import numpy as np\n",
    "import nibabel as nib\n",
    "import PIL\n",
    "import os\n",
    "import sys\n",
    "import matplotlib.pyplot as plt\n",
    "import re"
   ]
  },
  {
   "cell_type": "code",
   "execution_count": null,
   "id": "357b7900",
   "metadata": {},
   "outputs": [],
   "source": [
    "case_path = '../../KiTS23/KiTS_subset/case_00016/'\n",
    "print(os.listdir(case_path))"
   ]
  },
  {
   "cell_type": "code",
   "execution_count": null,
   "id": "37a8a591",
   "metadata": {},
   "outputs": [],
   "source": [
    "nifti_file_path = case_path + 'imaging.nii.gz'\n",
    "segmentations_file_path = case_path + 'segmentation.nii.gz'\n",
    "\n",
    "img = nib.load(nifti_file_path)\n",
    "seg = nib.load(segmentations_file_path)\n",
    "\n",
    "print(img)"
   ]
  },
  {
   "cell_type": "code",
   "execution_count": null,
   "id": "0e89378b",
   "metadata": {},
   "outputs": [],
   "source": [
    "print(seg)"
   ]
  },
  {
   "cell_type": "code",
   "execution_count": null,
   "id": "e1e4e539",
   "metadata": {},
   "outputs": [],
   "source": [
    "viz_file_path = nifti_file_path\n",
    "# viz_file_path = segmentations_file_path\n",
    "idx = -1\n",
    "# idx = 55\n",
    "\n",
    "try:\n",
    "    # Load the NIfTI image\n",
    "    img = nib.load(viz_file_path)\n",
    "\n",
    "    # Get the image data as a NumPy array\n",
    "    img_data = img.get_fdata()\n",
    "    print(type(img_data))\n",
    "    if idx < 0:\n",
    "        idx = img_data.shape[0] // 2\n",
    "    print(idx)\n",
    "\n",
    "    # Get the shape of the data (e.g., (X, Y, Z) for 3D, or (X, Y, Z, T) for 4D)\n",
    "    print(f\"Image data shape: {img_data.shape}\")\n",
    "\n",
    "    # Select a slice to visualize (e.g., the middle slice along the Z-axis)\n",
    "    # Adjust the axis and slice index based on your data and desired view\n",
    "    if img_data.ndim == 3:\n",
    "        mid_slice_z = img_data[:, :, img_data.shape[2] // 2]\n",
    "#         mid_slice_z = img_data[img_data.shape[0] // 2, :, :]\n",
    "        plt.imshow(mid_slice_z.T, cmap='gray', origin='lower')\n",
    "        plt.title(f'Middle Slice (Z-axis)')\n",
    "    elif img_data.ndim == 4:\n",
    "        # If it's 4D (e.g., fMRI with time), pick a time point\n",
    "        time_point = 0\n",
    "        mid_slice_z = img_data[:, :, img_data.shape[2] // 2, time_point]\n",
    "        plt.imshow(mid_slice_z.T, cmap='gray', origin='lower')\n",
    "        plt.title(f'Middle Slice (Z-axis), Time Point {time_point}')\n",
    "    else:\n",
    "        print(\"Image dimension not supported for simple 2D slice visualization.\")\n",
    "        exit()\n",
    "\n",
    "    plt.xlabel('First axis')\n",
    "    plt.ylabel('Second axis')\n",
    "    plt.colorbar(label='Signal Intensity')\n",
    "    plt.show()\n",
    "\n",
    "    # You can also visualize slices along other axes\n",
    "    fig, axes = plt.subplots(1, 3, figsize=(15, 5))\n",
    "\n",
    "    # Axial slice (z-axis)\n",
    "    axes[0].imshow(img_data[:, :, img_data.shape[2] // 2].T, cmap='gray', origin='lower')\n",
    "    axes[0].set_title('Axial Slice')\n",
    "    axes[0].axis('off')\n",
    "\n",
    "    # Coronal slice (y-axis)\n",
    "    axes[1].imshow(img_data[:, img_data.shape[1] // 2, :].T, cmap='gray', origin='lower')\n",
    "    axes[1].set_title('Coronal Slice')\n",
    "    axes[1].axis('off')\n",
    "\n",
    "    # Sagittal slice (x-axis)\n",
    "#     axes[2].imshow(img_data[img_data.shape[0] // 2, :, :].T, cmap='gray', origin='lower')\n",
    "    axes[2].imshow(img_data[idx, :, :].T, cmap='gray', origin='lower')\n",
    "    axes[2].set_title('Sagittal Slice')\n",
    "    axes[2].axis('off')\n",
    "\n",
    "    plt.suptitle('Orthogonal Slices')\n",
    "    plt.tight_layout(rect=[0, 0.03, 1, 0.95]) # Adjust for suptitle\n",
    "    plt.show()\n",
    "\n",
    "except FileNotFoundError:\n",
    "    print(f\"Error: File not found at {nifti_file_path}\")\n",
    "except Exception as e:\n",
    "    print(f\"An error occurred: {e}\")\n"
   ]
  },
  {
   "cell_type": "code",
   "execution_count": null,
   "id": "1ac9350c",
   "metadata": {},
   "outputs": [],
   "source": [
    "# viz_file_path = nifti_file_path\n",
    "viz_file_path = segmentations_file_path\n",
    "idx = -1\n",
    "# idx = 55\n",
    "\n",
    "try:\n",
    "    # Load the NIfTI image\n",
    "    img = nib.load(viz_file_path)\n",
    "\n",
    "    # Get the image data as a NumPy array\n",
    "    img_data = img.get_fdata()\n",
    "    print(type(img_data))\n",
    "    if idx < 0:\n",
    "        idx = img_data.shape[0] // 2\n",
    "    print(idx)\n",
    "\n",
    "    # Get the shape of the data (e.g., (X, Y, Z) for 3D, or (X, Y, Z, T) for 4D)\n",
    "    print(f\"Image data shape: {img_data.shape}\")\n",
    "\n",
    "    # Select a slice to visualize (e.g., the middle slice along the Z-axis)\n",
    "    # Adjust the axis and slice index based on your data and desired view\n",
    "    if img_data.ndim == 3:\n",
    "        mid_slice_z = img_data[:, :, img_data.shape[2] // 2]\n",
    "#         mid_slice_z = img_data[img_data.shape[0] // 2, :, :]\n",
    "        plt.imshow(mid_slice_z.T, cmap='gray', origin='lower')\n",
    "        plt.title(f'Middle Slice (Z-axis)')\n",
    "    elif img_data.ndim == 4:\n",
    "        # If it's 4D (e.g., fMRI with time), pick a time point\n",
    "        time_point = 0\n",
    "        mid_slice_z = img_data[:, :, img_data.shape[2] // 2, time_point]\n",
    "        plt.imshow(mid_slice_z.T, cmap='gray', origin='lower')\n",
    "        plt.title(f'Middle Slice (Z-axis), Time Point {time_point}')\n",
    "    else:\n",
    "        print(\"Image dimension not supported for simple 2D slice visualization.\")\n",
    "        exit()\n",
    "\n",
    "    plt.xlabel('First axis')\n",
    "    plt.ylabel('Second axis')\n",
    "    plt.colorbar(label='Signal Intensity')\n",
    "    plt.show()\n",
    "\n",
    "    # You can also visualize slices along other axes\n",
    "    fig, axes = plt.subplots(1, 3, figsize=(15, 5))\n",
    "\n",
    "    # Axial slice (z-axis)\n",
    "    axes[0].imshow(img_data[:, :, img_data.shape[2] // 2].T, cmap='gray', origin='lower')\n",
    "    axes[0].set_title('Axial Slice')\n",
    "    axes[0].axis('off')\n",
    "\n",
    "    # Coronal slice (y-axis)\n",
    "    axes[1].imshow(img_data[:, img_data.shape[1] // 2, :].T, cmap='gray', origin='lower')\n",
    "    axes[1].set_title('Coronal Slice')\n",
    "    axes[1].axis('off')\n",
    "\n",
    "    # Sagittal slice (x-axis)\n",
    "#     axes[2].imshow(img_data[img_data.shape[0] // 2, :, :].T, cmap='gray', origin='lower')\n",
    "    axes[2].imshow(img_data[idx, :, :].T, cmap='gray', origin='lower')\n",
    "    axes[2].set_title('Sagittal Slice')\n",
    "    axes[2].axis('off')\n",
    "\n",
    "    plt.suptitle('Orthogonal Slices')\n",
    "    plt.tight_layout(rect=[0, 0.03, 1, 0.95]) # Adjust for suptitle\n",
    "    plt.show()\n",
    "\n",
    "except FileNotFoundError:\n",
    "    print(f\"Error: File not found at {nifti_file_path}\")\n",
    "except Exception as e:\n",
    "    print(f\"An error occurred: {e}\")"
   ]
  },
  {
   "cell_type": "code",
   "execution_count": null,
   "id": "21d67abb",
   "metadata": {},
   "outputs": [],
   "source": [
    "np.max(img_data)"
   ]
  },
  {
   "cell_type": "markdown",
   "id": "bf80973a",
   "metadata": {},
   "source": [
    "### Steps for dataset generation for KiTS23\n",
    "\n"
   ]
  },
  {
   "cell_type": "markdown",
   "id": "528da7cd",
   "metadata": {},
   "source": [
    "1) Get file paths for all case_XXXXX files\n",
    "\n",
    "Do for each case:\n",
    "1) Find the number of cysts, tumors, and kidneys (kidneys should ideally be 2). Each of these is one ROI (region of interest)\n",
    "2) For each ROI, find the slice index which has the strongest mask (highest number of mask pixels)\n",
    "3) Pull the slice from imaging.nii and segmentation.nii corresponding to that index. This becomes one training example\n",
    "\n",
    "Note that such training examples may have two or more ROIs - however, only one of these ROIs will be at it's strongest visibility here. The other ROIs may exist, but will be weaker; which is fine. The model should ideally be able to predict both ROIs in their respective strengths.\n",
    "    \n",
    "Done"
   ]
  },
  {
   "cell_type": "markdown",
   "id": "131dbd7a",
   "metadata": {},
   "source": [
    "Ideally put these in separate folders for cysts, tumors, and kidneys"
   ]
  },
  {
   "cell_type": "markdown",
   "id": "7eced7af",
   "metadata": {},
   "source": [
    "### Test/Val set evaluations"
   ]
  },
  {
   "cell_type": "code",
   "execution_count": null,
   "id": "c1825a24",
   "metadata": {},
   "outputs": [],
   "source": [
    "case_path = '../../KiTS23/KiTS_subset/case_00008/instances/'\n",
    "case_imaging_path = '../../KiTS23/KiTS_subset/case_00008/imaging.nii.gz'"
   ]
  },
  {
   "cell_type": "code",
   "execution_count": null,
   "id": "470429d2",
   "metadata": {},
   "outputs": [],
   "source": [
    "case_instances = os.listdir(case_path)\n",
    "print(case_instances, case_instances[-1])"
   ]
  },
  {
   "cell_type": "code",
   "execution_count": null,
   "id": "f60ddd70",
   "metadata": {},
   "outputs": [],
   "source": [
    "# for i in case_instances:\n",
    "#     if i.startswith('cyst'):\n",
    "#         print(i)"
   ]
  },
  {
   "cell_type": "code",
   "execution_count": null,
   "id": "481fac59",
   "metadata": {},
   "outputs": [],
   "source": [
    "def get_slice_index(img):\n",
    "    print(img.shape)\n",
    "#     print(np.sum(img, axis = (1,2)))\n",
    "    return np.argmax(np.sum(img, axis=(1,2)))"
   ]
  },
  {
   "cell_type": "code",
   "execution_count": null,
   "id": "8d242a64",
   "metadata": {},
   "outputs": [],
   "source": [
    "# viz_file_path = os.path.join(case_path, 'kidney_instance-1_annotation-1.nii.gz')\n",
    "viz_file_path = os.path.join(case_path, 'tumor_instance-1_annotation-1.nii.gz')\n",
    "\n",
    "slice_idx = -1\n",
    "\n",
    "try:\n",
    "    # Load the NIfTI image\n",
    "    img = nib.load(viz_file_path)\n",
    "\n",
    "    # Get the image data as a NumPy array\n",
    "    img_data = img.get_fdata()\n",
    "    print(type(img_data), img_data.shape)\n",
    "    if slice_idx < 0:\n",
    "        slice_idx = get_slice_index(img_data)\n",
    "    print(slice_idx)\n",
    "\n",
    "    # Get the shape of the data (e.g., (X, Y, Z) for 3D, or (X, Y, Z, T) for 4D)\n",
    "    print(f\"Image data shape: {img_data.shape}\")\n",
    "\n",
    "    # Select a slice to visualize (e.g., the middle slice along the Z-axis)\n",
    "    # Adjust the axis and slice index based on your data and desired view\n",
    "    if img_data.ndim == 3:\n",
    "        mid_slice_z = img_data[:, :, img_data.shape[2] // 2]\n",
    "#         mid_slice_z = img_data[img_data.shape[0] // 2, :, :]\n",
    "        plt.imshow(mid_slice_z.T, cmap='gray', origin='lower')\n",
    "        plt.title(f'Middle Slice (Z-axis)')\n",
    "    elif img_data.ndim == 4:\n",
    "        # If it's 4D (e.g., fMRI with time), pick a time point\n",
    "        time_point = 0\n",
    "        mid_slice_z = img_data[:, :, img_data.shape[2] // 2, time_point]\n",
    "        plt.imshow(mid_slice_z.T, cmap='gray', origin='lower')\n",
    "        plt.title(f'Middle Slice (Z-axis), Time Point {time_point}')\n",
    "    else:\n",
    "        print(\"Image dimension not supported for simple 2D slice visualization.\")\n",
    "        exit()\n",
    "\n",
    "    plt.xlabel('First axis')\n",
    "    plt.ylabel('Second axis')\n",
    "    plt.colorbar(label='Signal Intensity')\n",
    "    plt.show()\n",
    "\n",
    "    # You can also visualize slices along other axes\n",
    "    fig, axes = plt.subplots(1, 3, figsize=(15, 5))\n",
    "\n",
    "    # Axial slice (z-axis)\n",
    "    axes[0].imshow(img_data[:, :, img_data.shape[2] // 2].T, cmap='gray', origin='lower')\n",
    "    axes[0].set_title('Axial Slice')\n",
    "    axes[0].axis('off')\n",
    "\n",
    "    # Coronal slice (y-axis)\n",
    "    axes[1].imshow(img_data[:, img_data.shape[1] // 2, :].T, cmap='gray', origin='lower')\n",
    "    axes[1].set_title('Coronal Slice')\n",
    "    axes[1].axis('off')\n",
    "\n",
    "    # Sagittal slice (x-axis)\n",
    "#     axes[2].imshow(img_data[img_data.shape[0] // 2, :, :].T, cmap='gray', origin='lower')\n",
    "    axes[2].imshow(img_data[slice_idx, :, :].T, cmap='gray', origin='lower')\n",
    "    axes[2].set_title('Sagittal Slice')\n",
    "    axes[2].axis('off')\n",
    "\n",
    "    plt.suptitle('Orthogonal Slices')\n",
    "    plt.tight_layout(rect=[0, 0.03, 1, 0.95]) # Adjust for suptitle\n",
    "    plt.show()\n",
    "\n",
    "except FileNotFoundError:\n",
    "    print(f\"Error: File not found at {nifti_file_path}\")\n",
    "except Exception as e:\n",
    "    print(f\"An error occurred: {e}\")\n"
   ]
  },
  {
   "cell_type": "code",
   "execution_count": null,
   "id": "43c9ead6",
   "metadata": {},
   "outputs": [],
   "source": [
    "z = np.sum(img_data, axis=(1,2))\n",
    "print(z, z.shape)"
   ]
  },
  {
   "cell_type": "code",
   "execution_count": null,
   "id": "0ea48194",
   "metadata": {},
   "outputs": [],
   "source": [
    "np.argmax(z)"
   ]
  },
  {
   "cell_type": "code",
   "execution_count": null,
   "id": "e9fcdee6",
   "metadata": {},
   "outputs": [],
   "source": [
    "z[130]"
   ]
  },
  {
   "cell_type": "code",
   "execution_count": null,
   "id": "b8afa8c6",
   "metadata": {},
   "outputs": [],
   "source": [
    "case_path[:-10]"
   ]
  },
  {
   "cell_type": "code",
   "execution_count": null,
   "id": "11e0d6fa",
   "metadata": {},
   "outputs": [],
   "source": [
    "viz_file_path = os.path.join(case_path[:-10], 'imaging.nii.gz')\n",
    "# viz_file_path = os.path.join(case_path[:-10], 'instances/kidney_instance-2_annotation-1.nii.gz')\n",
    "\n",
    "# slice_idx = -1\n",
    "\n",
    "try:\n",
    "    # Load the NIfTI image\n",
    "    img = nib.load(viz_file_path)\n",
    "\n",
    "    # Get the image data as a NumPy array\n",
    "    img_data = img.get_fdata()\n",
    "    print(type(img_data), img_data.shape)\n",
    "    if slice_idx < 0:\n",
    "        slice_idx = get_slice_index(img_data)\n",
    "    print(slice_idx)\n",
    "\n",
    "    # Get the shape of the data (e.g., (X, Y, Z) for 3D, or (X, Y, Z, T) for 4D)\n",
    "    print(f\"Image data shape: {img_data.shape}\")\n",
    "\n",
    "    # Select a slice to visualize (e.g., the middle slice along the Z-axis)\n",
    "    # Adjust the axis and slice index based on your data and desired view\n",
    "    if img_data.ndim == 3:\n",
    "        mid_slice_z = img_data[:, :, img_data.shape[2] // 2]\n",
    "#         mid_slice_z = img_data[img_data.shape[0] // 2, :, :]\n",
    "        plt.imshow(mid_slice_z.T, cmap='gray', origin='lower')\n",
    "        plt.title(f'Middle Slice (Z-axis)')\n",
    "    elif img_data.ndim == 4:\n",
    "        # If it's 4D (e.g., fMRI with time), pick a time point\n",
    "        time_point = 0\n",
    "        mid_slice_z = img_data[:, :, img_data.shape[2] // 2, time_point]\n",
    "        plt.imshow(mid_slice_z.T, cmap='gray', origin='lower')\n",
    "        plt.title(f'Middle Slice (Z-axis), Time Point {time_point}')\n",
    "    else:\n",
    "        print(\"Image dimension not supported for simple 2D slice visualization.\")\n",
    "        exit()\n",
    "\n",
    "    plt.xlabel('First axis')\n",
    "    plt.ylabel('Second axis')\n",
    "    plt.colorbar(label='Signal Intensity')\n",
    "    plt.show()\n",
    "\n",
    "    # You can also visualize slices along other axes\n",
    "    fig, axes = plt.subplots(1, 3, figsize=(15, 5))\n",
    "\n",
    "    # Axial slice (z-axis)\n",
    "    axes[0].imshow(img_data[:, :, img_data.shape[2] // 2].T, cmap='gray', origin='lower')\n",
    "    axes[0].set_title('Axial Slice')\n",
    "    axes[0].axis('off')\n",
    "\n",
    "    # Coronal slice (y-axis)\n",
    "    axes[1].imshow(img_data[:, img_data.shape[1] // 2, :].T, cmap='gray', origin='lower')\n",
    "    axes[1].set_title('Coronal Slice')\n",
    "    axes[1].axis('off')\n",
    "\n",
    "    # Sagittal slice (x-axis)\n",
    "#     axes[2].imshow(img_data[img_data.shape[0] // 2, :, :].T, cmap='gray', origin='lower')\n",
    "    axes[2].imshow(img_data[slice_idx, :, :].T, cmap='gray', origin='lower')\n",
    "    axes[2].set_title('Sagittal Slice')\n",
    "    axes[2].axis('off')\n",
    "\n",
    "    plt.suptitle('Orthogonal Slices')\n",
    "    plt.tight_layout(rect=[0, 0.03, 1, 0.95]) # Adjust for suptitle\n",
    "    plt.show()\n",
    "\n",
    "except FileNotFoundError:\n",
    "    print(f\"Error: File not found at {nifti_file_path}\")\n",
    "except Exception as e:\n",
    "    print(f\"An error occurred: {e}\")\n"
   ]
  },
  {
   "cell_type": "code",
   "execution_count": null,
   "id": "a467e8c3",
   "metadata": {},
   "outputs": [],
   "source": [
    "y = img_data"
   ]
  },
  {
   "cell_type": "code",
   "execution_count": null,
   "id": "4fd6e1aa",
   "metadata": {},
   "outputs": [],
   "source": [
    "print(y.dtype)"
   ]
  },
  {
   "cell_type": "code",
   "execution_count": null,
   "id": "f8e6ebfe",
   "metadata": {},
   "outputs": [],
   "source": [
    "case_instances[0]"
   ]
  },
  {
   "cell_type": "code",
   "execution_count": null,
   "id": "105797d2",
   "metadata": {
    "scrolled": true
   },
   "outputs": [],
   "source": [
    "print(case_instances[0].split('-'))"
   ]
  },
  {
   "cell_type": "code",
   "execution_count": null,
   "id": "a1a81e0a",
   "metadata": {},
   "outputs": [],
   "source": [
    "re.split(r'[_\\-]+', case_instances[0])"
   ]
  },
  {
   "cell_type": "code",
   "execution_count": null,
   "id": "7d7c4a04",
   "metadata": {},
   "outputs": [],
   "source": [
    "case_instances_split = list()\n",
    "for j in case_instances:\n",
    "    case_instances_split.append(re.split(r'[\\-_]+', j))"
   ]
  },
  {
   "cell_type": "code",
   "execution_count": null,
   "id": "91cd1343",
   "metadata": {},
   "outputs": [],
   "source": [
    "os.getcwd()"
   ]
  }
 ],
 "metadata": {
  "kernelspec": {
   "display_name": "Python 3 (ipykernel)",
   "language": "python",
   "name": "python3"
  },
  "language_info": {
   "codemirror_mode": {
    "name": "ipython",
    "version": 3
   },
   "file_extension": ".py",
   "mimetype": "text/x-python",
   "name": "python",
   "nbconvert_exporter": "python",
   "pygments_lexer": "ipython3",
   "version": "3.10.13"
  }
 },
 "nbformat": 4,
 "nbformat_minor": 5
}
