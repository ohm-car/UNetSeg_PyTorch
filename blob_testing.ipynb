{
 "cells": [
  {
   "cell_type": "code",
   "execution_count": null,
   "id": "c71da5d7",
   "metadata": {},
   "outputs": [],
   "source": [
    "from math import sqrt\n",
    "from skimage import data\n",
    "from skimage.feature import blob_dog, blob_log, blob_doh\n",
    "from skimage.color import rgb2gray\n",
    "\n",
    "import matplotlib.pyplot as plt\n",
    "from IPython.display import display"
   ]
  },
  {
   "cell_type": "code",
   "execution_count": null,
   "id": "dab1bbd6",
   "metadata": {},
   "outputs": [],
   "source": [
    "image = data.hubble_deep_field()[0:500, 0:500]\n",
    "image_gray = rgb2gray(image)\n",
    "\n",
    "\n",
    "\n",
    "blobs_log = blob_log(image_gray, max_sigma=30, num_sigma=10, threshold=0.1)\n",
    "\n",
    "# Compute radii in the 3rd column.\n",
    "# blobs_log[:, 2] = blobs_log[:, 2] * sqrt(2)\n",
    "blobs_log[:, 2] = blobs_log[:, 2]\n",
    "\n",
    "blobs_dog = blob_dog(image_gray, max_sigma=30, threshold=0.1)\n",
    "# blobs_dog[:, 2] = blobs_dog[:, 2]\n",
    "\n",
    "blobs_doh = blob_doh(image_gray, max_sigma=30, threshold=0.01)\n",
    "print(blobs_doh[:,0])\n",
    "print(blobs_doh[:,1])\n",
    "print(blobs_doh[:,2])\n",
    "\n",
    "blobs_list = [blobs_log, blobs_dog, blobs_doh]\n",
    "colors = ['yellow', 'lime', 'red']\n",
    "titles = ['Laplacian of Gaussian', 'Difference of Gaussian', 'Determinant of Hessian']\n",
    "sequence = zip(blobs_list, colors, titles)\n",
    "\n",
    "fig, axes = plt.subplots(1, 4, figsize=(9, 3), sharex=True, sharey=True)\n",
    "ax = axes.ravel()\n",
    "\n",
    "for idx, (blobs, color, title) in enumerate(sequence):\n",
    "    ax[idx].set_title(title)\n",
    "    ax[idx].imshow(image)\n",
    "    for blob in blobs:\n",
    "        y, x, r = blob\n",
    "        c = plt.Circle((x, y), r, color=color, linewidth=2, fill=False)\n",
    "        ax[idx].add_patch(c)\n",
    "    ax[idx].set_axis_off()\n",
    "\n",
    "nidx = idx+1\n",
    "ax[nidx].set_title(\"OG Image\")\n",
    "ax[nidx].imshow(image)\n",
    "\n",
    "plt.tight_layout()\n",
    "plt.show()"
   ]
  },
  {
   "cell_type": "code",
   "execution_count": null,
   "id": "121075d8",
   "metadata": {},
   "outputs": [],
   "source": []
  }
 ],
 "metadata": {
  "kernelspec": {
   "display_name": "Python 3 (ipykernel)",
   "language": "python",
   "name": "python3"
  },
  "language_info": {
   "codemirror_mode": {
    "name": "ipython",
    "version": 3
   },
   "file_extension": ".py",
   "mimetype": "text/x-python",
   "name": "python",
   "nbconvert_exporter": "python",
   "pygments_lexer": "ipython3",
   "version": "3.10.13"
  }
 },
 "nbformat": 4,
 "nbformat_minor": 5
}
