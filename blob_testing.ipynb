{
 "cells": [
  {
   "cell_type": "code",
   "execution_count": null,
   "id": "c71da5d7",
   "metadata": {},
   "outputs": [],
   "source": [
    "from math import sqrt\n",
    "from skimage import data\n",
    "from skimage.feature import blob_dog, blob_log, blob_doh\n",
    "from skimage.color import rgb2gray\n",
    "from skimage import io\n",
    "from skimage.morphology import erosion, square\n",
    "\n",
    "import matplotlib.pyplot as plt\n",
    "from IPython.display import display"
   ]
  },
  {
   "cell_type": "code",
   "execution_count": null,
   "id": "dab1bbd6",
   "metadata": {},
   "outputs": [],
   "source": [
    "# image = data.hubble_deep_field()[0:500, 0:500]\n",
    "image = io.imread('../Datasets/Dataset_BUSI_with_GT/benign/benign (36)_mask.png')\n",
    "print(type(image))\n",
    "# image = data.coins()[50:-50, 50:-50]\n",
    "image_gray = rgb2gray(image) if len(image.shape) == 3 else image\n",
    "# image_gray = image\n",
    "print(image_gray.shape)\n",
    "\n",
    "blobs_log = blob_log(image_gray, max_sigma=30, num_sigma=10, threshold=0.1)\n",
    "print(blobs_log.shape)\n",
    "\n",
    "# Compute radii in the 3rd column.\n",
    "# blobs_log[:, 2] = blobs_log[:, 2] * sqrt(2)\n",
    "blobs_log[:, 2] = blobs_log[:, 2]\n",
    "\n",
    "blobs_dog = blob_dog(image_gray, max_sigma=30, threshold=0.1)\n",
    "print(blobs_dog.shape)\n",
    "# blobs_dog[:, 2] = blobs_dog[:, 2]\n",
    "\n",
    "blobs_doh = blob_doh(image_gray, max_sigma=30, threshold=0.01)\n",
    "print(blobs_doh.shape)\n",
    "# print(blobs_doh[:,0])\n",
    "# print(blobs_doh[:,1])\n",
    "# print(blobs_doh[:,2])\n",
    "\n",
    "blobs_list = [blobs_log, blobs_dog, blobs_doh]\n",
    "colors = ['red', 'red', 'red']\n",
    "titles = ['Laplacian of Gaussian', 'Difference of Gaussian', 'Determinant of Hessian']\n",
    "sequence = zip(blobs_list, colors, titles)\n",
    "\n",
    "fig, axes = plt.subplots(1, 5, figsize=(9, 3), sharex=True, sharey=True)\n",
    "ax = axes.ravel()\n",
    "\n",
    "for idx, (blobs, color, title) in enumerate(sequence):\n",
    "    ax[idx].set_title(title)\n",
    "    ax[idx].imshow(image)\n",
    "    for blob in blobs:\n",
    "        y, x, r = blob\n",
    "        c = plt.Circle((x, y), r, color=color, linewidth=2, fill=False)\n",
    "        ax[idx].add_patch(c)\n",
    "    ax[idx].set_axis_off()\n",
    "\n",
    "nidx = idx+1\n",
    "ax[nidx].set_title(\"OG Image\")\n",
    "e_image = erosion(image)\n",
    "ax[nidx].imshow(image)\n",
    "nidx += 1\n",
    "ax[nidx].set_title(\"Eroded Image\")\n",
    "ax[nidx].imshow(e_image)\n",
    "\n",
    "plt.tight_layout()\n",
    "plt.show()"
   ]
  },
  {
   "cell_type": "code",
   "execution_count": null,
   "id": "121075d8",
   "metadata": {
    "scrolled": false
   },
   "outputs": [],
   "source": [
    "import matplotlib.pyplot as plt\n",
    "import matplotlib.patches as mpatches\n",
    "\n",
    "from skimage import data\n",
    "from skimage.filters import threshold_otsu\n",
    "from skimage.segmentation import clear_border\n",
    "from skimage.measure import label, regionprops\n",
    "from skimage.morphology import closing, square\n",
    "from skimage.color import label2rgb\n",
    "\n",
    "\n",
    "image = data.coins()[50:-50, 50:-50]\n",
    "\n",
    "# apply threshold\n",
    "thresh = threshold_otsu(image)\n",
    "bw = closing(image > thresh, square(3))\n",
    "\n",
    "\n",
    "\n",
    "# remove artifacts connected to image border\n",
    "cleared = clear_border(bw)\n",
    "\n",
    "# label image regions\n",
    "label_image = label(cleared)\n",
    "# to make the background transparent, pass the value of `bg_label`,\n",
    "# and leave `bg_color` as `None` and `kind` as `overlay`\n",
    "image_label_overlay = label2rgb(label_image, image=image, bg_label=0)\n",
    "\n",
    "fig, ax = plt.subplots(figsize=(10, 6))\n",
    "ax.imshow(image_label_overlay)\n",
    "# ax.imshow(bw)\n",
    "\n",
    "for region in regionprops(label_image):\n",
    "    # take regions with large enough areas\n",
    "    if region.area >= 100:\n",
    "        # draw rectangle around segmented coins\n",
    "        minr, minc, maxr, maxc = region.bbox\n",
    "        rect = mpatches.Rectangle(\n",
    "            (minc, minr),\n",
    "            maxc - minc,\n",
    "            maxr - minr,\n",
    "            fill=False,\n",
    "            edgecolor='red',\n",
    "            linewidth=2,\n",
    "        )\n",
    "        ax.add_patch(rect)\n",
    "\n",
    "ax.set_axis_off()\n",
    "plt.tight_layout()\n",
    "plt.show()"
   ]
  },
  {
   "cell_type": "code",
   "execution_count": null,
   "id": "46583c44",
   "metadata": {},
   "outputs": [],
   "source": [
    "import numpy as np"
   ]
  },
  {
   "cell_type": "code",
   "execution_count": null,
   "id": "055c8dc1",
   "metadata": {},
   "outputs": [],
   "source": [
    "x = np.zeros((10,10))"
   ]
  },
  {
   "cell_type": "code",
   "execution_count": null,
   "id": "2cc0ba1a",
   "metadata": {},
   "outputs": [],
   "source": [
    "a, b, r = 4, 6, 3"
   ]
  },
  {
   "cell_type": "code",
   "execution_count": null,
   "id": "b9eaf826",
   "metadata": {},
   "outputs": [],
   "source": [
    "y = x"
   ]
  },
  {
   "cell_type": "code",
   "execution_count": null,
   "id": "17927960",
   "metadata": {},
   "outputs": [],
   "source": [
    "y[(a-r+1):(a+r),(b-r+1):(b+r)] = 1"
   ]
  },
  {
   "cell_type": "code",
   "execution_count": null,
   "id": "8a9b87b3",
   "metadata": {},
   "outputs": [],
   "source": [
    "len(y.shape)"
   ]
  },
  {
   "cell_type": "code",
   "execution_count": null,
   "id": "220e68a7",
   "metadata": {},
   "outputs": [],
   "source": [
    "import torch"
   ]
  },
  {
   "cell_type": "code",
   "execution_count": null,
   "id": "a2eb13d7",
   "metadata": {},
   "outputs": [],
   "source": [
    "yt = torch.tensor(y)\n",
    "print(yt)"
   ]
  },
  {
   "cell_type": "code",
   "execution_count": null,
   "id": "d21a6f00",
   "metadata": {},
   "outputs": [],
   "source": [
    "import os\n",
    "fnames = os.listdir('../Datasets/Dataset_BUSI_with_GT/benign/')\n",
    "for fname in fnames:\n",
    "#     print(fname)\n",
    "    x = fname.split('_')\n",
    "    if len(x) > 2:\n",
    "        print(x[2].split('.')[0])"
   ]
  },
  {
   "cell_type": "code",
   "execution_count": null,
   "id": "a4b26647",
   "metadata": {},
   "outputs": [],
   "source": []
  }
 ],
 "metadata": {
  "kernelspec": {
   "display_name": "Python 3 (ipykernel)",
   "language": "python",
   "name": "python3"
  },
  "language_info": {
   "codemirror_mode": {
    "name": "ipython",
    "version": 3
   },
   "file_extension": ".py",
   "mimetype": "text/x-python",
   "name": "python",
   "nbconvert_exporter": "python",
   "pygments_lexer": "ipython3",
   "version": "3.10.13"
  }
 },
 "nbformat": 4,
 "nbformat_minor": 5
}
