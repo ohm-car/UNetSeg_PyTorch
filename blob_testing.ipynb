{
 "cells": [
  {
   "cell_type": "code",
   "execution_count": null,
   "id": "c71da5d7",
   "metadata": {},
   "outputs": [],
   "source": [
    "from math import sqrt\n",
    "from skimage import data\n",
    "from skimage.feature import blob_dog, blob_log, blob_doh\n",
    "from skimage.color import rgb2gray\n",
    "from skimage import io\n",
    "from skimage.morphology import erosion, square, binary_erosion\n",
    "\n",
    "from glob import glob\n",
    "\n",
    "import matplotlib.pyplot as plt\n",
    "from IPython.display import display"
   ]
  },
  {
   "cell_type": "code",
   "execution_count": null,
   "id": "dab1bbd6",
   "metadata": {},
   "outputs": [],
   "source": [
    "# image = data.hubble_deep_field()[0:500, 0:500]\n",
    "image = io.imread('../Datasets/Dataset_BUSI_with_GT/benign/benign (36)_mask.png')\n",
    "print(type(image))\n",
    "# image = data.coins()[50:-50, 50:-50]\n",
    "image_gray = rgb2gray(image) if len(image.shape) == 3 else image\n",
    "# image_gray = image\n",
    "print(image_gray.shape)\n",
    "\n",
    "blobs_log = blob_log(image_gray, max_sigma=30, num_sigma=10, threshold=0.1)\n",
    "print(blobs_log.shape)\n",
    "\n",
    "# Compute radii in the 3rd column.\n",
    "# blobs_log[:, 2] = blobs_log[:, 2] * sqrt(2)\n",
    "blobs_log[:, 2] = blobs_log[:, 2]\n",
    "\n",
    "blobs_dog = blob_dog(image_gray, max_sigma=30, threshold=0.1)\n",
    "print(blobs_dog.shape)\n",
    "# blobs_dog[:, 2] = blobs_dog[:, 2]\n",
    "\n",
    "blobs_doh = blob_doh(image_gray, max_sigma=30, threshold=0.01)\n",
    "print(blobs_doh.shape)\n",
    "# print(blobs_doh[:,0])\n",
    "# print(blobs_doh[:,1])\n",
    "# print(blobs_doh[:,2])\n",
    "\n",
    "blobs_list = [blobs_log, blobs_dog, blobs_doh]\n",
    "colors = ['red', 'red', 'red']\n",
    "titles = ['Laplacian of Gaussian', 'Difference of Gaussian', 'Determinant of Hessian']\n",
    "sequence = zip(blobs_list, colors, titles)\n",
    "\n",
    "fig, axes = plt.subplots(1, 5, figsize=(9, 3), sharex=True, sharey=True)\n",
    "ax = axes.ravel()\n",
    "\n",
    "for idx, (blobs, color, title) in enumerate(sequence):\n",
    "    ax[idx].set_title(title)\n",
    "    ax[idx].imshow(image)\n",
    "    for blob in blobs:\n",
    "        y, x, r = blob\n",
    "        c = plt.Circle((x, y), r, color=color, linewidth=2, fill=False)\n",
    "        ax[idx].add_patch(c)\n",
    "    ax[idx].set_axis_off()\n",
    "\n",
    "nidx = idx+1\n",
    "ax[nidx].set_title(\"OG Image\")\n",
    "e_image = erosion(image)\n",
    "ax[nidx].imshow(image)\n",
    "nidx += 1\n",
    "ax[nidx].set_title(\"Eroded Image\")\n",
    "ax[nidx].imshow(e_image)\n",
    "\n",
    "plt.tight_layout()\n",
    "plt.show()"
   ]
  },
  {
   "cell_type": "code",
   "execution_count": null,
   "id": "121075d8",
   "metadata": {
    "scrolled": false
   },
   "outputs": [],
   "source": [
    "import matplotlib.pyplot as plt\n",
    "import matplotlib.patches as mpatches\n",
    "\n",
    "from skimage import data\n",
    "from skimage.filters import threshold_otsu\n",
    "from skimage.segmentation import clear_border\n",
    "from skimage.measure import label, regionprops\n",
    "from skimage.morphology import closing, square\n",
    "from skimage.color import label2rgb\n",
    "from skimage.transform import resize\n",
    "\n",
    "\n",
    "image = data.coins()[50:-50, 50:-50]\n",
    "\n",
    "# apply threshold\n",
    "thresh = threshold_otsu(image)\n",
    "bw = closing(image > thresh, square(3))\n",
    "\n",
    "\n",
    "\n",
    "# remove artifacts connected to image border\n",
    "cleared = clear_border(bw)\n",
    "\n",
    "# label image regions\n",
    "label_image = label(cleared)\n",
    "# to make the background transparent, pass the value of `bg_label`,\n",
    "# and leave `bg_color` as `None` and `kind` as `overlay`\n",
    "image_label_overlay = label2rgb(label_image, image=image, bg_label=0)\n",
    "\n",
    "fig, ax = plt.subplots(figsize=(10, 6))\n",
    "ax.imshow(image_label_overlay)\n",
    "# ax.imshow(bw)\n",
    "\n",
    "for region in regionprops(label_image):\n",
    "    # take regions with large enough areas\n",
    "    if region.area >= 100:\n",
    "        # draw rectangle around segmented coins\n",
    "        minr, minc, maxr, maxc = region.bbox\n",
    "        rect = mpatches.Rectangle(\n",
    "            (minc, minr),\n",
    "            maxc - minc,\n",
    "            maxr - minr,\n",
    "            fill=False,\n",
    "            edgecolor='red',\n",
    "            linewidth=2,\n",
    "        )\n",
    "        ax.add_patch(rect)\n",
    "\n",
    "ax.set_axis_off()\n",
    "plt.tight_layout()\n",
    "plt.show()"
   ]
  },
  {
   "cell_type": "code",
   "execution_count": null,
   "id": "46583c44",
   "metadata": {},
   "outputs": [],
   "source": [
    "import numpy as np"
   ]
  },
  {
   "cell_type": "code",
   "execution_count": null,
   "id": "055c8dc1",
   "metadata": {},
   "outputs": [],
   "source": [
    "x = np.zeros((10,10))"
   ]
  },
  {
   "cell_type": "code",
   "execution_count": null,
   "id": "2cc0ba1a",
   "metadata": {},
   "outputs": [],
   "source": [
    "a, b, r = 4, 6, 3"
   ]
  },
  {
   "cell_type": "code",
   "execution_count": null,
   "id": "b9eaf826",
   "metadata": {},
   "outputs": [],
   "source": [
    "y = x"
   ]
  },
  {
   "cell_type": "code",
   "execution_count": null,
   "id": "17927960",
   "metadata": {},
   "outputs": [],
   "source": [
    "y[(a-r+1):(a+r),(b-r+1):(b+r)] = 1"
   ]
  },
  {
   "cell_type": "code",
   "execution_count": null,
   "id": "8a9b87b3",
   "metadata": {},
   "outputs": [],
   "source": [
    "len(y.shape)"
   ]
  },
  {
   "cell_type": "code",
   "execution_count": null,
   "id": "220e68a7",
   "metadata": {},
   "outputs": [],
   "source": [
    "import torch"
   ]
  },
  {
   "cell_type": "code",
   "execution_count": null,
   "id": "a2eb13d7",
   "metadata": {},
   "outputs": [],
   "source": [
    "yt = torch.tensor(y)\n",
    "print(yt)"
   ]
  },
  {
   "cell_type": "code",
   "execution_count": null,
   "id": "d21a6f00",
   "metadata": {},
   "outputs": [],
   "source": [
    "import os\n",
    "fnames = os.listdir('../Datasets/Dataset_BUSI_with_GT/benign/')\n",
    "for fname in fnames:\n",
    "#     print(fname)\n",
    "    x = fname.split('_')\n",
    "    if len(x) > 2:\n",
    "        print(x)\n",
    "        print(x[2].split('.')[0])"
   ]
  },
  {
   "cell_type": "markdown",
   "id": "fb92f39f",
   "metadata": {},
   "source": [
    "### "
   ]
  },
  {
   "cell_type": "markdown",
   "id": "e4094b67",
   "metadata": {},
   "source": [
    "###"
   ]
  },
  {
   "cell_type": "markdown",
   "id": "0c4247a0",
   "metadata": {},
   "source": [
    "### Description of code"
   ]
  },
  {
   "cell_type": "markdown",
   "id": "4e6a6390",
   "metadata": {},
   "source": [
    "Open a file. Load related mask files. Erode them individually until less than 50 and more than 20 pixels remain in the foreground. Note the co-ordinates of the eroded mask (like a bounding box). Use this as the weak mask to compute BCE Loss against. Compute BCE loss ONLY on this bounding box - training will happen only for the positive class"
   ]
  },
  {
   "cell_type": "code",
   "execution_count": null,
   "id": "c44489b9",
   "metadata": {},
   "outputs": [],
   "source": [
    "# image = io.imread('../Datasets/Dataset_BUSI_with_GT/benign/benign (36)_mask.png')"
   ]
  },
  {
   "cell_type": "code",
   "execution_count": null,
   "id": "644a051a",
   "metadata": {},
   "outputs": [],
   "source": [
    "petsdir = '../Datasets/petsData/annotations/trimaps/'\n",
    "busidir = '../Datasets/Dataset_BUSI_with_GT/benign/'"
   ]
  },
  {
   "cell_type": "code",
   "execution_count": null,
   "id": "3eb512af",
   "metadata": {},
   "outputs": [],
   "source": [
    "# im_name = 'benign (195).png'\n",
    "# image = io.imread('../Datasets/Dataset_BUSI_with_GT/benign/' + im_name)"
   ]
  },
  {
   "cell_type": "code",
   "execution_count": null,
   "id": "8ca0fb03",
   "metadata": {},
   "outputs": [],
   "source": [
    "im_name = 'Egyptian_Mau_58.png'\n",
    "image = io.imread('../Datasets/petsData/annotations/trimaps/' + im_name)"
   ]
  },
  {
   "cell_type": "code",
   "execution_count": null,
   "id": "57d29298",
   "metadata": {},
   "outputs": [],
   "source": [
    "def get_masks(im_name):\n",
    "    \n",
    "    imn = im_name.split('.')[0]\n",
    "#     mask_names = glob(busidir + imn + '_mask' + '*')\n",
    "    mask_names = glob(petsdir + imn + '*')\n",
    "    \n",
    "    return mask_names\n",
    "    "
   ]
  },
  {
   "cell_type": "code",
   "execution_count": null,
   "id": "c2dcf87a",
   "metadata": {},
   "outputs": [],
   "source": []
  },
  {
   "cell_type": "code",
   "execution_count": null,
   "id": "33baf924",
   "metadata": {},
   "outputs": [],
   "source": [
    "# fig, ax = plt.subplots(figsize=(10, 6))\n",
    "# ax.imshow(image)"
   ]
  },
  {
   "cell_type": "code",
   "execution_count": null,
   "id": "8c9382df",
   "metadata": {},
   "outputs": [],
   "source": [
    "# def eroded_mask(mask):\n",
    "    \n",
    "#     o_pixels = np.sum(mask)\n",
    "#     e_mask = mask\n",
    "#     pixels = np.sum(e_mask)\n",
    "#     while pixels >= 50:\n",
    "        \n",
    "# #         e_mask = binary_erosion(e_mask, square(3))\n",
    "#         e_mask = erosion(e_mask, np.ones((3,3)))\n",
    "#         pixels = np.sum(e_mask)\n",
    "        \n",
    "#     print(pixels)\n",
    "    \n",
    "#     return e_mask"
   ]
  },
  {
   "cell_type": "code",
   "execution_count": null,
   "id": "b4ef8e5e",
   "metadata": {},
   "outputs": [],
   "source": [
    "def eroded_mask(mask):\n",
    "    \n",
    "    o_pixels = np.sum(mask)\n",
    "#     print(o_pixels)\n",
    "    print(\"o_pixels: \", o_pixels)\n",
    "    e_mask = mask\n",
    "    pixels = np.sum(e_mask)\n",
    "    while pixels >= 0.01 * o_pixels:\n",
    "        \n",
    "#         e_mask = binary_erosion(e_mask, square(3))\n",
    "        e_mask_t = erosion(e_mask, np.ones((3,3)))\n",
    "        pixels = np.sum(e_mask_t)\n",
    "        \n",
    "        if pixels != 0:\n",
    "            e_mask = e_mask_t\n",
    "        \n",
    "    print(pixels)\n",
    "    \n",
    "    return e_mask"
   ]
  },
  {
   "cell_type": "code",
   "execution_count": null,
   "id": "71c5ca51",
   "metadata": {},
   "outputs": [],
   "source": [
    "mask_names = get_masks(im_name)\n",
    "print(mask_names)\n",
    "print(image.shape)\n",
    "# mask = np.zeros(image.shape[:2])\n",
    "# mask_og = np.zeros(image.shape[:2])\n",
    "mask = np.zeros((224, 224))\n",
    "mask_og = np.zeros((224, 224))\n",
    "\n",
    "masks_og = list()\n",
    "\n",
    "for f in mask_names:\n",
    "    \n",
    "#     mask_f = io.imread(f)\n",
    "    mask_f = io.imread(f)\n",
    "    print(0 in mask_f, 1 in mask_f, 2 in mask_f, 3 in mask_f)\n",
    "    print(type(mask_f))\n",
    "    \n",
    "    M1 = ((mask_f == 1) * 1.0)\n",
    "    M2 = ((mask_f == 2) * 1.0)\n",
    "    M3 = ((mask_f == 3) * 1.0)\n",
    "\n",
    "    mask_f = M1 + M3\n",
    "    \n",
    "    #resizing op\n",
    "#     mask_f = resize(mask_f, (224,224))\n",
    "    mask_f = resize(mask_f, (222,222))\n",
    "    \n",
    "    mask_f = np.pad(mask_f, ((1,1),(1,1)), 'constant', constant_values=(0))\n",
    "    \n",
    "    print(0 in mask_f, 1 in mask_f, 2 in mask_f, 3 in mask_f)\n",
    "    \n",
    "#     M1 = ((mask_f == 1) * 1.0)\n",
    "#     M2 = ((mask_f == 2) * 1.0)\n",
    "#     M3 = ((mask_f == 3) * 1.0)\n",
    "\n",
    "#     mask_f = M1 + M3\n",
    "    \n",
    "    masks_og.append(mask_f)\n",
    "    ##do erosion\n",
    "    \n",
    "    e_mask = eroded_mask(mask_f)\n",
    "    mask_og += mask_f\n",
    "\n",
    "    mask += e_mask"
   ]
  },
  {
   "cell_type": "code",
   "execution_count": null,
   "id": "41905ac1",
   "metadata": {},
   "outputs": [],
   "source": [
    "print(np.sum((mask_f == 3) * 1.0))"
   ]
  },
  {
   "cell_type": "code",
   "execution_count": null,
   "id": "32ec0f1e",
   "metadata": {},
   "outputs": [],
   "source": [
    "fig, ax = plt.subplots(figsize=(10, 10))\n",
    "ax.imshow(mask)"
   ]
  },
  {
   "cell_type": "code",
   "execution_count": null,
   "id": "d3481b60",
   "metadata": {},
   "outputs": [],
   "source": [
    "fig, ax = plt.subplots(figsize=(10, 10))\n",
    "ax.imshow(mask_og)\n",
    "# ax.imshow(square(3))"
   ]
  },
  {
   "cell_type": "code",
   "execution_count": null,
   "id": "85404ef3",
   "metadata": {},
   "outputs": [],
   "source": [
    "# tmask = io.imread('../Datasets/Dataset_BUSI_with_GT/benign/benign (100)_mask_1.png')\n",
    "\n",
    "# fig, ax = plt.subplots(figsize=(10, 10))\n",
    "# ax.imshow(tmask)"
   ]
  },
  {
   "cell_type": "code",
   "execution_count": null,
   "id": "75995c43",
   "metadata": {},
   "outputs": [],
   "source": [
    "a = np.array([[1,2,3], [4,5,6]])\n",
    "b = np.pad(a, ((1,1),(1,1)), 'constant', constant_values=(0))"
   ]
  },
  {
   "cell_type": "code",
   "execution_count": null,
   "id": "1bc4d11d",
   "metadata": {},
   "outputs": [],
   "source": [
    "print(a.shape, b.shape)"
   ]
  },
  {
   "cell_type": "code",
   "execution_count": null,
   "id": "f217ea99",
   "metadata": {},
   "outputs": [],
   "source": [
    "print(a)\n",
    "print(b)"
   ]
  },
  {
   "cell_type": "code",
   "execution_count": null,
   "id": "b49cbcc0",
   "metadata": {},
   "outputs": [],
   "source": []
  }
 ],
 "metadata": {
  "kernelspec": {
   "display_name": "Python 3 (ipykernel)",
   "language": "python",
   "name": "python3"
  },
  "language_info": {
   "codemirror_mode": {
    "name": "ipython",
    "version": 3
   },
   "file_extension": ".py",
   "mimetype": "text/x-python",
   "name": "python",
   "nbconvert_exporter": "python",
   "pygments_lexer": "ipython3",
   "version": "3.10.13"
  }
 },
 "nbformat": 4,
 "nbformat_minor": 5
}
