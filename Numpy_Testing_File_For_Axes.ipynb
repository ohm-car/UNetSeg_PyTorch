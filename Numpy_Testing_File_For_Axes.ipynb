{
 "cells": [
  {
   "cell_type": "code",
   "execution_count": null,
   "id": "6df366cf",
   "metadata": {},
   "outputs": [],
   "source": [
    "import numpy as np"
   ]
  },
  {
   "cell_type": "code",
   "execution_count": null,
   "id": "f0d10b9e",
   "metadata": {},
   "outputs": [],
   "source": [
    "A = np.array([[[True, False, True], [True, True, False]], [[False, False, True], [False, True, False]]])"
   ]
  },
  {
   "cell_type": "code",
   "execution_count": null,
   "id": "ebc789cb",
   "metadata": {},
   "outputs": [],
   "source": [
    "A.shape"
   ]
  },
  {
   "cell_type": "code",
   "execution_count": null,
   "id": "0e056259",
   "metadata": {},
   "outputs": [],
   "source": [
    "A*[1,1,1]"
   ]
  },
  {
   "cell_type": "code",
   "execution_count": null,
   "id": "aad9f070",
   "metadata": {},
   "outputs": [],
   "source": [
    "B = np.array([[True, False], [False, True]])"
   ]
  },
  {
   "cell_type": "code",
   "execution_count": null,
   "id": "77262cc8",
   "metadata": {},
   "outputs": [],
   "source": [
    "B.shape"
   ]
  },
  {
   "cell_type": "code",
   "execution_count": null,
   "id": "8ddb00fb",
   "metadata": {},
   "outputs": [],
   "source": [
    "C = np.expand_dims(B, axis = 2)"
   ]
  },
  {
   "cell_type": "code",
   "execution_count": null,
   "id": "67c4a762",
   "metadata": {},
   "outputs": [],
   "source": [
    "C.shape"
   ]
  },
  {
   "cell_type": "code",
   "execution_count": null,
   "id": "b2b0d986",
   "metadata": {},
   "outputs": [],
   "source": [
    "D = np.append(C,C, axis = 2)"
   ]
  },
  {
   "cell_type": "code",
   "execution_count": null,
   "id": "a3df6bc5",
   "metadata": {},
   "outputs": [],
   "source": [
    "D"
   ]
  },
  {
   "cell_type": "code",
   "execution_count": null,
   "id": "daa1401b",
   "metadata": {},
   "outputs": [],
   "source": [
    "E = np.append(D,C,axis = 2)"
   ]
  },
  {
   "cell_type": "code",
   "execution_count": null,
   "id": "a45290a7",
   "metadata": {},
   "outputs": [],
   "source": [
    "E"
   ]
  },
  {
   "cell_type": "code",
   "execution_count": null,
   "id": "36af4fe2",
   "metadata": {},
   "outputs": [],
   "source": [
    "E * [1,0,1]"
   ]
  },
  {
   "cell_type": "code",
   "execution_count": null,
   "id": "928daa1f",
   "metadata": {},
   "outputs": [],
   "source": []
  }
 ],
 "metadata": {
  "kernelspec": {
   "display_name": "Python 3 (ipykernel)",
   "language": "python",
   "name": "python3"
  },
  "language_info": {
   "codemirror_mode": {
    "name": "ipython",
    "version": 3
   },
   "file_extension": ".py",
   "mimetype": "text/x-python",
   "name": "python",
   "nbconvert_exporter": "python",
   "pygments_lexer": "ipython3",
   "version": "3.10.13"
  }
 },
 "nbformat": 4,
 "nbformat_minor": 5
}
